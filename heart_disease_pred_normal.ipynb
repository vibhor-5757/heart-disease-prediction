{
  "cells": [
    {
      "cell_type": "markdown",
      "metadata": {
        "id": "UyZFP7bEIXLM"
      },
      "source": [
        "link of data used: [heart disease dataset](https://archive.ics.uci.edu/dataset/45/heart+disease)"
      ]
    },
    {
      "cell_type": "code",
      "execution_count": 386,
      "metadata": {
        "id": "_EwcmZqRIpUV"
      },
      "outputs": [],
      "source": [
        "import pandas as pd\n",
        "import matplotlib.pyplot as plt\n",
        "import seaborn as sns\n",
        "import numpy as np\n",
        "from sklearn.preprocessing import StandardScaler, OneHotEncoder\n"
      ]
    },
    {
      "cell_type": "markdown",
      "source": [
        "#Loading the data"
      ],
      "metadata": {
        "id": "hBY58jnBZf3w"
      }
    },
    {
      "cell_type": "code",
      "source": [
        "!pip install ucimlrepo"
      ],
      "metadata": {
        "colab": {
          "base_uri": "https://localhost:8080/"
        },
        "id": "Lvwr1-oCZn8j",
        "outputId": "c6c1322d-a2df-42c0-cd22-4868dac1c67d"
      },
      "execution_count": 387,
      "outputs": [
        {
          "output_type": "stream",
          "name": "stdout",
          "text": [
            "Requirement already satisfied: ucimlrepo in /usr/local/lib/python3.10/dist-packages (0.0.7)\n",
            "Requirement already satisfied: pandas>=1.0.0 in /usr/local/lib/python3.10/dist-packages (from ucimlrepo) (2.1.4)\n",
            "Requirement already satisfied: certifi>=2020.12.5 in /usr/local/lib/python3.10/dist-packages (from ucimlrepo) (2024.7.4)\n",
            "Requirement already satisfied: numpy<2,>=1.22.4 in /usr/local/lib/python3.10/dist-packages (from pandas>=1.0.0->ucimlrepo) (1.26.4)\n",
            "Requirement already satisfied: python-dateutil>=2.8.2 in /usr/local/lib/python3.10/dist-packages (from pandas>=1.0.0->ucimlrepo) (2.8.2)\n",
            "Requirement already satisfied: pytz>=2020.1 in /usr/local/lib/python3.10/dist-packages (from pandas>=1.0.0->ucimlrepo) (2024.1)\n",
            "Requirement already satisfied: tzdata>=2022.1 in /usr/local/lib/python3.10/dist-packages (from pandas>=1.0.0->ucimlrepo) (2024.1)\n",
            "Requirement already satisfied: six>=1.5 in /usr/local/lib/python3.10/dist-packages (from python-dateutil>=2.8.2->pandas>=1.0.0->ucimlrepo) (1.16.0)\n"
          ]
        }
      ]
    },
    {
      "cell_type": "code",
      "source": [
        "from ucimlrepo import fetch_ucirepo\n",
        "\n",
        "# fetch dataset\n",
        "heart_disease = fetch_ucirepo(id=45)\n",
        "\n",
        "# data (as pandas dataframes)\n",
        "X = heart_disease.data.features\n",
        "y = heart_disease.data.targets\n",
        "\n",
        "# metadata\n",
        "print(heart_disease.metadata)\n",
        "\n",
        "# variable information\n",
        "print(heart_disease.variables)\n"
      ],
      "metadata": {
        "colab": {
          "base_uri": "https://localhost:8080/"
        },
        "id": "C4fyag34Zhr9",
        "outputId": "c6a7ce8e-20a4-4d74-84bf-35aa4bb109ab"
      },
      "execution_count": 388,
      "outputs": [
        {
          "output_type": "stream",
          "name": "stdout",
          "text": [
            "{'uci_id': 45, 'name': 'Heart Disease', 'repository_url': 'https://archive.ics.uci.edu/dataset/45/heart+disease', 'data_url': 'https://archive.ics.uci.edu/static/public/45/data.csv', 'abstract': '4 databases: Cleveland, Hungary, Switzerland, and the VA Long Beach', 'area': 'Health and Medicine', 'tasks': ['Classification'], 'characteristics': ['Multivariate'], 'num_instances': 303, 'num_features': 13, 'feature_types': ['Categorical', 'Integer', 'Real'], 'demographics': ['Age', 'Sex'], 'target_col': ['num'], 'index_col': None, 'has_missing_values': 'yes', 'missing_values_symbol': 'NaN', 'year_of_dataset_creation': 1989, 'last_updated': 'Fri Nov 03 2023', 'dataset_doi': '10.24432/C52P4X', 'creators': ['Andras Janosi', 'William Steinbrunn', 'Matthias Pfisterer', 'Robert Detrano'], 'intro_paper': {'title': 'International application of a new probability algorithm for the diagnosis of coronary artery disease.', 'authors': 'R. Detrano, A. Jánosi, W. Steinbrunn, M. Pfisterer, J. Schmid, S. Sandhu, K. Guppy, S. Lee, V. Froelicher', 'published_in': 'American Journal of Cardiology', 'year': 1989, 'url': 'https://www.semanticscholar.org/paper/a7d714f8f87bfc41351eb5ae1e5472f0ebbe0574', 'doi': None}, 'additional_info': {'summary': 'This database contains 76 attributes, but all published experiments refer to using a subset of 14 of them.  In particular, the Cleveland database is the only one that has been used by ML researchers to date.  The \"goal\" field refers to the presence of heart disease in the patient.  It is integer valued from 0 (no presence) to 4. Experiments with the Cleveland database have concentrated on simply attempting to distinguish presence (values 1,2,3,4) from absence (value 0).  \\n   \\nThe names and social security numbers of the patients were recently removed from the database, replaced with dummy values.\\n\\nOne file has been \"processed\", that one containing the Cleveland database.  All four unprocessed files also exist in this directory.\\n\\nTo see Test Costs (donated by Peter Turney), please see the folder \"Costs\" ', 'purpose': None, 'funded_by': None, 'instances_represent': None, 'recommended_data_splits': None, 'sensitive_data': None, 'preprocessing_description': None, 'variable_info': 'Only 14 attributes used:\\r\\n      1. #3  (age)       \\r\\n      2. #4  (sex)       \\r\\n      3. #9  (cp)        \\r\\n      4. #10 (trestbps)  \\r\\n      5. #12 (chol)      \\r\\n      6. #16 (fbs)       \\r\\n      7. #19 (restecg)   \\r\\n      8. #32 (thalach)   \\r\\n      9. #38 (exang)     \\r\\n      10. #40 (oldpeak)   \\r\\n      11. #41 (slope)     \\r\\n      12. #44 (ca)        \\r\\n      13. #51 (thal)      \\r\\n      14. #58 (num)       (the predicted attribute)\\r\\n\\r\\nComplete attribute documentation:\\r\\n      1 id: patient identification number\\r\\n      2 ccf: social security number (I replaced this with a dummy value of 0)\\r\\n      3 age: age in years\\r\\n      4 sex: sex (1 = male; 0 = female)\\r\\n      5 painloc: chest pain location (1 = substernal; 0 = otherwise)\\r\\n      6 painexer (1 = provoked by exertion; 0 = otherwise)\\r\\n      7 relrest (1 = relieved after rest; 0 = otherwise)\\r\\n      8 pncaden (sum of 5, 6, and 7)\\r\\n      9 cp: chest pain type\\r\\n        -- Value 1: typical angina\\r\\n        -- Value 2: atypical angina\\r\\n        -- Value 3: non-anginal pain\\r\\n        -- Value 4: asymptomatic\\r\\n     10 trestbps: resting blood pressure (in mm Hg on admission to the hospital)\\r\\n     11 htn\\r\\n     12 chol: serum cholestoral in mg/dl\\r\\n     13 smoke: I believe this is 1 = yes; 0 = no (is or is not a smoker)\\r\\n     14 cigs (cigarettes per day)\\r\\n     15 years (number of years as a smoker)\\r\\n     16 fbs: (fasting blood sugar > 120 mg/dl)  (1 = true; 0 = false)\\r\\n     17 dm (1 = history of diabetes; 0 = no such history)\\r\\n     18 famhist: family history of coronary artery disease (1 = yes; 0 = no)\\r\\n     19 restecg: resting electrocardiographic results\\r\\n        -- Value 0: normal\\r\\n        -- Value 1: having ST-T wave abnormality (T wave inversions and/or ST elevation or depression of > 0.05 mV)\\r\\n        -- Value 2: showing probable or definite left ventricular hypertrophy by Estes\\' criteria\\r\\n     20 ekgmo (month of exercise ECG reading)\\r\\n     21 ekgday(day of exercise ECG reading)\\r\\n     22 ekgyr (year of exercise ECG reading)\\r\\n     23 dig (digitalis used furing exercise ECG: 1 = yes; 0 = no)\\r\\n     24 prop (Beta blocker used during exercise ECG: 1 = yes; 0 = no)\\r\\n     25 nitr (nitrates used during exercise ECG: 1 = yes; 0 = no)\\r\\n     26 pro (calcium channel blocker used during exercise ECG: 1 = yes; 0 = no)\\r\\n     27 diuretic (diuretic used used during exercise ECG: 1 = yes; 0 = no)\\r\\n     28 proto: exercise protocol\\r\\n          1 = Bruce     \\r\\n          2 = Kottus\\r\\n          3 = McHenry\\r\\n          4 = fast Balke\\r\\n          5 = Balke\\r\\n          6 = Noughton \\r\\n          7 = bike 150 kpa min/min  (Not sure if \"kpa min/min\" is what was written!)\\r\\n          8 = bike 125 kpa min/min  \\r\\n          9 = bike 100 kpa min/min\\r\\n         10 = bike 75 kpa min/min\\r\\n         11 = bike 50 kpa min/min\\r\\n         12 = arm ergometer\\r\\n     29 thaldur: duration of exercise test in minutes\\r\\n     30 thaltime: time when ST measure depression was noted\\r\\n     31 met: mets achieved\\r\\n     32 thalach: maximum heart rate achieved\\r\\n     33 thalrest: resting heart rate\\r\\n     34 tpeakbps: peak exercise blood pressure (first of 2 parts)\\r\\n     35 tpeakbpd: peak exercise blood pressure (second of 2 parts)\\r\\n     36 dummy\\r\\n     37 trestbpd: resting blood pressure\\r\\n     38 exang: exercise induced angina (1 = yes; 0 = no)\\r\\n     39 xhypo: (1 = yes; 0 = no)\\r\\n     40 oldpeak = ST depression induced by exercise relative to rest\\r\\n     41 slope: the slope of the peak exercise ST segment\\r\\n        -- Value 1: upsloping\\r\\n        -- Value 2: flat\\r\\n        -- Value 3: downsloping\\r\\n     42 rldv5: height at rest\\r\\n     43 rldv5e: height at peak exercise\\r\\n     44 ca: number of major vessels (0-3) colored by flourosopy\\r\\n     45 restckm: irrelevant\\r\\n     46 exerckm: irrelevant\\r\\n     47 restef: rest raidonuclid (sp?) ejection fraction\\r\\n     48 restwm: rest wall (sp?) motion abnormality\\r\\n        0 = none\\r\\n        1 = mild or moderate\\r\\n        2 = moderate or severe\\r\\n        3 = akinesis or dyskmem (sp?)\\r\\n     49 exeref: exercise radinalid (sp?) ejection fraction\\r\\n     50 exerwm: exercise wall (sp?) motion \\r\\n     51 thal: 3 = normal; 6 = fixed defect; 7 = reversable defect\\r\\n     52 thalsev: not used\\r\\n     53 thalpul: not used\\r\\n     54 earlobe: not used\\r\\n     55 cmo: month of cardiac cath (sp?)  (perhaps \"call\")\\r\\n     56 cday: day of cardiac cath (sp?)\\r\\n     57 cyr: year of cardiac cath (sp?)\\r\\n     58 num: diagnosis of heart disease (angiographic disease status)\\r\\n        -- Value 0: < 50% diameter narrowing\\r\\n        -- Value 1: > 50% diameter narrowing\\r\\n        (in any major vessel: attributes 59 through 68 are vessels)\\r\\n     59 lmt\\r\\n     60 ladprox\\r\\n     61 laddist\\r\\n     62 diag\\r\\n     63 cxmain\\r\\n     64 ramus\\r\\n     65 om1\\r\\n     66 om2\\r\\n     67 rcaprox\\r\\n     68 rcadist\\r\\n     69 lvx1: not used\\r\\n     70 lvx2: not used\\r\\n     71 lvx3: not used\\r\\n     72 lvx4: not used\\r\\n     73 lvf: not used\\r\\n     74 cathef: not used\\r\\n     75 junk: not used\\r\\n     76 name: last name of patient  (I replaced this with the dummy string \"name\")', 'citation': None}}\n",
            "        name     role         type demographic  \\\n",
            "0        age  Feature      Integer         Age   \n",
            "1        sex  Feature  Categorical         Sex   \n",
            "2         cp  Feature  Categorical        None   \n",
            "3   trestbps  Feature      Integer        None   \n",
            "4       chol  Feature      Integer        None   \n",
            "5        fbs  Feature  Categorical        None   \n",
            "6    restecg  Feature  Categorical        None   \n",
            "7    thalach  Feature      Integer        None   \n",
            "8      exang  Feature  Categorical        None   \n",
            "9    oldpeak  Feature      Integer        None   \n",
            "10     slope  Feature  Categorical        None   \n",
            "11        ca  Feature      Integer        None   \n",
            "12      thal  Feature  Categorical        None   \n",
            "13       num   Target      Integer        None   \n",
            "\n",
            "                                          description  units missing_values  \n",
            "0                                                None  years             no  \n",
            "1                                                None   None             no  \n",
            "2                                                None   None             no  \n",
            "3   resting blood pressure (on admission to the ho...  mm Hg             no  \n",
            "4                                   serum cholestoral  mg/dl             no  \n",
            "5                     fasting blood sugar > 120 mg/dl   None             no  \n",
            "6                                                None   None             no  \n",
            "7                         maximum heart rate achieved   None             no  \n",
            "8                             exercise induced angina   None             no  \n",
            "9   ST depression induced by exercise relative to ...   None             no  \n",
            "10                                               None   None             no  \n",
            "11  number of major vessels (0-3) colored by flour...   None            yes  \n",
            "12                                               None   None            yes  \n",
            "13                         diagnosis of heart disease   None             no  \n"
          ]
        }
      ]
    },
    {
      "cell_type": "code",
      "source": [
        "df = pd.concat([X, y], axis=1)"
      ],
      "metadata": {
        "id": "hyEp_or1hAWM"
      },
      "execution_count": 389,
      "outputs": []
    },
    {
      "cell_type": "markdown",
      "metadata": {
        "id": "oII9BW_iNDU-"
      },
      "source": [
        "# **understanding data**"
      ]
    },
    {
      "cell_type": "code",
      "execution_count": 390,
      "metadata": {
        "colab": {
          "base_uri": "https://localhost:8080/",
          "height": 382
        },
        "id": "U8ftCFQlJokw",
        "outputId": "699d7fe8-4579-45f5-8694-715e23a9388c"
      },
      "outputs": [
        {
          "output_type": "execute_result",
          "data": {
            "text/plain": [
              "   age  sex  cp  trestbps  chol  fbs  restecg  thalach  exang  oldpeak  slope  \\\n",
              "0   63    1   1       145   233    1        2      150      0      2.3      3   \n",
              "1   67    1   4       160   286    0        2      108      1      1.5      2   \n",
              "2   67    1   4       120   229    0        2      129      1      2.6      2   \n",
              "3   37    1   3       130   250    0        0      187      0      3.5      3   \n",
              "4   41    0   2       130   204    0        2      172      0      1.4      1   \n",
              "5   56    1   2       120   236    0        0      178      0      0.8      1   \n",
              "6   62    0   4       140   268    0        2      160      0      3.6      3   \n",
              "7   57    0   4       120   354    0        0      163      1      0.6      1   \n",
              "8   63    1   4       130   254    0        2      147      0      1.4      2   \n",
              "9   53    1   4       140   203    1        2      155      1      3.1      3   \n",
              "\n",
              "    ca  thal  num  \n",
              "0  0.0   6.0    0  \n",
              "1  3.0   3.0    2  \n",
              "2  2.0   7.0    1  \n",
              "3  0.0   3.0    0  \n",
              "4  0.0   3.0    0  \n",
              "5  0.0   3.0    0  \n",
              "6  2.0   3.0    3  \n",
              "7  0.0   3.0    0  \n",
              "8  1.0   7.0    2  \n",
              "9  0.0   7.0    1  "
            ],
            "text/html": [
              "\n",
              "  <div id=\"df-330c47f5-9002-4b7b-a0d1-b5691d866c6e\" class=\"colab-df-container\">\n",
              "    <div>\n",
              "<style scoped>\n",
              "    .dataframe tbody tr th:only-of-type {\n",
              "        vertical-align: middle;\n",
              "    }\n",
              "\n",
              "    .dataframe tbody tr th {\n",
              "        vertical-align: top;\n",
              "    }\n",
              "\n",
              "    .dataframe thead th {\n",
              "        text-align: right;\n",
              "    }\n",
              "</style>\n",
              "<table border=\"1\" class=\"dataframe\">\n",
              "  <thead>\n",
              "    <tr style=\"text-align: right;\">\n",
              "      <th></th>\n",
              "      <th>age</th>\n",
              "      <th>sex</th>\n",
              "      <th>cp</th>\n",
              "      <th>trestbps</th>\n",
              "      <th>chol</th>\n",
              "      <th>fbs</th>\n",
              "      <th>restecg</th>\n",
              "      <th>thalach</th>\n",
              "      <th>exang</th>\n",
              "      <th>oldpeak</th>\n",
              "      <th>slope</th>\n",
              "      <th>ca</th>\n",
              "      <th>thal</th>\n",
              "      <th>num</th>\n",
              "    </tr>\n",
              "  </thead>\n",
              "  <tbody>\n",
              "    <tr>\n",
              "      <th>0</th>\n",
              "      <td>63</td>\n",
              "      <td>1</td>\n",
              "      <td>1</td>\n",
              "      <td>145</td>\n",
              "      <td>233</td>\n",
              "      <td>1</td>\n",
              "      <td>2</td>\n",
              "      <td>150</td>\n",
              "      <td>0</td>\n",
              "      <td>2.3</td>\n",
              "      <td>3</td>\n",
              "      <td>0.0</td>\n",
              "      <td>6.0</td>\n",
              "      <td>0</td>\n",
              "    </tr>\n",
              "    <tr>\n",
              "      <th>1</th>\n",
              "      <td>67</td>\n",
              "      <td>1</td>\n",
              "      <td>4</td>\n",
              "      <td>160</td>\n",
              "      <td>286</td>\n",
              "      <td>0</td>\n",
              "      <td>2</td>\n",
              "      <td>108</td>\n",
              "      <td>1</td>\n",
              "      <td>1.5</td>\n",
              "      <td>2</td>\n",
              "      <td>3.0</td>\n",
              "      <td>3.0</td>\n",
              "      <td>2</td>\n",
              "    </tr>\n",
              "    <tr>\n",
              "      <th>2</th>\n",
              "      <td>67</td>\n",
              "      <td>1</td>\n",
              "      <td>4</td>\n",
              "      <td>120</td>\n",
              "      <td>229</td>\n",
              "      <td>0</td>\n",
              "      <td>2</td>\n",
              "      <td>129</td>\n",
              "      <td>1</td>\n",
              "      <td>2.6</td>\n",
              "      <td>2</td>\n",
              "      <td>2.0</td>\n",
              "      <td>7.0</td>\n",
              "      <td>1</td>\n",
              "    </tr>\n",
              "    <tr>\n",
              "      <th>3</th>\n",
              "      <td>37</td>\n",
              "      <td>1</td>\n",
              "      <td>3</td>\n",
              "      <td>130</td>\n",
              "      <td>250</td>\n",
              "      <td>0</td>\n",
              "      <td>0</td>\n",
              "      <td>187</td>\n",
              "      <td>0</td>\n",
              "      <td>3.5</td>\n",
              "      <td>3</td>\n",
              "      <td>0.0</td>\n",
              "      <td>3.0</td>\n",
              "      <td>0</td>\n",
              "    </tr>\n",
              "    <tr>\n",
              "      <th>4</th>\n",
              "      <td>41</td>\n",
              "      <td>0</td>\n",
              "      <td>2</td>\n",
              "      <td>130</td>\n",
              "      <td>204</td>\n",
              "      <td>0</td>\n",
              "      <td>2</td>\n",
              "      <td>172</td>\n",
              "      <td>0</td>\n",
              "      <td>1.4</td>\n",
              "      <td>1</td>\n",
              "      <td>0.0</td>\n",
              "      <td>3.0</td>\n",
              "      <td>0</td>\n",
              "    </tr>\n",
              "    <tr>\n",
              "      <th>5</th>\n",
              "      <td>56</td>\n",
              "      <td>1</td>\n",
              "      <td>2</td>\n",
              "      <td>120</td>\n",
              "      <td>236</td>\n",
              "      <td>0</td>\n",
              "      <td>0</td>\n",
              "      <td>178</td>\n",
              "      <td>0</td>\n",
              "      <td>0.8</td>\n",
              "      <td>1</td>\n",
              "      <td>0.0</td>\n",
              "      <td>3.0</td>\n",
              "      <td>0</td>\n",
              "    </tr>\n",
              "    <tr>\n",
              "      <th>6</th>\n",
              "      <td>62</td>\n",
              "      <td>0</td>\n",
              "      <td>4</td>\n",
              "      <td>140</td>\n",
              "      <td>268</td>\n",
              "      <td>0</td>\n",
              "      <td>2</td>\n",
              "      <td>160</td>\n",
              "      <td>0</td>\n",
              "      <td>3.6</td>\n",
              "      <td>3</td>\n",
              "      <td>2.0</td>\n",
              "      <td>3.0</td>\n",
              "      <td>3</td>\n",
              "    </tr>\n",
              "    <tr>\n",
              "      <th>7</th>\n",
              "      <td>57</td>\n",
              "      <td>0</td>\n",
              "      <td>4</td>\n",
              "      <td>120</td>\n",
              "      <td>354</td>\n",
              "      <td>0</td>\n",
              "      <td>0</td>\n",
              "      <td>163</td>\n",
              "      <td>1</td>\n",
              "      <td>0.6</td>\n",
              "      <td>1</td>\n",
              "      <td>0.0</td>\n",
              "      <td>3.0</td>\n",
              "      <td>0</td>\n",
              "    </tr>\n",
              "    <tr>\n",
              "      <th>8</th>\n",
              "      <td>63</td>\n",
              "      <td>1</td>\n",
              "      <td>4</td>\n",
              "      <td>130</td>\n",
              "      <td>254</td>\n",
              "      <td>0</td>\n",
              "      <td>2</td>\n",
              "      <td>147</td>\n",
              "      <td>0</td>\n",
              "      <td>1.4</td>\n",
              "      <td>2</td>\n",
              "      <td>1.0</td>\n",
              "      <td>7.0</td>\n",
              "      <td>2</td>\n",
              "    </tr>\n",
              "    <tr>\n",
              "      <th>9</th>\n",
              "      <td>53</td>\n",
              "      <td>1</td>\n",
              "      <td>4</td>\n",
              "      <td>140</td>\n",
              "      <td>203</td>\n",
              "      <td>1</td>\n",
              "      <td>2</td>\n",
              "      <td>155</td>\n",
              "      <td>1</td>\n",
              "      <td>3.1</td>\n",
              "      <td>3</td>\n",
              "      <td>0.0</td>\n",
              "      <td>7.0</td>\n",
              "      <td>1</td>\n",
              "    </tr>\n",
              "  </tbody>\n",
              "</table>\n",
              "</div>\n",
              "    <div class=\"colab-df-buttons\">\n",
              "\n",
              "  <div class=\"colab-df-container\">\n",
              "    <button class=\"colab-df-convert\" onclick=\"convertToInteractive('df-330c47f5-9002-4b7b-a0d1-b5691d866c6e')\"\n",
              "            title=\"Convert this dataframe to an interactive table.\"\n",
              "            style=\"display:none;\">\n",
              "\n",
              "  <svg xmlns=\"http://www.w3.org/2000/svg\" height=\"24px\" viewBox=\"0 -960 960 960\">\n",
              "    <path d=\"M120-120v-720h720v720H120Zm60-500h600v-160H180v160Zm220 220h160v-160H400v160Zm0 220h160v-160H400v160ZM180-400h160v-160H180v160Zm440 0h160v-160H620v160ZM180-180h160v-160H180v160Zm440 0h160v-160H620v160Z\"/>\n",
              "  </svg>\n",
              "    </button>\n",
              "\n",
              "  <style>\n",
              "    .colab-df-container {\n",
              "      display:flex;\n",
              "      gap: 12px;\n",
              "    }\n",
              "\n",
              "    .colab-df-convert {\n",
              "      background-color: #E8F0FE;\n",
              "      border: none;\n",
              "      border-radius: 50%;\n",
              "      cursor: pointer;\n",
              "      display: none;\n",
              "      fill: #1967D2;\n",
              "      height: 32px;\n",
              "      padding: 0 0 0 0;\n",
              "      width: 32px;\n",
              "    }\n",
              "\n",
              "    .colab-df-convert:hover {\n",
              "      background-color: #E2EBFA;\n",
              "      box-shadow: 0px 1px 2px rgba(60, 64, 67, 0.3), 0px 1px 3px 1px rgba(60, 64, 67, 0.15);\n",
              "      fill: #174EA6;\n",
              "    }\n",
              "\n",
              "    .colab-df-buttons div {\n",
              "      margin-bottom: 4px;\n",
              "    }\n",
              "\n",
              "    [theme=dark] .colab-df-convert {\n",
              "      background-color: #3B4455;\n",
              "      fill: #D2E3FC;\n",
              "    }\n",
              "\n",
              "    [theme=dark] .colab-df-convert:hover {\n",
              "      background-color: #434B5C;\n",
              "      box-shadow: 0px 1px 3px 1px rgba(0, 0, 0, 0.15);\n",
              "      filter: drop-shadow(0px 1px 2px rgba(0, 0, 0, 0.3));\n",
              "      fill: #FFFFFF;\n",
              "    }\n",
              "  </style>\n",
              "\n",
              "    <script>\n",
              "      const buttonEl =\n",
              "        document.querySelector('#df-330c47f5-9002-4b7b-a0d1-b5691d866c6e button.colab-df-convert');\n",
              "      buttonEl.style.display =\n",
              "        google.colab.kernel.accessAllowed ? 'block' : 'none';\n",
              "\n",
              "      async function convertToInteractive(key) {\n",
              "        const element = document.querySelector('#df-330c47f5-9002-4b7b-a0d1-b5691d866c6e');\n",
              "        const dataTable =\n",
              "          await google.colab.kernel.invokeFunction('convertToInteractive',\n",
              "                                                    [key], {});\n",
              "        if (!dataTable) return;\n",
              "\n",
              "        const docLinkHtml = 'Like what you see? Visit the ' +\n",
              "          '<a target=\"_blank\" href=https://colab.research.google.com/notebooks/data_table.ipynb>data table notebook</a>'\n",
              "          + ' to learn more about interactive tables.';\n",
              "        element.innerHTML = '';\n",
              "        dataTable['output_type'] = 'display_data';\n",
              "        await google.colab.output.renderOutput(dataTable, element);\n",
              "        const docLink = document.createElement('div');\n",
              "        docLink.innerHTML = docLinkHtml;\n",
              "        element.appendChild(docLink);\n",
              "      }\n",
              "    </script>\n",
              "  </div>\n",
              "\n",
              "\n",
              "<div id=\"df-9786b5b2-c02b-46a3-aa9c-41acba340e0e\">\n",
              "  <button class=\"colab-df-quickchart\" onclick=\"quickchart('df-9786b5b2-c02b-46a3-aa9c-41acba340e0e')\"\n",
              "            title=\"Suggest charts\"\n",
              "            style=\"display:none;\">\n",
              "\n",
              "<svg xmlns=\"http://www.w3.org/2000/svg\" height=\"24px\"viewBox=\"0 0 24 24\"\n",
              "     width=\"24px\">\n",
              "    <g>\n",
              "        <path d=\"M19 3H5c-1.1 0-2 .9-2 2v14c0 1.1.9 2 2 2h14c1.1 0 2-.9 2-2V5c0-1.1-.9-2-2-2zM9 17H7v-7h2v7zm4 0h-2V7h2v10zm4 0h-2v-4h2v4z\"/>\n",
              "    </g>\n",
              "</svg>\n",
              "  </button>\n",
              "\n",
              "<style>\n",
              "  .colab-df-quickchart {\n",
              "      --bg-color: #E8F0FE;\n",
              "      --fill-color: #1967D2;\n",
              "      --hover-bg-color: #E2EBFA;\n",
              "      --hover-fill-color: #174EA6;\n",
              "      --disabled-fill-color: #AAA;\n",
              "      --disabled-bg-color: #DDD;\n",
              "  }\n",
              "\n",
              "  [theme=dark] .colab-df-quickchart {\n",
              "      --bg-color: #3B4455;\n",
              "      --fill-color: #D2E3FC;\n",
              "      --hover-bg-color: #434B5C;\n",
              "      --hover-fill-color: #FFFFFF;\n",
              "      --disabled-bg-color: #3B4455;\n",
              "      --disabled-fill-color: #666;\n",
              "  }\n",
              "\n",
              "  .colab-df-quickchart {\n",
              "    background-color: var(--bg-color);\n",
              "    border: none;\n",
              "    border-radius: 50%;\n",
              "    cursor: pointer;\n",
              "    display: none;\n",
              "    fill: var(--fill-color);\n",
              "    height: 32px;\n",
              "    padding: 0;\n",
              "    width: 32px;\n",
              "  }\n",
              "\n",
              "  .colab-df-quickchart:hover {\n",
              "    background-color: var(--hover-bg-color);\n",
              "    box-shadow: 0 1px 2px rgba(60, 64, 67, 0.3), 0 1px 3px 1px rgba(60, 64, 67, 0.15);\n",
              "    fill: var(--button-hover-fill-color);\n",
              "  }\n",
              "\n",
              "  .colab-df-quickchart-complete:disabled,\n",
              "  .colab-df-quickchart-complete:disabled:hover {\n",
              "    background-color: var(--disabled-bg-color);\n",
              "    fill: var(--disabled-fill-color);\n",
              "    box-shadow: none;\n",
              "  }\n",
              "\n",
              "  .colab-df-spinner {\n",
              "    border: 2px solid var(--fill-color);\n",
              "    border-color: transparent;\n",
              "    border-bottom-color: var(--fill-color);\n",
              "    animation:\n",
              "      spin 1s steps(1) infinite;\n",
              "  }\n",
              "\n",
              "  @keyframes spin {\n",
              "    0% {\n",
              "      border-color: transparent;\n",
              "      border-bottom-color: var(--fill-color);\n",
              "      border-left-color: var(--fill-color);\n",
              "    }\n",
              "    20% {\n",
              "      border-color: transparent;\n",
              "      border-left-color: var(--fill-color);\n",
              "      border-top-color: var(--fill-color);\n",
              "    }\n",
              "    30% {\n",
              "      border-color: transparent;\n",
              "      border-left-color: var(--fill-color);\n",
              "      border-top-color: var(--fill-color);\n",
              "      border-right-color: var(--fill-color);\n",
              "    }\n",
              "    40% {\n",
              "      border-color: transparent;\n",
              "      border-right-color: var(--fill-color);\n",
              "      border-top-color: var(--fill-color);\n",
              "    }\n",
              "    60% {\n",
              "      border-color: transparent;\n",
              "      border-right-color: var(--fill-color);\n",
              "    }\n",
              "    80% {\n",
              "      border-color: transparent;\n",
              "      border-right-color: var(--fill-color);\n",
              "      border-bottom-color: var(--fill-color);\n",
              "    }\n",
              "    90% {\n",
              "      border-color: transparent;\n",
              "      border-bottom-color: var(--fill-color);\n",
              "    }\n",
              "  }\n",
              "</style>\n",
              "\n",
              "  <script>\n",
              "    async function quickchart(key) {\n",
              "      const quickchartButtonEl =\n",
              "        document.querySelector('#' + key + ' button');\n",
              "      quickchartButtonEl.disabled = true;  // To prevent multiple clicks.\n",
              "      quickchartButtonEl.classList.add('colab-df-spinner');\n",
              "      try {\n",
              "        const charts = await google.colab.kernel.invokeFunction(\n",
              "            'suggestCharts', [key], {});\n",
              "      } catch (error) {\n",
              "        console.error('Error during call to suggestCharts:', error);\n",
              "      }\n",
              "      quickchartButtonEl.classList.remove('colab-df-spinner');\n",
              "      quickchartButtonEl.classList.add('colab-df-quickchart-complete');\n",
              "    }\n",
              "    (() => {\n",
              "      let quickchartButtonEl =\n",
              "        document.querySelector('#df-9786b5b2-c02b-46a3-aa9c-41acba340e0e button');\n",
              "      quickchartButtonEl.style.display =\n",
              "        google.colab.kernel.accessAllowed ? 'block' : 'none';\n",
              "    })();\n",
              "  </script>\n",
              "</div>\n",
              "\n",
              "    </div>\n",
              "  </div>\n"
            ],
            "application/vnd.google.colaboratory.intrinsic+json": {
              "type": "dataframe",
              "variable_name": "df",
              "summary": "{\n  \"name\": \"df\",\n  \"rows\": 303,\n  \"fields\": [\n    {\n      \"column\": \"age\",\n      \"properties\": {\n        \"dtype\": \"number\",\n        \"std\": 9,\n        \"min\": 29,\n        \"max\": 77,\n        \"num_unique_values\": 41,\n        \"samples\": [\n          61,\n          64,\n          44\n        ],\n        \"semantic_type\": \"\",\n        \"description\": \"\"\n      }\n    },\n    {\n      \"column\": \"sex\",\n      \"properties\": {\n        \"dtype\": \"number\",\n        \"std\": 0,\n        \"min\": 0,\n        \"max\": 1,\n        \"num_unique_values\": 2,\n        \"samples\": [\n          0,\n          1\n        ],\n        \"semantic_type\": \"\",\n        \"description\": \"\"\n      }\n    },\n    {\n      \"column\": \"cp\",\n      \"properties\": {\n        \"dtype\": \"number\",\n        \"std\": 0,\n        \"min\": 1,\n        \"max\": 4,\n        \"num_unique_values\": 4,\n        \"samples\": [\n          4,\n          2\n        ],\n        \"semantic_type\": \"\",\n        \"description\": \"\"\n      }\n    },\n    {\n      \"column\": \"trestbps\",\n      \"properties\": {\n        \"dtype\": \"number\",\n        \"std\": 17,\n        \"min\": 94,\n        \"max\": 200,\n        \"num_unique_values\": 50,\n        \"samples\": [\n          124,\n          192\n        ],\n        \"semantic_type\": \"\",\n        \"description\": \"\"\n      }\n    },\n    {\n      \"column\": \"chol\",\n      \"properties\": {\n        \"dtype\": \"number\",\n        \"std\": 51,\n        \"min\": 126,\n        \"max\": 564,\n        \"num_unique_values\": 152,\n        \"samples\": [\n          321,\n          187\n        ],\n        \"semantic_type\": \"\",\n        \"description\": \"\"\n      }\n    },\n    {\n      \"column\": \"fbs\",\n      \"properties\": {\n        \"dtype\": \"number\",\n        \"std\": 0,\n        \"min\": 0,\n        \"max\": 1,\n        \"num_unique_values\": 2,\n        \"samples\": [\n          0,\n          1\n        ],\n        \"semantic_type\": \"\",\n        \"description\": \"\"\n      }\n    },\n    {\n      \"column\": \"restecg\",\n      \"properties\": {\n        \"dtype\": \"number\",\n        \"std\": 0,\n        \"min\": 0,\n        \"max\": 2,\n        \"num_unique_values\": 3,\n        \"samples\": [\n          2,\n          0\n        ],\n        \"semantic_type\": \"\",\n        \"description\": \"\"\n      }\n    },\n    {\n      \"column\": \"thalach\",\n      \"properties\": {\n        \"dtype\": \"number\",\n        \"std\": 22,\n        \"min\": 71,\n        \"max\": 202,\n        \"num_unique_values\": 91,\n        \"samples\": [\n          170,\n          114\n        ],\n        \"semantic_type\": \"\",\n        \"description\": \"\"\n      }\n    },\n    {\n      \"column\": \"exang\",\n      \"properties\": {\n        \"dtype\": \"number\",\n        \"std\": 0,\n        \"min\": 0,\n        \"max\": 1,\n        \"num_unique_values\": 2,\n        \"samples\": [\n          1,\n          0\n        ],\n        \"semantic_type\": \"\",\n        \"description\": \"\"\n      }\n    },\n    {\n      \"column\": \"oldpeak\",\n      \"properties\": {\n        \"dtype\": \"number\",\n        \"std\": 1.1610750220686348,\n        \"min\": 0.0,\n        \"max\": 6.2,\n        \"num_unique_values\": 40,\n        \"samples\": [\n          2.4,\n          0.2\n        ],\n        \"semantic_type\": \"\",\n        \"description\": \"\"\n      }\n    },\n    {\n      \"column\": \"slope\",\n      \"properties\": {\n        \"dtype\": \"number\",\n        \"std\": 0,\n        \"min\": 1,\n        \"max\": 3,\n        \"num_unique_values\": 3,\n        \"samples\": [\n          3,\n          2\n        ],\n        \"semantic_type\": \"\",\n        \"description\": \"\"\n      }\n    },\n    {\n      \"column\": \"ca\",\n      \"properties\": {\n        \"dtype\": \"number\",\n        \"std\": 0.9374383177242163,\n        \"min\": 0.0,\n        \"max\": 3.0,\n        \"num_unique_values\": 4,\n        \"samples\": [\n          3.0,\n          1.0\n        ],\n        \"semantic_type\": \"\",\n        \"description\": \"\"\n      }\n    },\n    {\n      \"column\": \"thal\",\n      \"properties\": {\n        \"dtype\": \"number\",\n        \"std\": 1.939705769378644,\n        \"min\": 3.0,\n        \"max\": 7.0,\n        \"num_unique_values\": 3,\n        \"samples\": [\n          6.0,\n          3.0\n        ],\n        \"semantic_type\": \"\",\n        \"description\": \"\"\n      }\n    },\n    {\n      \"column\": \"num\",\n      \"properties\": {\n        \"dtype\": \"number\",\n        \"std\": 1,\n        \"min\": 0,\n        \"max\": 4,\n        \"num_unique_values\": 5,\n        \"samples\": [\n          2,\n          4\n        ],\n        \"semantic_type\": \"\",\n        \"description\": \"\"\n      }\n    }\n  ]\n}"
            }
          },
          "metadata": {},
          "execution_count": 390
        }
      ],
      "source": [
        "df.head(10)"
      ]
    },
    {
      "cell_type": "code",
      "execution_count": 391,
      "metadata": {
        "colab": {
          "base_uri": "https://localhost:8080/"
        },
        "id": "R2D3Qe8qJutN",
        "outputId": "7dec100d-6aa9-4bee-83f9-737d4ffa5e32"
      },
      "outputs": [
        {
          "output_type": "stream",
          "name": "stdout",
          "text": [
            "<class 'pandas.core.frame.DataFrame'>\n",
            "RangeIndex: 303 entries, 0 to 302\n",
            "Data columns (total 14 columns):\n",
            " #   Column    Non-Null Count  Dtype  \n",
            "---  ------    --------------  -----  \n",
            " 0   age       303 non-null    int64  \n",
            " 1   sex       303 non-null    int64  \n",
            " 2   cp        303 non-null    int64  \n",
            " 3   trestbps  303 non-null    int64  \n",
            " 4   chol      303 non-null    int64  \n",
            " 5   fbs       303 non-null    int64  \n",
            " 6   restecg   303 non-null    int64  \n",
            " 7   thalach   303 non-null    int64  \n",
            " 8   exang     303 non-null    int64  \n",
            " 9   oldpeak   303 non-null    float64\n",
            " 10  slope     303 non-null    int64  \n",
            " 11  ca        299 non-null    float64\n",
            " 12  thal      301 non-null    float64\n",
            " 13  num       303 non-null    int64  \n",
            "dtypes: float64(3), int64(11)\n",
            "memory usage: 33.3 KB\n",
            "None\n"
          ]
        }
      ],
      "source": [
        "print(df.info())"
      ]
    },
    {
      "cell_type": "code",
      "execution_count": 392,
      "metadata": {
        "colab": {
          "base_uri": "https://localhost:8080/",
          "height": 272
        },
        "id": "i7-wELig4u03",
        "outputId": "17766f98-3d07-4571-a3de-621f511aef0c"
      },
      "outputs": [
        {
          "output_type": "execute_result",
          "data": {
            "text/plain": [
              "num\n",
              "0    164\n",
              "1     55\n",
              "2     36\n",
              "3     35\n",
              "4     13\n",
              "Name: count, dtype: int64"
            ],
            "text/html": [
              "<div>\n",
              "<style scoped>\n",
              "    .dataframe tbody tr th:only-of-type {\n",
              "        vertical-align: middle;\n",
              "    }\n",
              "\n",
              "    .dataframe tbody tr th {\n",
              "        vertical-align: top;\n",
              "    }\n",
              "\n",
              "    .dataframe thead th {\n",
              "        text-align: right;\n",
              "    }\n",
              "</style>\n",
              "<table border=\"1\" class=\"dataframe\">\n",
              "  <thead>\n",
              "    <tr style=\"text-align: right;\">\n",
              "      <th></th>\n",
              "      <th>count</th>\n",
              "    </tr>\n",
              "    <tr>\n",
              "      <th>num</th>\n",
              "      <th></th>\n",
              "    </tr>\n",
              "  </thead>\n",
              "  <tbody>\n",
              "    <tr>\n",
              "      <th>0</th>\n",
              "      <td>164</td>\n",
              "    </tr>\n",
              "    <tr>\n",
              "      <th>1</th>\n",
              "      <td>55</td>\n",
              "    </tr>\n",
              "    <tr>\n",
              "      <th>2</th>\n",
              "      <td>36</td>\n",
              "    </tr>\n",
              "    <tr>\n",
              "      <th>3</th>\n",
              "      <td>35</td>\n",
              "    </tr>\n",
              "    <tr>\n",
              "      <th>4</th>\n",
              "      <td>13</td>\n",
              "    </tr>\n",
              "  </tbody>\n",
              "</table>\n",
              "</div><br><label><b>dtype:</b> int64</label>"
            ]
          },
          "metadata": {},
          "execution_count": 392
        }
      ],
      "source": [
        "df[\"num\"].value_counts()\n"
      ]
    },
    {
      "cell_type": "markdown",
      "metadata": {
        "id": "DtiOwP_gJ75E"
      },
      "source": [
        "# handeling missing data"
      ]
    },
    {
      "cell_type": "markdown",
      "metadata": {
        "id": "VYwCZABjbwnr"
      },
      "source": [
        "###finding amount of missing data in each column"
      ]
    },
    {
      "cell_type": "code",
      "execution_count": 393,
      "metadata": {
        "colab": {
          "base_uri": "https://localhost:8080/"
        },
        "id": "gto2m_wc7qYX",
        "outputId": "53db2ecc-4c68-411f-957d-808d014202c0"
      },
      "outputs": [
        {
          "output_type": "stream",
          "name": "stdout",
          "text": [
            "Percentage of missing values in each column:\n",
            "\n",
            "age : 0.00%\n",
            "sex : 0.00%\n",
            "cp : 0.00%\n",
            "trestbps : 0.00%\n",
            "chol : 0.00%\n",
            "fbs : 0.00%\n",
            "restecg : 0.00%\n",
            "thalach : 0.00%\n",
            "exang : 0.00%\n",
            "oldpeak : 0.00%\n",
            "slope : 0.00%\n",
            "ca : 1.32%\n",
            "thal : 0.66%\n",
            "num : 0.00%\n"
          ]
        }
      ],
      "source": [
        "max_non_null_val = df[\"num\"].count()\n",
        "print(\"Percentage of missing values in each column:\\n\")\n",
        "missing_percent = []\n",
        "for col in df.columns:\n",
        "  missing_percent.append(df[col].isnull().sum()/max_non_null_val*100)\n",
        "  print(f\"{col} : {df[col].isnull().sum()/max_non_null_val*100:.2f}%\")"
      ]
    },
    {
      "cell_type": "markdown",
      "metadata": {
        "id": "ODPro9lmKNQA"
      },
      "source": [
        "###dropping columns with more than 40% missing values\n"
      ]
    },
    {
      "cell_type": "code",
      "execution_count": 394,
      "metadata": {
        "colab": {
          "base_uri": "https://localhost:8080/"
        },
        "id": "VYsX1xola5bi",
        "outputId": "dc05201c-14e1-4941-9060-bb98830c3e01"
      },
      "outputs": [
        {
          "output_type": "stream",
          "name": "stdout",
          "text": [
            "<class 'pandas.core.frame.DataFrame'>\n",
            "RangeIndex: 303 entries, 0 to 302\n",
            "Data columns (total 14 columns):\n",
            " #   Column    Non-Null Count  Dtype  \n",
            "---  ------    --------------  -----  \n",
            " 0   age       303 non-null    int64  \n",
            " 1   sex       303 non-null    int64  \n",
            " 2   cp        303 non-null    int64  \n",
            " 3   trestbps  303 non-null    int64  \n",
            " 4   chol      303 non-null    int64  \n",
            " 5   fbs       303 non-null    int64  \n",
            " 6   restecg   303 non-null    int64  \n",
            " 7   thalach   303 non-null    int64  \n",
            " 8   exang     303 non-null    int64  \n",
            " 9   oldpeak   303 non-null    float64\n",
            " 10  slope     303 non-null    int64  \n",
            " 11  ca        299 non-null    float64\n",
            " 12  thal      301 non-null    float64\n",
            " 13  num       303 non-null    int64  \n",
            "dtypes: float64(3), int64(11)\n",
            "memory usage: 33.3 KB\n",
            "None\n"
          ]
        }
      ],
      "source": [
        "from operator import indexOf\n",
        "index_list =[]\n",
        "for i in missing_percent:\n",
        "  if(i>40):\n",
        "    index_list.append(indexOf(missing_percent,i))\n",
        "df.drop(df.columns[index_list],axis=1,inplace=True)\n",
        "print(df.info())\n"
      ]
    },
    {
      "cell_type": "markdown",
      "metadata": {
        "id": "WFUJOSxMKljP"
      },
      "source": [
        "###classifying columns based on numerical or categorical data"
      ]
    },
    {
      "cell_type": "code",
      "execution_count": 395,
      "metadata": {
        "colab": {
          "base_uri": "https://localhost:8080/"
        },
        "id": "2PNzIPHKKkz-",
        "outputId": "ed363c5a-6f87-47af-c897-7b19c3b7b116"
      },
      "outputs": [
        {
          "output_type": "stream",
          "name": "stdout",
          "text": [
            "cat_cols: []\n",
            "num_cols: ['age', 'trestbps', 'chol', 'thalach', 'oldpeak']\n",
            "cat_but_car: []\n",
            "num_but_cat_cols: ['sex', 'cp', 'fbs', 'restecg', 'exang', 'slope', 'ca', 'thal', 'num']\n"
          ]
        }
      ],
      "source": [
        "def classify_cols(df , cat_thresh = 15, card_thresh  = 20 ):\n",
        "  cat_cols = [col for col in df.columns if df[col].dtypes == \"O\"]\n",
        "  num_but_cat_cols = [col for col in df.columns if df[col].dtypes != \"O\" and df[col].nunique()<cat_thresh]\n",
        "  cat_but_card_cols = [col for col in df.columns if df[col].dtypes == \"O\" and df[col].nunique()>card_thresh]\n",
        "  # cat_cols = cat_cols + num_but_cat_cols\n",
        "  cat_cols = [col for col in cat_cols if col not in cat_but_card_cols]\n",
        "  num_cols = [col for col in df.columns if df[col].dtypes != \"O\" and col not in num_but_cat_cols]\n",
        "  return cat_cols, num_cols, cat_but_card_cols,num_but_cat_cols\n",
        "\n",
        "cat_cols, num_cols, cat_but_card_cols, num_but_cat_cols = classify_cols(df)\n",
        "print(f\"cat_cols: {(cat_cols)}\")\n",
        "print(f\"num_cols: {(num_cols)}\")\n",
        "print(f\"cat_but_car: {(cat_but_card_cols)}\")\n",
        "print(f\"num_but_cat_cols: {(num_but_cat_cols)}\")"
      ]
    },
    {
      "cell_type": "markdown",
      "metadata": {
        "id": "yyPciibtK-oS"
      },
      "source": [
        "###Filling missing values in numerical columns with the mean value"
      ]
    },
    {
      "cell_type": "code",
      "execution_count": 396,
      "metadata": {
        "colab": {
          "base_uri": "https://localhost:8080/"
        },
        "id": "gBAVXcJkLMtS",
        "outputId": "05ee5c41-76de-4f3f-d6ab-1fa436313945"
      },
      "outputs": [
        {
          "output_type": "stream",
          "name": "stdout",
          "text": [
            "<class 'pandas.core.frame.DataFrame'>\n",
            "RangeIndex: 303 entries, 0 to 302\n",
            "Data columns (total 14 columns):\n",
            " #   Column    Non-Null Count  Dtype  \n",
            "---  ------    --------------  -----  \n",
            " 0   age       303 non-null    int64  \n",
            " 1   sex       303 non-null    int64  \n",
            " 2   cp        303 non-null    int64  \n",
            " 3   trestbps  303 non-null    int64  \n",
            " 4   chol      303 non-null    int64  \n",
            " 5   fbs       303 non-null    int64  \n",
            " 6   restecg   303 non-null    int64  \n",
            " 7   thalach   303 non-null    int64  \n",
            " 8   exang     303 non-null    int64  \n",
            " 9   oldpeak   303 non-null    float64\n",
            " 10  slope     303 non-null    int64  \n",
            " 11  ca        299 non-null    float64\n",
            " 12  thal      301 non-null    float64\n",
            " 13  num       303 non-null    int64  \n",
            "dtypes: float64(3), int64(11)\n",
            "memory usage: 33.3 KB\n"
          ]
        }
      ],
      "source": [
        "for col in num_cols:\n",
        "  df[col] = df[col].fillna(df[col].mean())\n",
        "\n",
        "df.info()"
      ]
    },
    {
      "cell_type": "markdown",
      "metadata": {
        "id": "UZrHkf48dr2T"
      },
      "source": [
        "###Filling missing values in categorical columns with mode value"
      ]
    },
    {
      "cell_type": "code",
      "execution_count": 397,
      "metadata": {
        "colab": {
          "base_uri": "https://localhost:8080/"
        },
        "id": "tH2XtpAjLojC",
        "outputId": "47485cd4-cf44-4a76-b78a-9ed194d25a4b"
      },
      "outputs": [
        {
          "output_type": "stream",
          "name": "stdout",
          "text": [
            "<class 'pandas.core.frame.DataFrame'>\n",
            "RangeIndex: 303 entries, 0 to 302\n",
            "Data columns (total 14 columns):\n",
            " #   Column    Non-Null Count  Dtype  \n",
            "---  ------    --------------  -----  \n",
            " 0   age       303 non-null    int64  \n",
            " 1   sex       303 non-null    int64  \n",
            " 2   cp        303 non-null    int64  \n",
            " 3   trestbps  303 non-null    int64  \n",
            " 4   chol      303 non-null    int64  \n",
            " 5   fbs       303 non-null    int64  \n",
            " 6   restecg   303 non-null    int64  \n",
            " 7   thalach   303 non-null    int64  \n",
            " 8   exang     303 non-null    int64  \n",
            " 9   oldpeak   303 non-null    float64\n",
            " 10  slope     303 non-null    int64  \n",
            " 11  ca        299 non-null    float64\n",
            " 12  thal      301 non-null    float64\n",
            " 13  num       303 non-null    int64  \n",
            "dtypes: float64(3), int64(11)\n",
            "memory usage: 33.3 KB\n"
          ]
        }
      ],
      "source": [
        "for col in cat_cols:\n",
        "  df[col] = df[col].fillna(df[col].mode()[0])\n",
        "\n",
        "df.info()"
      ]
    },
    {
      "cell_type": "code",
      "execution_count": 398,
      "metadata": {
        "colab": {
          "base_uri": "https://localhost:8080/"
        },
        "id": "uuclxyLbnCLh",
        "outputId": "3544e0e4-8bef-41dc-e49f-2635256a87e5"
      },
      "outputs": [
        {
          "output_type": "stream",
          "name": "stdout",
          "text": [
            "<class 'pandas.core.frame.DataFrame'>\n",
            "RangeIndex: 303 entries, 0 to 302\n",
            "Data columns (total 14 columns):\n",
            " #   Column    Non-Null Count  Dtype  \n",
            "---  ------    --------------  -----  \n",
            " 0   age       303 non-null    int64  \n",
            " 1   sex       303 non-null    int64  \n",
            " 2   cp        303 non-null    int64  \n",
            " 3   trestbps  303 non-null    int64  \n",
            " 4   chol      303 non-null    int64  \n",
            " 5   fbs       303 non-null    int64  \n",
            " 6   restecg   303 non-null    int64  \n",
            " 7   thalach   303 non-null    int64  \n",
            " 8   exang     303 non-null    int64  \n",
            " 9   oldpeak   303 non-null    float64\n",
            " 10  slope     303 non-null    int64  \n",
            " 11  ca        303 non-null    float64\n",
            " 12  thal      303 non-null    float64\n",
            " 13  num       303 non-null    int64  \n",
            "dtypes: float64(3), int64(11)\n",
            "memory usage: 33.3 KB\n"
          ]
        }
      ],
      "source": [
        "for col in num_but_cat_cols:\n",
        "  df[col] = df[col].fillna(df[col].mode()[0])\n",
        "\n",
        "df.info()"
      ]
    },
    {
      "cell_type": "code",
      "execution_count": 399,
      "metadata": {
        "colab": {
          "base_uri": "https://localhost:8080/"
        },
        "collapsed": true,
        "id": "dgOeWL6UnGof",
        "outputId": "9376c5a8-7eb4-4964-eb8e-b19bc00c6c92"
      },
      "outputs": [
        {
          "output_type": "stream",
          "name": "stdout",
          "text": [
            "<class 'pandas.core.frame.DataFrame'>\n",
            "RangeIndex: 303 entries, 0 to 302\n",
            "Data columns (total 14 columns):\n",
            " #   Column    Non-Null Count  Dtype  \n",
            "---  ------    --------------  -----  \n",
            " 0   age       303 non-null    int64  \n",
            " 1   sex       303 non-null    int64  \n",
            " 2   cp        303 non-null    int64  \n",
            " 3   trestbps  303 non-null    int64  \n",
            " 4   chol      303 non-null    int64  \n",
            " 5   fbs       303 non-null    int64  \n",
            " 6   restecg   303 non-null    int64  \n",
            " 7   thalach   303 non-null    int64  \n",
            " 8   exang     303 non-null    int64  \n",
            " 9   oldpeak   303 non-null    float64\n",
            " 10  slope     303 non-null    int64  \n",
            " 11  ca        303 non-null    float64\n",
            " 12  thal      303 non-null    float64\n",
            " 13  num       303 non-null    int64  \n",
            "dtypes: float64(3), int64(11)\n",
            "memory usage: 33.3 KB\n"
          ]
        }
      ],
      "source": [
        "for col in cat_but_card_cols:\n",
        "  df[col] = df[col].fillna(df[col].mode()[0])\n",
        "\n",
        "df.info()"
      ]
    },
    {
      "cell_type": "markdown",
      "metadata": {
        "id": "0M3zuZJsnuft"
      },
      "source": [
        "# Descriptive stats\n"
      ]
    },
    {
      "cell_type": "code",
      "execution_count": 400,
      "metadata": {
        "colab": {
          "base_uri": "https://localhost:8080/"
        },
        "id": "slC4-Qaunyv8",
        "outputId": "1a853779-290b-4bc8-b96a-b7c6fc93dc66"
      },
      "outputs": [
        {
          "output_type": "stream",
          "name": "stdout",
          "text": [
            "              age         sex          cp    trestbps        chol         fbs  \\\n",
            "count  303.000000  303.000000  303.000000  303.000000  303.000000  303.000000   \n",
            "mean    54.438944    0.679868    3.158416  131.689769  246.693069    0.148515   \n",
            "std      9.038662    0.467299    0.960126   17.599748   51.776918    0.356198   \n",
            "min     29.000000    0.000000    1.000000   94.000000  126.000000    0.000000   \n",
            "25%     48.000000    0.000000    3.000000  120.000000  211.000000    0.000000   \n",
            "50%     56.000000    1.000000    3.000000  130.000000  241.000000    0.000000   \n",
            "75%     61.000000    1.000000    4.000000  140.000000  275.000000    0.000000   \n",
            "max     77.000000    1.000000    4.000000  200.000000  564.000000    1.000000   \n",
            "\n",
            "          restecg     thalach       exang     oldpeak       slope          ca  \\\n",
            "count  303.000000  303.000000  303.000000  303.000000  303.000000  303.000000   \n",
            "mean     0.990099  149.607261    0.326733    1.039604    1.600660    0.663366   \n",
            "std      0.994971   22.875003    0.469794    1.161075    0.616226    0.934375   \n",
            "min      0.000000   71.000000    0.000000    0.000000    1.000000    0.000000   \n",
            "25%      0.000000  133.500000    0.000000    0.000000    1.000000    0.000000   \n",
            "50%      1.000000  153.000000    0.000000    0.800000    2.000000    0.000000   \n",
            "75%      2.000000  166.000000    1.000000    1.600000    2.000000    1.000000   \n",
            "max      2.000000  202.000000    1.000000    6.200000    3.000000    3.000000   \n",
            "\n",
            "             thal         num  \n",
            "count  303.000000  303.000000  \n",
            "mean     4.722772    0.937294  \n",
            "std      1.938383    1.228536  \n",
            "min      3.000000    0.000000  \n",
            "25%      3.000000    0.000000  \n",
            "50%      3.000000    0.000000  \n",
            "75%      7.000000    2.000000  \n",
            "max      7.000000    4.000000  \n"
          ]
        }
      ],
      "source": [
        "stats = df.describe()\n",
        "print(stats)"
      ]
    },
    {
      "cell_type": "markdown",
      "metadata": {
        "id": "oD3kLE2a3VJp"
      },
      "source": [
        "#correlation matrix of dataframe\n"
      ]
    },
    {
      "cell_type": "code",
      "execution_count": 401,
      "metadata": {
        "colab": {
          "base_uri": "https://localhost:8080/",
          "height": 508
        },
        "id": "9DgKsbjGmF2C",
        "outputId": "39e85820-6a6c-4c1d-8e3d-da38e88698a1"
      },
      "outputs": [
        {
          "output_type": "execute_result",
          "data": {
            "text/plain": [
              "               age       sex        cp  trestbps      chol       fbs  \\\n",
              "age       1.000000 -0.097542  0.104139  0.284946  0.208950  0.118530   \n",
              "sex      -0.097542  1.000000  0.010084 -0.064456 -0.199915  0.047862   \n",
              "cp        0.104139  0.010084  1.000000 -0.036077  0.072319 -0.039975   \n",
              "trestbps  0.284946 -0.064456 -0.036077  1.000000  0.130120  0.175340   \n",
              "chol      0.208950 -0.199915  0.072319  0.130120  1.000000  0.009841   \n",
              "fbs       0.118530  0.047862 -0.039975  0.175340  0.009841  1.000000   \n",
              "restecg   0.148868  0.021647  0.067505  0.146560  0.171043  0.069564   \n",
              "thalach  -0.393806 -0.048663 -0.334422 -0.045351 -0.003432 -0.007854   \n",
              "exang     0.091661  0.146201  0.384060  0.064762  0.061310  0.025665   \n",
              "oldpeak   0.203805  0.102173  0.202277  0.189171  0.046564  0.005747   \n",
              "slope     0.161770  0.037533  0.152050  0.117382 -0.004062  0.059894   \n",
              "ca        0.365323  0.086048  0.233117  0.097528  0.123726  0.140764   \n",
              "thal      0.128303  0.380581  0.262089  0.134424  0.018351  0.064625   \n",
              "num       0.222853  0.224469  0.407075  0.157754  0.070909  0.059186   \n",
              "\n",
              "           restecg   thalach     exang   oldpeak     slope        ca  \\\n",
              "age       0.148868 -0.393806  0.091661  0.203805  0.161770  0.365323   \n",
              "sex       0.021647 -0.048663  0.146201  0.102173  0.037533  0.086048   \n",
              "cp        0.067505 -0.334422  0.384060  0.202277  0.152050  0.233117   \n",
              "trestbps  0.146560 -0.045351  0.064762  0.189171  0.117382  0.097528   \n",
              "chol      0.171043 -0.003432  0.061310  0.046564 -0.004062  0.123726   \n",
              "fbs       0.069564 -0.007854  0.025665  0.005747  0.059894  0.140764   \n",
              "restecg   1.000000 -0.083389  0.084867  0.114133  0.133946  0.131749   \n",
              "thalach  -0.083389  1.000000 -0.378103 -0.343085 -0.385601 -0.265699   \n",
              "exang     0.084867 -0.378103  1.000000  0.288223  0.257748  0.145788   \n",
              "oldpeak   0.114133 -0.343085  0.288223  1.000000  0.577537  0.301067   \n",
              "slope     0.133946 -0.385601  0.257748  0.577537  1.000000  0.110803   \n",
              "ca        0.131749 -0.265699  0.145788  0.301067  0.110803  1.000000   \n",
              "thal      0.024325 -0.274142  0.325240  0.342405  0.286792  0.255446   \n",
              "num       0.183696 -0.415040  0.397057  0.504092  0.377957  0.520968   \n",
              "\n",
              "              thal       num  \n",
              "age       0.128303  0.222853  \n",
              "sex       0.380581  0.224469  \n",
              "cp        0.262089  0.407075  \n",
              "trestbps  0.134424  0.157754  \n",
              "chol      0.018351  0.070909  \n",
              "fbs       0.064625  0.059186  \n",
              "restecg   0.024325  0.183696  \n",
              "thalach  -0.274142 -0.415040  \n",
              "exang     0.325240  0.397057  \n",
              "oldpeak   0.342405  0.504092  \n",
              "slope     0.286792  0.377957  \n",
              "ca        0.255446  0.520968  \n",
              "thal      1.000000  0.507155  \n",
              "num       0.507155  1.000000  "
            ],
            "text/html": [
              "\n",
              "  <div id=\"df-7d18947f-cd0d-4a49-9f5e-5ba1f75614a8\" class=\"colab-df-container\">\n",
              "    <div>\n",
              "<style scoped>\n",
              "    .dataframe tbody tr th:only-of-type {\n",
              "        vertical-align: middle;\n",
              "    }\n",
              "\n",
              "    .dataframe tbody tr th {\n",
              "        vertical-align: top;\n",
              "    }\n",
              "\n",
              "    .dataframe thead th {\n",
              "        text-align: right;\n",
              "    }\n",
              "</style>\n",
              "<table border=\"1\" class=\"dataframe\">\n",
              "  <thead>\n",
              "    <tr style=\"text-align: right;\">\n",
              "      <th></th>\n",
              "      <th>age</th>\n",
              "      <th>sex</th>\n",
              "      <th>cp</th>\n",
              "      <th>trestbps</th>\n",
              "      <th>chol</th>\n",
              "      <th>fbs</th>\n",
              "      <th>restecg</th>\n",
              "      <th>thalach</th>\n",
              "      <th>exang</th>\n",
              "      <th>oldpeak</th>\n",
              "      <th>slope</th>\n",
              "      <th>ca</th>\n",
              "      <th>thal</th>\n",
              "      <th>num</th>\n",
              "    </tr>\n",
              "  </thead>\n",
              "  <tbody>\n",
              "    <tr>\n",
              "      <th>age</th>\n",
              "      <td>1.000000</td>\n",
              "      <td>-0.097542</td>\n",
              "      <td>0.104139</td>\n",
              "      <td>0.284946</td>\n",
              "      <td>0.208950</td>\n",
              "      <td>0.118530</td>\n",
              "      <td>0.148868</td>\n",
              "      <td>-0.393806</td>\n",
              "      <td>0.091661</td>\n",
              "      <td>0.203805</td>\n",
              "      <td>0.161770</td>\n",
              "      <td>0.365323</td>\n",
              "      <td>0.128303</td>\n",
              "      <td>0.222853</td>\n",
              "    </tr>\n",
              "    <tr>\n",
              "      <th>sex</th>\n",
              "      <td>-0.097542</td>\n",
              "      <td>1.000000</td>\n",
              "      <td>0.010084</td>\n",
              "      <td>-0.064456</td>\n",
              "      <td>-0.199915</td>\n",
              "      <td>0.047862</td>\n",
              "      <td>0.021647</td>\n",
              "      <td>-0.048663</td>\n",
              "      <td>0.146201</td>\n",
              "      <td>0.102173</td>\n",
              "      <td>0.037533</td>\n",
              "      <td>0.086048</td>\n",
              "      <td>0.380581</td>\n",
              "      <td>0.224469</td>\n",
              "    </tr>\n",
              "    <tr>\n",
              "      <th>cp</th>\n",
              "      <td>0.104139</td>\n",
              "      <td>0.010084</td>\n",
              "      <td>1.000000</td>\n",
              "      <td>-0.036077</td>\n",
              "      <td>0.072319</td>\n",
              "      <td>-0.039975</td>\n",
              "      <td>0.067505</td>\n",
              "      <td>-0.334422</td>\n",
              "      <td>0.384060</td>\n",
              "      <td>0.202277</td>\n",
              "      <td>0.152050</td>\n",
              "      <td>0.233117</td>\n",
              "      <td>0.262089</td>\n",
              "      <td>0.407075</td>\n",
              "    </tr>\n",
              "    <tr>\n",
              "      <th>trestbps</th>\n",
              "      <td>0.284946</td>\n",
              "      <td>-0.064456</td>\n",
              "      <td>-0.036077</td>\n",
              "      <td>1.000000</td>\n",
              "      <td>0.130120</td>\n",
              "      <td>0.175340</td>\n",
              "      <td>0.146560</td>\n",
              "      <td>-0.045351</td>\n",
              "      <td>0.064762</td>\n",
              "      <td>0.189171</td>\n",
              "      <td>0.117382</td>\n",
              "      <td>0.097528</td>\n",
              "      <td>0.134424</td>\n",
              "      <td>0.157754</td>\n",
              "    </tr>\n",
              "    <tr>\n",
              "      <th>chol</th>\n",
              "      <td>0.208950</td>\n",
              "      <td>-0.199915</td>\n",
              "      <td>0.072319</td>\n",
              "      <td>0.130120</td>\n",
              "      <td>1.000000</td>\n",
              "      <td>0.009841</td>\n",
              "      <td>0.171043</td>\n",
              "      <td>-0.003432</td>\n",
              "      <td>0.061310</td>\n",
              "      <td>0.046564</td>\n",
              "      <td>-0.004062</td>\n",
              "      <td>0.123726</td>\n",
              "      <td>0.018351</td>\n",
              "      <td>0.070909</td>\n",
              "    </tr>\n",
              "    <tr>\n",
              "      <th>fbs</th>\n",
              "      <td>0.118530</td>\n",
              "      <td>0.047862</td>\n",
              "      <td>-0.039975</td>\n",
              "      <td>0.175340</td>\n",
              "      <td>0.009841</td>\n",
              "      <td>1.000000</td>\n",
              "      <td>0.069564</td>\n",
              "      <td>-0.007854</td>\n",
              "      <td>0.025665</td>\n",
              "      <td>0.005747</td>\n",
              "      <td>0.059894</td>\n",
              "      <td>0.140764</td>\n",
              "      <td>0.064625</td>\n",
              "      <td>0.059186</td>\n",
              "    </tr>\n",
              "    <tr>\n",
              "      <th>restecg</th>\n",
              "      <td>0.148868</td>\n",
              "      <td>0.021647</td>\n",
              "      <td>0.067505</td>\n",
              "      <td>0.146560</td>\n",
              "      <td>0.171043</td>\n",
              "      <td>0.069564</td>\n",
              "      <td>1.000000</td>\n",
              "      <td>-0.083389</td>\n",
              "      <td>0.084867</td>\n",
              "      <td>0.114133</td>\n",
              "      <td>0.133946</td>\n",
              "      <td>0.131749</td>\n",
              "      <td>0.024325</td>\n",
              "      <td>0.183696</td>\n",
              "    </tr>\n",
              "    <tr>\n",
              "      <th>thalach</th>\n",
              "      <td>-0.393806</td>\n",
              "      <td>-0.048663</td>\n",
              "      <td>-0.334422</td>\n",
              "      <td>-0.045351</td>\n",
              "      <td>-0.003432</td>\n",
              "      <td>-0.007854</td>\n",
              "      <td>-0.083389</td>\n",
              "      <td>1.000000</td>\n",
              "      <td>-0.378103</td>\n",
              "      <td>-0.343085</td>\n",
              "      <td>-0.385601</td>\n",
              "      <td>-0.265699</td>\n",
              "      <td>-0.274142</td>\n",
              "      <td>-0.415040</td>\n",
              "    </tr>\n",
              "    <tr>\n",
              "      <th>exang</th>\n",
              "      <td>0.091661</td>\n",
              "      <td>0.146201</td>\n",
              "      <td>0.384060</td>\n",
              "      <td>0.064762</td>\n",
              "      <td>0.061310</td>\n",
              "      <td>0.025665</td>\n",
              "      <td>0.084867</td>\n",
              "      <td>-0.378103</td>\n",
              "      <td>1.000000</td>\n",
              "      <td>0.288223</td>\n",
              "      <td>0.257748</td>\n",
              "      <td>0.145788</td>\n",
              "      <td>0.325240</td>\n",
              "      <td>0.397057</td>\n",
              "    </tr>\n",
              "    <tr>\n",
              "      <th>oldpeak</th>\n",
              "      <td>0.203805</td>\n",
              "      <td>0.102173</td>\n",
              "      <td>0.202277</td>\n",
              "      <td>0.189171</td>\n",
              "      <td>0.046564</td>\n",
              "      <td>0.005747</td>\n",
              "      <td>0.114133</td>\n",
              "      <td>-0.343085</td>\n",
              "      <td>0.288223</td>\n",
              "      <td>1.000000</td>\n",
              "      <td>0.577537</td>\n",
              "      <td>0.301067</td>\n",
              "      <td>0.342405</td>\n",
              "      <td>0.504092</td>\n",
              "    </tr>\n",
              "    <tr>\n",
              "      <th>slope</th>\n",
              "      <td>0.161770</td>\n",
              "      <td>0.037533</td>\n",
              "      <td>0.152050</td>\n",
              "      <td>0.117382</td>\n",
              "      <td>-0.004062</td>\n",
              "      <td>0.059894</td>\n",
              "      <td>0.133946</td>\n",
              "      <td>-0.385601</td>\n",
              "      <td>0.257748</td>\n",
              "      <td>0.577537</td>\n",
              "      <td>1.000000</td>\n",
              "      <td>0.110803</td>\n",
              "      <td>0.286792</td>\n",
              "      <td>0.377957</td>\n",
              "    </tr>\n",
              "    <tr>\n",
              "      <th>ca</th>\n",
              "      <td>0.365323</td>\n",
              "      <td>0.086048</td>\n",
              "      <td>0.233117</td>\n",
              "      <td>0.097528</td>\n",
              "      <td>0.123726</td>\n",
              "      <td>0.140764</td>\n",
              "      <td>0.131749</td>\n",
              "      <td>-0.265699</td>\n",
              "      <td>0.145788</td>\n",
              "      <td>0.301067</td>\n",
              "      <td>0.110803</td>\n",
              "      <td>1.000000</td>\n",
              "      <td>0.255446</td>\n",
              "      <td>0.520968</td>\n",
              "    </tr>\n",
              "    <tr>\n",
              "      <th>thal</th>\n",
              "      <td>0.128303</td>\n",
              "      <td>0.380581</td>\n",
              "      <td>0.262089</td>\n",
              "      <td>0.134424</td>\n",
              "      <td>0.018351</td>\n",
              "      <td>0.064625</td>\n",
              "      <td>0.024325</td>\n",
              "      <td>-0.274142</td>\n",
              "      <td>0.325240</td>\n",
              "      <td>0.342405</td>\n",
              "      <td>0.286792</td>\n",
              "      <td>0.255446</td>\n",
              "      <td>1.000000</td>\n",
              "      <td>0.507155</td>\n",
              "    </tr>\n",
              "    <tr>\n",
              "      <th>num</th>\n",
              "      <td>0.222853</td>\n",
              "      <td>0.224469</td>\n",
              "      <td>0.407075</td>\n",
              "      <td>0.157754</td>\n",
              "      <td>0.070909</td>\n",
              "      <td>0.059186</td>\n",
              "      <td>0.183696</td>\n",
              "      <td>-0.415040</td>\n",
              "      <td>0.397057</td>\n",
              "      <td>0.504092</td>\n",
              "      <td>0.377957</td>\n",
              "      <td>0.520968</td>\n",
              "      <td>0.507155</td>\n",
              "      <td>1.000000</td>\n",
              "    </tr>\n",
              "  </tbody>\n",
              "</table>\n",
              "</div>\n",
              "    <div class=\"colab-df-buttons\">\n",
              "\n",
              "  <div class=\"colab-df-container\">\n",
              "    <button class=\"colab-df-convert\" onclick=\"convertToInteractive('df-7d18947f-cd0d-4a49-9f5e-5ba1f75614a8')\"\n",
              "            title=\"Convert this dataframe to an interactive table.\"\n",
              "            style=\"display:none;\">\n",
              "\n",
              "  <svg xmlns=\"http://www.w3.org/2000/svg\" height=\"24px\" viewBox=\"0 -960 960 960\">\n",
              "    <path d=\"M120-120v-720h720v720H120Zm60-500h600v-160H180v160Zm220 220h160v-160H400v160Zm0 220h160v-160H400v160ZM180-400h160v-160H180v160Zm440 0h160v-160H620v160ZM180-180h160v-160H180v160Zm440 0h160v-160H620v160Z\"/>\n",
              "  </svg>\n",
              "    </button>\n",
              "\n",
              "  <style>\n",
              "    .colab-df-container {\n",
              "      display:flex;\n",
              "      gap: 12px;\n",
              "    }\n",
              "\n",
              "    .colab-df-convert {\n",
              "      background-color: #E8F0FE;\n",
              "      border: none;\n",
              "      border-radius: 50%;\n",
              "      cursor: pointer;\n",
              "      display: none;\n",
              "      fill: #1967D2;\n",
              "      height: 32px;\n",
              "      padding: 0 0 0 0;\n",
              "      width: 32px;\n",
              "    }\n",
              "\n",
              "    .colab-df-convert:hover {\n",
              "      background-color: #E2EBFA;\n",
              "      box-shadow: 0px 1px 2px rgba(60, 64, 67, 0.3), 0px 1px 3px 1px rgba(60, 64, 67, 0.15);\n",
              "      fill: #174EA6;\n",
              "    }\n",
              "\n",
              "    .colab-df-buttons div {\n",
              "      margin-bottom: 4px;\n",
              "    }\n",
              "\n",
              "    [theme=dark] .colab-df-convert {\n",
              "      background-color: #3B4455;\n",
              "      fill: #D2E3FC;\n",
              "    }\n",
              "\n",
              "    [theme=dark] .colab-df-convert:hover {\n",
              "      background-color: #434B5C;\n",
              "      box-shadow: 0px 1px 3px 1px rgba(0, 0, 0, 0.15);\n",
              "      filter: drop-shadow(0px 1px 2px rgba(0, 0, 0, 0.3));\n",
              "      fill: #FFFFFF;\n",
              "    }\n",
              "  </style>\n",
              "\n",
              "    <script>\n",
              "      const buttonEl =\n",
              "        document.querySelector('#df-7d18947f-cd0d-4a49-9f5e-5ba1f75614a8 button.colab-df-convert');\n",
              "      buttonEl.style.display =\n",
              "        google.colab.kernel.accessAllowed ? 'block' : 'none';\n",
              "\n",
              "      async function convertToInteractive(key) {\n",
              "        const element = document.querySelector('#df-7d18947f-cd0d-4a49-9f5e-5ba1f75614a8');\n",
              "        const dataTable =\n",
              "          await google.colab.kernel.invokeFunction('convertToInteractive',\n",
              "                                                    [key], {});\n",
              "        if (!dataTable) return;\n",
              "\n",
              "        const docLinkHtml = 'Like what you see? Visit the ' +\n",
              "          '<a target=\"_blank\" href=https://colab.research.google.com/notebooks/data_table.ipynb>data table notebook</a>'\n",
              "          + ' to learn more about interactive tables.';\n",
              "        element.innerHTML = '';\n",
              "        dataTable['output_type'] = 'display_data';\n",
              "        await google.colab.output.renderOutput(dataTable, element);\n",
              "        const docLink = document.createElement('div');\n",
              "        docLink.innerHTML = docLinkHtml;\n",
              "        element.appendChild(docLink);\n",
              "      }\n",
              "    </script>\n",
              "  </div>\n",
              "\n",
              "\n",
              "<div id=\"df-699d612a-818a-4668-b160-ebcbceeba8be\">\n",
              "  <button class=\"colab-df-quickchart\" onclick=\"quickchart('df-699d612a-818a-4668-b160-ebcbceeba8be')\"\n",
              "            title=\"Suggest charts\"\n",
              "            style=\"display:none;\">\n",
              "\n",
              "<svg xmlns=\"http://www.w3.org/2000/svg\" height=\"24px\"viewBox=\"0 0 24 24\"\n",
              "     width=\"24px\">\n",
              "    <g>\n",
              "        <path d=\"M19 3H5c-1.1 0-2 .9-2 2v14c0 1.1.9 2 2 2h14c1.1 0 2-.9 2-2V5c0-1.1-.9-2-2-2zM9 17H7v-7h2v7zm4 0h-2V7h2v10zm4 0h-2v-4h2v4z\"/>\n",
              "    </g>\n",
              "</svg>\n",
              "  </button>\n",
              "\n",
              "<style>\n",
              "  .colab-df-quickchart {\n",
              "      --bg-color: #E8F0FE;\n",
              "      --fill-color: #1967D2;\n",
              "      --hover-bg-color: #E2EBFA;\n",
              "      --hover-fill-color: #174EA6;\n",
              "      --disabled-fill-color: #AAA;\n",
              "      --disabled-bg-color: #DDD;\n",
              "  }\n",
              "\n",
              "  [theme=dark] .colab-df-quickchart {\n",
              "      --bg-color: #3B4455;\n",
              "      --fill-color: #D2E3FC;\n",
              "      --hover-bg-color: #434B5C;\n",
              "      --hover-fill-color: #FFFFFF;\n",
              "      --disabled-bg-color: #3B4455;\n",
              "      --disabled-fill-color: #666;\n",
              "  }\n",
              "\n",
              "  .colab-df-quickchart {\n",
              "    background-color: var(--bg-color);\n",
              "    border: none;\n",
              "    border-radius: 50%;\n",
              "    cursor: pointer;\n",
              "    display: none;\n",
              "    fill: var(--fill-color);\n",
              "    height: 32px;\n",
              "    padding: 0;\n",
              "    width: 32px;\n",
              "  }\n",
              "\n",
              "  .colab-df-quickchart:hover {\n",
              "    background-color: var(--hover-bg-color);\n",
              "    box-shadow: 0 1px 2px rgba(60, 64, 67, 0.3), 0 1px 3px 1px rgba(60, 64, 67, 0.15);\n",
              "    fill: var(--button-hover-fill-color);\n",
              "  }\n",
              "\n",
              "  .colab-df-quickchart-complete:disabled,\n",
              "  .colab-df-quickchart-complete:disabled:hover {\n",
              "    background-color: var(--disabled-bg-color);\n",
              "    fill: var(--disabled-fill-color);\n",
              "    box-shadow: none;\n",
              "  }\n",
              "\n",
              "  .colab-df-spinner {\n",
              "    border: 2px solid var(--fill-color);\n",
              "    border-color: transparent;\n",
              "    border-bottom-color: var(--fill-color);\n",
              "    animation:\n",
              "      spin 1s steps(1) infinite;\n",
              "  }\n",
              "\n",
              "  @keyframes spin {\n",
              "    0% {\n",
              "      border-color: transparent;\n",
              "      border-bottom-color: var(--fill-color);\n",
              "      border-left-color: var(--fill-color);\n",
              "    }\n",
              "    20% {\n",
              "      border-color: transparent;\n",
              "      border-left-color: var(--fill-color);\n",
              "      border-top-color: var(--fill-color);\n",
              "    }\n",
              "    30% {\n",
              "      border-color: transparent;\n",
              "      border-left-color: var(--fill-color);\n",
              "      border-top-color: var(--fill-color);\n",
              "      border-right-color: var(--fill-color);\n",
              "    }\n",
              "    40% {\n",
              "      border-color: transparent;\n",
              "      border-right-color: var(--fill-color);\n",
              "      border-top-color: var(--fill-color);\n",
              "    }\n",
              "    60% {\n",
              "      border-color: transparent;\n",
              "      border-right-color: var(--fill-color);\n",
              "    }\n",
              "    80% {\n",
              "      border-color: transparent;\n",
              "      border-right-color: var(--fill-color);\n",
              "      border-bottom-color: var(--fill-color);\n",
              "    }\n",
              "    90% {\n",
              "      border-color: transparent;\n",
              "      border-bottom-color: var(--fill-color);\n",
              "    }\n",
              "  }\n",
              "</style>\n",
              "\n",
              "  <script>\n",
              "    async function quickchart(key) {\n",
              "      const quickchartButtonEl =\n",
              "        document.querySelector('#' + key + ' button');\n",
              "      quickchartButtonEl.disabled = true;  // To prevent multiple clicks.\n",
              "      quickchartButtonEl.classList.add('colab-df-spinner');\n",
              "      try {\n",
              "        const charts = await google.colab.kernel.invokeFunction(\n",
              "            'suggestCharts', [key], {});\n",
              "      } catch (error) {\n",
              "        console.error('Error during call to suggestCharts:', error);\n",
              "      }\n",
              "      quickchartButtonEl.classList.remove('colab-df-spinner');\n",
              "      quickchartButtonEl.classList.add('colab-df-quickchart-complete');\n",
              "    }\n",
              "    (() => {\n",
              "      let quickchartButtonEl =\n",
              "        document.querySelector('#df-699d612a-818a-4668-b160-ebcbceeba8be button');\n",
              "      quickchartButtonEl.style.display =\n",
              "        google.colab.kernel.accessAllowed ? 'block' : 'none';\n",
              "    })();\n",
              "  </script>\n",
              "</div>\n",
              "\n",
              "  <div id=\"id_45189fd4-4610-48fc-aefd-bbc1f9bb70af\">\n",
              "    <style>\n",
              "      .colab-df-generate {\n",
              "        background-color: #E8F0FE;\n",
              "        border: none;\n",
              "        border-radius: 50%;\n",
              "        cursor: pointer;\n",
              "        display: none;\n",
              "        fill: #1967D2;\n",
              "        height: 32px;\n",
              "        padding: 0 0 0 0;\n",
              "        width: 32px;\n",
              "      }\n",
              "\n",
              "      .colab-df-generate:hover {\n",
              "        background-color: #E2EBFA;\n",
              "        box-shadow: 0px 1px 2px rgba(60, 64, 67, 0.3), 0px 1px 3px 1px rgba(60, 64, 67, 0.15);\n",
              "        fill: #174EA6;\n",
              "      }\n",
              "\n",
              "      [theme=dark] .colab-df-generate {\n",
              "        background-color: #3B4455;\n",
              "        fill: #D2E3FC;\n",
              "      }\n",
              "\n",
              "      [theme=dark] .colab-df-generate:hover {\n",
              "        background-color: #434B5C;\n",
              "        box-shadow: 0px 1px 3px 1px rgba(0, 0, 0, 0.15);\n",
              "        filter: drop-shadow(0px 1px 2px rgba(0, 0, 0, 0.3));\n",
              "        fill: #FFFFFF;\n",
              "      }\n",
              "    </style>\n",
              "    <button class=\"colab-df-generate\" onclick=\"generateWithVariable('df_corr')\"\n",
              "            title=\"Generate code using this dataframe.\"\n",
              "            style=\"display:none;\">\n",
              "\n",
              "  <svg xmlns=\"http://www.w3.org/2000/svg\" height=\"24px\"viewBox=\"0 0 24 24\"\n",
              "       width=\"24px\">\n",
              "    <path d=\"M7,19H8.4L18.45,9,17,7.55,7,17.6ZM5,21V16.75L18.45,3.32a2,2,0,0,1,2.83,0l1.4,1.43a1.91,1.91,0,0,1,.58,1.4,1.91,1.91,0,0,1-.58,1.4L9.25,21ZM18.45,9,17,7.55Zm-12,3A5.31,5.31,0,0,0,4.9,8.1,5.31,5.31,0,0,0,1,6.5,5.31,5.31,0,0,0,4.9,4.9,5.31,5.31,0,0,0,6.5,1,5.31,5.31,0,0,0,8.1,4.9,5.31,5.31,0,0,0,12,6.5,5.46,5.46,0,0,0,6.5,12Z\"/>\n",
              "  </svg>\n",
              "    </button>\n",
              "    <script>\n",
              "      (() => {\n",
              "      const buttonEl =\n",
              "        document.querySelector('#id_45189fd4-4610-48fc-aefd-bbc1f9bb70af button.colab-df-generate');\n",
              "      buttonEl.style.display =\n",
              "        google.colab.kernel.accessAllowed ? 'block' : 'none';\n",
              "\n",
              "      buttonEl.onclick = () => {\n",
              "        google.colab.notebook.generateWithVariable('df_corr');\n",
              "      }\n",
              "      })();\n",
              "    </script>\n",
              "  </div>\n",
              "\n",
              "    </div>\n",
              "  </div>\n"
            ],
            "application/vnd.google.colaboratory.intrinsic+json": {
              "type": "dataframe",
              "variable_name": "df_corr",
              "summary": "{\n  \"name\": \"df_corr\",\n  \"rows\": 14,\n  \"fields\": [\n    {\n      \"column\": \"age\",\n      \"properties\": {\n        \"dtype\": \"number\",\n        \"std\": 0.2972358025910626,\n        \"min\": -0.39380580598682063,\n        \"max\": 1.0,\n        \"num_unique_values\": 14,\n        \"samples\": [\n          0.2038054813870624,\n          0.3653231969399121,\n          1.0\n        ],\n        \"semantic_type\": \"\",\n        \"description\": \"\"\n      }\n    },\n    {\n      \"column\": \"sex\",\n      \"properties\": {\n        \"dtype\": \"number\",\n        \"std\": 0.2910447238169528,\n        \"min\": -0.19991468261203615,\n        \"max\": 1.0,\n        \"num_unique_values\": 14,\n        \"samples\": [\n          0.10217264433513328,\n          0.08604788189523871,\n          -0.09754228377924508\n        ],\n        \"semantic_type\": \"\",\n        \"description\": \"\"\n      }\n    },\n    {\n      \"column\": \"cp\",\n      \"properties\": {\n        \"dtype\": \"number\",\n        \"std\": 0.3031798684283191,\n        \"min\": -0.3344217058864853,\n        \"max\": 1.0,\n        \"num_unique_values\": 14,\n        \"samples\": [\n          0.20227654057937264,\n          0.2331174616991204,\n          0.10413895433792275\n        ],\n        \"semantic_type\": \"\",\n        \"description\": \"\"\n      }\n    },\n    {\n      \"column\": \"trestbps\",\n      \"properties\": {\n        \"dtype\": \"number\",\n        \"std\": 0.25853397755516455,\n        \"min\": -0.06445589795334801,\n        \"max\": 1.0,\n        \"num_unique_values\": 14,\n        \"samples\": [\n          0.1891709707903293,\n          0.09752821237848382,\n          0.28494591931369023\n        ],\n        \"semantic_type\": \"\",\n        \"description\": \"\"\n      }\n    },\n    {\n      \"column\": \"chol\",\n      \"properties\": {\n        \"dtype\": \"number\",\n        \"std\": 0.27088841545011133,\n        \"min\": -0.19991468261203615,\n        \"max\": 1.0,\n        \"num_unique_values\": 14,\n        \"samples\": [\n          0.04656398918044737,\n          0.12372576088569355,\n          0.2089502699467822\n        ],\n        \"semantic_type\": \"\",\n        \"description\": \"\"\n      }\n    },\n    {\n      \"column\": \"fbs\",\n      \"properties\": {\n        \"dtype\": \"number\",\n        \"std\": 0.25897349398448005,\n        \"min\": -0.039974989575683906,\n        \"max\": 1.0,\n        \"num_unique_values\": 14,\n        \"samples\": [\n          0.005747223459644334,\n          0.1407638585720184,\n          0.11853024221696316\n        ],\n        \"semantic_type\": \"\",\n        \"description\": \"\"\n      }\n    },\n    {\n      \"column\": \"restecg\",\n      \"properties\": {\n        \"dtype\": \"number\",\n        \"std\": 0.2525696639448704,\n        \"min\": -0.08338943280752735,\n        \"max\": 1.0,\n        \"num_unique_values\": 14,\n        \"samples\": [\n          0.11413281320832518,\n          0.13174877201346502,\n          0.14886759109352657\n        ],\n        \"semantic_type\": \"\",\n        \"description\": \"\"\n      }\n    },\n    {\n      \"column\": \"thalach\",\n      \"properties\": {\n        \"dtype\": \"number\",\n        \"std\": 0.36438672180224047,\n        \"min\": -0.41504046173507825,\n        \"max\": 1.0,\n        \"num_unique_values\": 14,\n        \"samples\": [\n          -0.3430853918479222,\n          -0.26569882565125813,\n          -0.39380580598682063\n        ],\n        \"semantic_type\": \"\",\n        \"description\": \"\"\n      }\n    },\n    {\n      \"column\": \"exang\",\n      \"properties\": {\n        \"dtype\": \"number\",\n        \"std\": 0.30023344524360274,\n        \"min\": -0.3781034244549704,\n        \"max\": 1.0,\n        \"num_unique_values\": 14,\n        \"samples\": [\n          0.28822280778276527,\n          0.14578813372195135,\n          0.09166077150494456\n        ],\n        \"semantic_type\": \"\",\n        \"description\": \"\"\n      }\n    },\n    {\n      \"column\": \"oldpeak\",\n      \"properties\": {\n        \"dtype\": \"number\",\n        \"std\": 0.30984956110098943,\n        \"min\": -0.3430853918479222,\n        \"max\": 1.0,\n        \"num_unique_values\": 14,\n        \"samples\": [\n          1.0,\n          0.30106666361758894,\n          0.2038054813870624\n        ],\n        \"semantic_type\": \"\",\n        \"description\": \"\"\n      }\n    },\n    {\n      \"column\": \"slope\",\n      \"properties\": {\n        \"dtype\": \"number\",\n        \"std\": 0.31354918804725923,\n        \"min\": -0.3856011620787403,\n        \"max\": 1.0,\n        \"num_unique_values\": 14,\n        \"samples\": [\n          0.5775368167291409,\n          0.11080337110306328,\n          0.1617695585214801\n        ],\n        \"semantic_type\": \"\",\n        \"description\": \"\"\n      }\n    },\n    {\n      \"column\": \"ca\",\n      \"properties\": {\n        \"dtype\": \"number\",\n        \"std\": 0.2822615041408796,\n        \"min\": -0.26569882565125813,\n        \"max\": 1.0,\n        \"num_unique_values\": 14,\n        \"samples\": [\n          0.30106666361758894,\n          1.0,\n          0.3653231969399121\n        ],\n        \"semantic_type\": \"\",\n        \"description\": \"\"\n      }\n    },\n    {\n      \"column\": \"thal\",\n      \"properties\": {\n        \"dtype\": \"number\",\n        \"std\": 0.2912988196394311,\n        \"min\": -0.27414200587562343,\n        \"max\": 1.0,\n        \"num_unique_values\": 14,\n        \"samples\": [\n          0.34240455069729253,\n          0.2554461179791748,\n          0.1283029999166154\n        ],\n        \"semantic_type\": \"\",\n        \"description\": \"\"\n      }\n    },\n    {\n      \"column\": \"num\",\n      \"properties\": {\n        \"dtype\": \"number\",\n        \"std\": 0.31834989787534335,\n        \"min\": -0.41504046173507825,\n        \"max\": 1.0,\n        \"num_unique_values\": 14,\n        \"samples\": [\n          0.504091973033799,\n          0.5209680922329956,\n          0.222853419275953\n        ],\n        \"semantic_type\": \"\",\n        \"description\": \"\"\n      }\n    }\n  ]\n}"
            }
          },
          "metadata": {},
          "execution_count": 401
        }
      ],
      "source": [
        "df_corr = df.corr()\n",
        "df_corr"
      ]
    },
    {
      "cell_type": "code",
      "source": [
        "sns.heatmap(df_corr)"
      ],
      "metadata": {
        "colab": {
          "base_uri": "https://localhost:8080/",
          "height": 496
        },
        "id": "bX49PLRhVgY7",
        "outputId": "7e8b2dfd-5d06-4908-9541-d01ec8927e50"
      },
      "execution_count": 402,
      "outputs": [
        {
          "output_type": "execute_result",
          "data": {
            "text/plain": [
              "<Axes: >"
            ]
          },
          "metadata": {},
          "execution_count": 402
        },
        {
          "output_type": "display_data",
          "data": {
            "text/plain": [
              "<Figure size 640x480 with 2 Axes>"
            ],
            "image/png": "[encoded data removed]"
          },
          "metadata": {}
        }
      ]
    },
    {
      "cell_type": "markdown",
      "metadata": {
        "id": "4sr84AFdnxMh"
      },
      "source": [
        "# dropping columns with less than 10% correlation"
      ]
    },
    {
      "cell_type": "code",
      "execution_count": 403,
      "metadata": {
        "colab": {
          "base_uri": "https://localhost:8080/"
        },
        "id": "2e0PDOwFmaAs",
        "outputId": "f83f602e-7a72-44d4-fa09-04ea5b4a33dc"
      },
      "outputs": [
        {
          "output_type": "stream",
          "name": "stdout",
          "text": [
            "<class 'pandas.core.frame.DataFrame'>\n",
            "RangeIndex: 303 entries, 0 to 302\n",
            "Data columns (total 12 columns):\n",
            " #   Column    Non-Null Count  Dtype  \n",
            "---  ------    --------------  -----  \n",
            " 0   age       303 non-null    int64  \n",
            " 1   sex       303 non-null    int64  \n",
            " 2   cp        303 non-null    int64  \n",
            " 3   trestbps  303 non-null    int64  \n",
            " 4   restecg   303 non-null    int64  \n",
            " 5   thalach   303 non-null    int64  \n",
            " 6   exang     303 non-null    int64  \n",
            " 7   oldpeak   303 non-null    float64\n",
            " 8   slope     303 non-null    int64  \n",
            " 9   ca        303 non-null    float64\n",
            " 10  thal      303 non-null    float64\n",
            " 11  num       303 non-null    int64  \n",
            "dtypes: float64(3), int64(9)\n",
            "memory usage: 28.5 KB\n"
          ]
        }
      ],
      "source": [
        "corr_coef_with_target_value = df_corr[\"num\"].values\n",
        "indexes_with_lessthan_1_corr = []\n",
        "for i in corr_coef_with_target_value:\n",
        "  if (abs(i)<0.1):\n",
        "    indexes_with_lessthan_1_corr.append(indexOf(corr_coef_with_target_value,i))\n",
        "\n",
        "df.drop(df.columns[indexes_with_lessthan_1_corr], axis=1,inplace=True)\n",
        "df.info()"
      ]
    },
    {
      "cell_type": "markdown",
      "metadata": {
        "id": "6umiTZ-abmHX"
      },
      "source": [
        "# Splitting training data into training and testing datasets\n",
        "\n"
      ]
    },
    {
      "cell_type": "code",
      "execution_count": 404,
      "metadata": {
        "id": "QNs0cgk1rKtQ"
      },
      "outputs": [],
      "source": [
        "y = df['num']\n",
        "df_X = df.drop(columns=['num'])"
      ]
    },
    {
      "cell_type": "code",
      "execution_count": 405,
      "metadata": {
        "id": "CpFZdu8NbuKE"
      },
      "outputs": [],
      "source": [
        "from sklearn.model_selection import train_test_split\n",
        "X_train, X_test, y_train, y_test = train_test_split(df_X, y, test_size = 0.25, random_state = 0, stratify = df[\"num\"])"
      ]
    },
    {
      "cell_type": "markdown",
      "source": [
        "#Oversampling the data to make the \"num\" column balanced using the oversample technique\n"
      ],
      "metadata": {
        "id": "pSjDfsguz1zU"
      }
    },
    {
      "cell_type": "code",
      "source": [
        "# from sklearn.utils import resample, shuffle\n",
        "# Train_data = pd.concat([X_train, y_train], axis = 1)\n",
        "\n",
        "# df_majority = Train_data[Train_data[\"num\"] == 0]\n",
        "# df_minor_1 = Train_data[Train_data[\"num\"] == 1]\n",
        "# df_minor_2 = Train_data[Train_data[\"num\"] == 2]\n",
        "# df_minor_3 = Train_data[Train_data[\"num\"] == 3]\n",
        "# df_minor_4 = Train_data[Train_data[\"num\"] == 4]\n",
        "\n",
        "# majority_size = df_majority[\"num\"].count()\n",
        "\n",
        "# df_minor_1_upsampled = resample(df_minor_1, n_samples = majority_size, replace = True, random_state = 0)\n",
        "# df_minor_2_upsampled = resample(df_minor_2, n_samples = majority_size, replace = True, random_state = 0)\n",
        "# df_minor_3_upsampled = resample(df_minor_3, n_samples = majority_size, replace = True, random_state = 0)\n",
        "# df_minor_4_upsampled = resample(df_minor_4, n_samples = majority_size, replace = True, random_state = 0)\n",
        "\n",
        "# Train_data = pd.concat([df_majority, df_minor_1_upsampled, df_minor_2_upsampled, df_minor_3_upsampled, df_minor_4_upsampled])\n",
        "# Train_data = shuffle(Train_data)\n",
        "# Train_data.reset_index(inplace = True, drop = True)\n",
        "\n",
        "\n",
        "# X_train = Train_data.drop(columns = [\"num\"])\n",
        "# y_train = Train_data[\"num\"]"
      ],
      "metadata": {
        "id": "qHfKHvkN0A-6"
      },
      "execution_count": 406,
      "outputs": []
    },
    {
      "cell_type": "code",
      "source": [
        "# X_train"
      ],
      "metadata": {
        "id": "LOcC7fv03asH"
      },
      "execution_count": 407,
      "outputs": []
    },
    {
      "cell_type": "code",
      "source": [
        "# y_train"
      ],
      "metadata": {
        "id": "6S7K2XwA7QDF"
      },
      "execution_count": 408,
      "outputs": []
    },
    {
      "cell_type": "markdown",
      "source": [
        "#Oversampling the data to make the \"num\" column balanced using SMOTE technique\n"
      ],
      "metadata": {
        "id": "4VTS0VoiQrBQ"
      }
    },
    {
      "cell_type": "code",
      "source": [
        "from imblearn.over_sampling import SMOTE\n",
        "\n",
        "smote = SMOTE(sampling_strategy='minority', random_state=0)\n",
        "X_train, y_train = smote.fit_resample(X_train, y_train)"
      ],
      "metadata": {
        "id": "0MfKuw8NQrBg"
      },
      "execution_count": 409,
      "outputs": []
    },
    {
      "cell_type": "code",
      "source": [
        "X_train"
      ],
      "metadata": {
        "colab": {
          "base_uri": "https://localhost:8080/",
          "height": 443
        },
        "outputId": "d2343225-26fc-4a97-c7dc-ed67c3383045",
        "id": "8AzzwsZkQrBh"
      },
      "execution_count": 410,
      "outputs": [
        {
          "output_type": "execute_result",
          "data": {
            "text/plain": [
              "     age  sex  cp  trestbps  restecg  thalach  exang   oldpeak  slope  \\\n",
              "0     55    0   2       132        0      166      0  1.200000      1   \n",
              "1     62    0   4       140        2      157      0  1.200000      2   \n",
              "2     54    1   4       110        2      108      1  0.000000      2   \n",
              "3     51    1   3        94        0      154      1  0.000000      1   \n",
              "4     64    1   1       110        2      144      1  1.800000      2   \n",
              "..   ...  ...  ..       ...      ...      ...    ...       ...    ...   \n",
              "335   57    0   4       150        2      143      0  3.435318      2   \n",
              "336   55    1   4       161        2      140      0  0.843271      2   \n",
              "337   60    0   3       131        2      159      0  3.250039      2   \n",
              "338   50    1   4       148        2      128      0  2.589926      2   \n",
              "339   67    0   4       146        0      133      0  3.021263      2   \n",
              "\n",
              "           ca  thal  \n",
              "0    0.000000   3.0  \n",
              "1    0.000000   3.0  \n",
              "2    1.000000   3.0  \n",
              "3    1.000000   7.0  \n",
              "4    0.000000   3.0  \n",
              "..        ...   ...  \n",
              "335  1.789966   7.0  \n",
              "336  1.432712   7.0  \n",
              "337  2.000053   7.0  \n",
              "338  0.100740   7.0  \n",
              "339  0.902706   7.0  \n",
              "\n",
              "[340 rows x 11 columns]"
            ],
            "text/html": [
              "\n",
              "  <div id=\"df-ce9b5e1f-ffcb-424b-bc2e-6ececa8d452f\" class=\"colab-df-container\">\n",
              "    <div>\n",
              "<style scoped>\n",
              "    .dataframe tbody tr th:only-of-type {\n",
              "        vertical-align: middle;\n",
              "    }\n",
              "\n",
              "    .dataframe tbody tr th {\n",
              "        vertical-align: top;\n",
              "    }\n",
              "\n",
              "    .dataframe thead th {\n",
              "        text-align: right;\n",
              "    }\n",
              "</style>\n",
              "<table border=\"1\" class=\"dataframe\">\n",
              "  <thead>\n",
              "    <tr style=\"text-align: right;\">\n",
              "      <th></th>\n",
              "      <th>age</th>\n",
              "      <th>sex</th>\n",
              "      <th>cp</th>\n",
              "      <th>trestbps</th>\n",
              "      <th>restecg</th>\n",
              "      <th>thalach</th>\n",
              "      <th>exang</th>\n",
              "      <th>oldpeak</th>\n",
              "      <th>slope</th>\n",
              "      <th>ca</th>\n",
              "      <th>thal</th>\n",
              "    </tr>\n",
              "  </thead>\n",
              "  <tbody>\n",
              "    <tr>\n",
              "      <th>0</th>\n",
              "      <td>55</td>\n",
              "      <td>0</td>\n",
              "      <td>2</td>\n",
              "      <td>132</td>\n",
              "      <td>0</td>\n",
              "      <td>166</td>\n",
              "      <td>0</td>\n",
              "      <td>1.200000</td>\n",
              "      <td>1</td>\n",
              "      <td>0.000000</td>\n",
              "      <td>3.0</td>\n",
              "    </tr>\n",
              "    <tr>\n",
              "      <th>1</th>\n",
              "      <td>62</td>\n",
              "      <td>0</td>\n",
              "      <td>4</td>\n",
              "      <td>140</td>\n",
              "      <td>2</td>\n",
              "      <td>157</td>\n",
              "      <td>0</td>\n",
              "      <td>1.200000</td>\n",
              "      <td>2</td>\n",
              "      <td>0.000000</td>\n",
              "      <td>3.0</td>\n",
              "    </tr>\n",
              "    <tr>\n",
              "      <th>2</th>\n",
              "      <td>54</td>\n",
              "      <td>1</td>\n",
              "      <td>4</td>\n",
              "      <td>110</td>\n",
              "      <td>2</td>\n",
              "      <td>108</td>\n",
              "      <td>1</td>\n",
              "      <td>0.000000</td>\n",
              "      <td>2</td>\n",
              "      <td>1.000000</td>\n",
              "      <td>3.0</td>\n",
              "    </tr>\n",
              "    <tr>\n",
              "      <th>3</th>\n",
              "      <td>51</td>\n",
              "      <td>1</td>\n",
              "      <td>3</td>\n",
              "      <td>94</td>\n",
              "      <td>0</td>\n",
              "      <td>154</td>\n",
              "      <td>1</td>\n",
              "      <td>0.000000</td>\n",
              "      <td>1</td>\n",
              "      <td>1.000000</td>\n",
              "      <td>7.0</td>\n",
              "    </tr>\n",
              "    <tr>\n",
              "      <th>4</th>\n",
              "      <td>64</td>\n",
              "      <td>1</td>\n",
              "      <td>1</td>\n",
              "      <td>110</td>\n",
              "      <td>2</td>\n",
              "      <td>144</td>\n",
              "      <td>1</td>\n",
              "      <td>1.800000</td>\n",
              "      <td>2</td>\n",
              "      <td>0.000000</td>\n",
              "      <td>3.0</td>\n",
              "    </tr>\n",
              "    <tr>\n",
              "      <th>...</th>\n",
              "      <td>...</td>\n",
              "      <td>...</td>\n",
              "      <td>...</td>\n",
              "      <td>...</td>\n",
              "      <td>...</td>\n",
              "      <td>...</td>\n",
              "      <td>...</td>\n",
              "      <td>...</td>\n",
              "      <td>...</td>\n",
              "      <td>...</td>\n",
              "      <td>...</td>\n",
              "    </tr>\n",
              "    <tr>\n",
              "      <th>335</th>\n",
              "      <td>57</td>\n",
              "      <td>0</td>\n",
              "      <td>4</td>\n",
              "      <td>150</td>\n",
              "      <td>2</td>\n",
              "      <td>143</td>\n",
              "      <td>0</td>\n",
              "      <td>3.435318</td>\n",
              "      <td>2</td>\n",
              "      <td>1.789966</td>\n",
              "      <td>7.0</td>\n",
              "    </tr>\n",
              "    <tr>\n",
              "      <th>336</th>\n",
              "      <td>55</td>\n",
              "      <td>1</td>\n",
              "      <td>4</td>\n",
              "      <td>161</td>\n",
              "      <td>2</td>\n",
              "      <td>140</td>\n",
              "      <td>0</td>\n",
              "      <td>0.843271</td>\n",
              "      <td>2</td>\n",
              "      <td>1.432712</td>\n",
              "      <td>7.0</td>\n",
              "    </tr>\n",
              "    <tr>\n",
              "      <th>337</th>\n",
              "      <td>60</td>\n",
              "      <td>0</td>\n",
              "      <td>3</td>\n",
              "      <td>131</td>\n",
              "      <td>2</td>\n",
              "      <td>159</td>\n",
              "      <td>0</td>\n",
              "      <td>3.250039</td>\n",
              "      <td>2</td>\n",
              "      <td>2.000053</td>\n",
              "      <td>7.0</td>\n",
              "    </tr>\n",
              "    <tr>\n",
              "      <th>338</th>\n",
              "      <td>50</td>\n",
              "      <td>1</td>\n",
              "      <td>4</td>\n",
              "      <td>148</td>\n",
              "      <td>2</td>\n",
              "      <td>128</td>\n",
              "      <td>0</td>\n",
              "      <td>2.589926</td>\n",
              "      <td>2</td>\n",
              "      <td>0.100740</td>\n",
              "      <td>7.0</td>\n",
              "    </tr>\n",
              "    <tr>\n",
              "      <th>339</th>\n",
              "      <td>67</td>\n",
              "      <td>0</td>\n",
              "      <td>4</td>\n",
              "      <td>146</td>\n",
              "      <td>0</td>\n",
              "      <td>133</td>\n",
              "      <td>0</td>\n",
              "      <td>3.021263</td>\n",
              "      <td>2</td>\n",
              "      <td>0.902706</td>\n",
              "      <td>7.0</td>\n",
              "    </tr>\n",
              "  </tbody>\n",
              "</table>\n",
              "<p>340 rows × 11 columns</p>\n",
              "</div>\n",
              "    <div class=\"colab-df-buttons\">\n",
              "\n",
              "  <div class=\"colab-df-container\">\n",
              "    <button class=\"colab-df-convert\" onclick=\"convertToInteractive('df-ce9b5e1f-ffcb-424b-bc2e-6ececa8d452f')\"\n",
              "            title=\"Convert this dataframe to an interactive table.\"\n",
              "            style=\"display:none;\">\n",
              "\n",
              "  <svg xmlns=\"http://www.w3.org/2000/svg\" height=\"24px\" viewBox=\"0 -960 960 960\">\n",
              "    <path d=\"M120-120v-720h720v720H120Zm60-500h600v-160H180v160Zm220 220h160v-160H400v160Zm0 220h160v-160H400v160ZM180-400h160v-160H180v160Zm440 0h160v-160H620v160ZM180-180h160v-160H180v160Zm440 0h160v-160H620v160Z\"/>\n",
              "  </svg>\n",
              "    </button>\n",
              "\n",
              "  <style>\n",
              "    .colab-df-container {\n",
              "      display:flex;\n",
              "      gap: 12px;\n",
              "    }\n",
              "\n",
              "    .colab-df-convert {\n",
              "      background-color: #E8F0FE;\n",
              "      border: none;\n",
              "      border-radius: 50%;\n",
              "      cursor: pointer;\n",
              "      display: none;\n",
              "      fill: #1967D2;\n",
              "      height: 32px;\n",
              "      padding: 0 0 0 0;\n",
              "      width: 32px;\n",
              "    }\n",
              "\n",
              "    .colab-df-convert:hover {\n",
              "      background-color: #E2EBFA;\n",
              "      box-shadow: 0px 1px 2px rgba(60, 64, 67, 0.3), 0px 1px 3px 1px rgba(60, 64, 67, 0.15);\n",
              "      fill: #174EA6;\n",
              "    }\n",
              "\n",
              "    .colab-df-buttons div {\n",
              "      margin-bottom: 4px;\n",
              "    }\n",
              "\n",
              "    [theme=dark] .colab-df-convert {\n",
              "      background-color: #3B4455;\n",
              "      fill: #D2E3FC;\n",
              "    }\n",
              "\n",
              "    [theme=dark] .colab-df-convert:hover {\n",
              "      background-color: #434B5C;\n",
              "      box-shadow: 0px 1px 3px 1px rgba(0, 0, 0, 0.15);\n",
              "      filter: drop-shadow(0px 1px 2px rgba(0, 0, 0, 0.3));\n",
              "      fill: #FFFFFF;\n",
              "    }\n",
              "  </style>\n",
              "\n",
              "    <script>\n",
              "      const buttonEl =\n",
              "        document.querySelector('#df-ce9b5e1f-ffcb-424b-bc2e-6ececa8d452f button.colab-df-convert');\n",
              "      buttonEl.style.display =\n",
              "        google.colab.kernel.accessAllowed ? 'block' : 'none';\n",
              "\n",
              "      async function convertToInteractive(key) {\n",
              "        const element = document.querySelector('#df-ce9b5e1f-ffcb-424b-bc2e-6ececa8d452f');\n",
              "        const dataTable =\n",
              "          await google.colab.kernel.invokeFunction('convertToInteractive',\n",
              "                                                    [key], {});\n",
              "        if (!dataTable) return;\n",
              "\n",
              "        const docLinkHtml = 'Like what you see? Visit the ' +\n",
              "          '<a target=\"_blank\" href=https://colab.research.google.com/notebooks/data_table.ipynb>data table notebook</a>'\n",
              "          + ' to learn more about interactive tables.';\n",
              "        element.innerHTML = '';\n",
              "        dataTable['output_type'] = 'display_data';\n",
              "        await google.colab.output.renderOutput(dataTable, element);\n",
              "        const docLink = document.createElement('div');\n",
              "        docLink.innerHTML = docLinkHtml;\n",
              "        element.appendChild(docLink);\n",
              "      }\n",
              "    </script>\n",
              "  </div>\n",
              "\n",
              "\n",
              "<div id=\"df-95e13393-bf35-46aa-a7a4-4b84a166b270\">\n",
              "  <button class=\"colab-df-quickchart\" onclick=\"quickchart('df-95e13393-bf35-46aa-a7a4-4b84a166b270')\"\n",
              "            title=\"Suggest charts\"\n",
              "            style=\"display:none;\">\n",
              "\n",
              "<svg xmlns=\"http://www.w3.org/2000/svg\" height=\"24px\"viewBox=\"0 0 24 24\"\n",
              "     width=\"24px\">\n",
              "    <g>\n",
              "        <path d=\"M19 3H5c-1.1 0-2 .9-2 2v14c0 1.1.9 2 2 2h14c1.1 0 2-.9 2-2V5c0-1.1-.9-2-2-2zM9 17H7v-7h2v7zm4 0h-2V7h2v10zm4 0h-2v-4h2v4z\"/>\n",
              "    </g>\n",
              "</svg>\n",
              "  </button>\n",
              "\n",
              "<style>\n",
              "  .colab-df-quickchart {\n",
              "      --bg-color: #E8F0FE;\n",
              "      --fill-color: #1967D2;\n",
              "      --hover-bg-color: #E2EBFA;\n",
              "      --hover-fill-color: #174EA6;\n",
              "      --disabled-fill-color: #AAA;\n",
              "      --disabled-bg-color: #DDD;\n",
              "  }\n",
              "\n",
              "  [theme=dark] .colab-df-quickchart {\n",
              "      --bg-color: #3B4455;\n",
              "      --fill-color: #D2E3FC;\n",
              "      --hover-bg-color: #434B5C;\n",
              "      --hover-fill-color: #FFFFFF;\n",
              "      --disabled-bg-color: #3B4455;\n",
              "      --disabled-fill-color: #666;\n",
              "  }\n",
              "\n",
              "  .colab-df-quickchart {\n",
              "    background-color: var(--bg-color);\n",
              "    border: none;\n",
              "    border-radius: 50%;\n",
              "    cursor: pointer;\n",
              "    display: none;\n",
              "    fill: var(--fill-color);\n",
              "    height: 32px;\n",
              "    padding: 0;\n",
              "    width: 32px;\n",
              "  }\n",
              "\n",
              "  .colab-df-quickchart:hover {\n",
              "    background-color: var(--hover-bg-color);\n",
              "    box-shadow: 0 1px 2px rgba(60, 64, 67, 0.3), 0 1px 3px 1px rgba(60, 64, 67, 0.15);\n",
              "    fill: var(--button-hover-fill-color);\n",
              "  }\n",
              "\n",
              "  .colab-df-quickchart-complete:disabled,\n",
              "  .colab-df-quickchart-complete:disabled:hover {\n",
              "    background-color: var(--disabled-bg-color);\n",
              "    fill: var(--disabled-fill-color);\n",
              "    box-shadow: none;\n",
              "  }\n",
              "\n",
              "  .colab-df-spinner {\n",
              "    border: 2px solid var(--fill-color);\n",
              "    border-color: transparent;\n",
              "    border-bottom-color: var(--fill-color);\n",
              "    animation:\n",
              "      spin 1s steps(1) infinite;\n",
              "  }\n",
              "\n",
              "  @keyframes spin {\n",
              "    0% {\n",
              "      border-color: transparent;\n",
              "      border-bottom-color: var(--fill-color);\n",
              "      border-left-color: var(--fill-color);\n",
              "    }\n",
              "    20% {\n",
              "      border-color: transparent;\n",
              "      border-left-color: var(--fill-color);\n",
              "      border-top-color: var(--fill-color);\n",
              "    }\n",
              "    30% {\n",
              "      border-color: transparent;\n",
              "      border-left-color: var(--fill-color);\n",
              "      border-top-color: var(--fill-color);\n",
              "      border-right-color: var(--fill-color);\n",
              "    }\n",
              "    40% {\n",
              "      border-color: transparent;\n",
              "      border-right-color: var(--fill-color);\n",
              "      border-top-color: var(--fill-color);\n",
              "    }\n",
              "    60% {\n",
              "      border-color: transparent;\n",
              "      border-right-color: var(--fill-color);\n",
              "    }\n",
              "    80% {\n",
              "      border-color: transparent;\n",
              "      border-right-color: var(--fill-color);\n",
              "      border-bottom-color: var(--fill-color);\n",
              "    }\n",
              "    90% {\n",
              "      border-color: transparent;\n",
              "      border-bottom-color: var(--fill-color);\n",
              "    }\n",
              "  }\n",
              "</style>\n",
              "\n",
              "  <script>\n",
              "    async function quickchart(key) {\n",
              "      const quickchartButtonEl =\n",
              "        document.querySelector('#' + key + ' button');\n",
              "      quickchartButtonEl.disabled = true;  // To prevent multiple clicks.\n",
              "      quickchartButtonEl.classList.add('colab-df-spinner');\n",
              "      try {\n",
              "        const charts = await google.colab.kernel.invokeFunction(\n",
              "            'suggestCharts', [key], {});\n",
              "      } catch (error) {\n",
              "        console.error('Error during call to suggestCharts:', error);\n",
              "      }\n",
              "      quickchartButtonEl.classList.remove('colab-df-spinner');\n",
              "      quickchartButtonEl.classList.add('colab-df-quickchart-complete');\n",
              "    }\n",
              "    (() => {\n",
              "      let quickchartButtonEl =\n",
              "        document.querySelector('#df-95e13393-bf35-46aa-a7a4-4b84a166b270 button');\n",
              "      quickchartButtonEl.style.display =\n",
              "        google.colab.kernel.accessAllowed ? 'block' : 'none';\n",
              "    })();\n",
              "  </script>\n",
              "</div>\n",
              "\n",
              "  <div id=\"id_a10f4bc4-f900-41de-a899-420984312f48\">\n",
              "    <style>\n",
              "      .colab-df-generate {\n",
              "        background-color: #E8F0FE;\n",
              "        border: none;\n",
              "        border-radius: 50%;\n",
              "        cursor: pointer;\n",
              "        display: none;\n",
              "        fill: #1967D2;\n",
              "        height: 32px;\n",
              "        padding: 0 0 0 0;\n",
              "        width: 32px;\n",
              "      }\n",
              "\n",
              "      .colab-df-generate:hover {\n",
              "        background-color: #E2EBFA;\n",
              "        box-shadow: 0px 1px 2px rgba(60, 64, 67, 0.3), 0px 1px 3px 1px rgba(60, 64, 67, 0.15);\n",
              "        fill: #174EA6;\n",
              "      }\n",
              "\n",
              "      [theme=dark] .colab-df-generate {\n",
              "        background-color: #3B4455;\n",
              "        fill: #D2E3FC;\n",
              "      }\n",
              "\n",
              "      [theme=dark] .colab-df-generate:hover {\n",
              "        background-color: #434B5C;\n",
              "        box-shadow: 0px 1px 3px 1px rgba(0, 0, 0, 0.15);\n",
              "        filter: drop-shadow(0px 1px 2px rgba(0, 0, 0, 0.3));\n",
              "        fill: #FFFFFF;\n",
              "      }\n",
              "    </style>\n",
              "    <button class=\"colab-df-generate\" onclick=\"generateWithVariable('X_train')\"\n",
              "            title=\"Generate code using this dataframe.\"\n",
              "            style=\"display:none;\">\n",
              "\n",
              "  <svg xmlns=\"http://www.w3.org/2000/svg\" height=\"24px\"viewBox=\"0 0 24 24\"\n",
              "       width=\"24px\">\n",
              "    <path d=\"M7,19H8.4L18.45,9,17,7.55,7,17.6ZM5,21V16.75L18.45,3.32a2,2,0,0,1,2.83,0l1.4,1.43a1.91,1.91,0,0,1,.58,1.4,1.91,1.91,0,0,1-.58,1.4L9.25,21ZM18.45,9,17,7.55Zm-12,3A5.31,5.31,0,0,0,4.9,8.1,5.31,5.31,0,0,0,1,6.5,5.31,5.31,0,0,0,4.9,4.9,5.31,5.31,0,0,0,6.5,1,5.31,5.31,0,0,0,8.1,4.9,5.31,5.31,0,0,0,12,6.5,5.46,5.46,0,0,0,6.5,12Z\"/>\n",
              "  </svg>\n",
              "    </button>\n",
              "    <script>\n",
              "      (() => {\n",
              "      const buttonEl =\n",
              "        document.querySelector('#id_a10f4bc4-f900-41de-a899-420984312f48 button.colab-df-generate');\n",
              "      buttonEl.style.display =\n",
              "        google.colab.kernel.accessAllowed ? 'block' : 'none';\n",
              "\n",
              "      buttonEl.onclick = () => {\n",
              "        google.colab.notebook.generateWithVariable('X_train');\n",
              "      }\n",
              "      })();\n",
              "    </script>\n",
              "  </div>\n",
              "\n",
              "    </div>\n",
              "  </div>\n"
            ],
            "application/vnd.google.colaboratory.intrinsic+json": {
              "type": "dataframe",
              "variable_name": "X_train",
              "summary": "{\n  \"name\": \"X_train\",\n  \"rows\": 340,\n  \"fields\": [\n    {\n      \"column\": \"age\",\n      \"properties\": {\n        \"dtype\": \"number\",\n        \"std\": 8,\n        \"min\": 34,\n        \"max\": 77,\n        \"num_unique_values\": 41,\n        \"samples\": [\n          47,\n          53,\n          59\n        ],\n        \"semantic_type\": \"\",\n        \"description\": \"\"\n      }\n    },\n    {\n      \"column\": \"sex\",\n      \"properties\": {\n        \"dtype\": \"number\",\n        \"std\": 0,\n        \"min\": 0,\n        \"max\": 1,\n        \"num_unique_values\": 2,\n        \"samples\": [\n          1,\n          0\n        ],\n        \"semantic_type\": \"\",\n        \"description\": \"\"\n      }\n    },\n    {\n      \"column\": \"cp\",\n      \"properties\": {\n        \"dtype\": \"number\",\n        \"std\": 0,\n        \"min\": 1,\n        \"max\": 4,\n        \"num_unique_values\": 4,\n        \"samples\": [\n          4,\n          1\n        ],\n        \"semantic_type\": \"\",\n        \"description\": \"\"\n      }\n    },\n    {\n      \"column\": \"trestbps\",\n      \"properties\": {\n        \"dtype\": \"number\",\n        \"std\": 17,\n        \"min\": 94,\n        \"max\": 200,\n        \"num_unique_values\": 63,\n        \"samples\": [\n          113,\n          137\n        ],\n        \"semantic_type\": \"\",\n        \"description\": \"\"\n      }\n    },\n    {\n      \"column\": \"restecg\",\n      \"properties\": {\n        \"dtype\": \"number\",\n        \"std\": 0,\n        \"min\": 0,\n        \"max\": 2,\n        \"num_unique_values\": 3,\n        \"samples\": [\n          0,\n          2\n        ],\n        \"semantic_type\": \"\",\n        \"description\": \"\"\n      }\n    },\n    {\n      \"column\": \"thalach\",\n      \"properties\": {\n        \"dtype\": \"number\",\n        \"std\": 20,\n        \"min\": 71,\n        \"max\": 195,\n        \"num_unique_values\": 87,\n        \"samples\": [\n          124,\n          166\n        ],\n        \"semantic_type\": \"\",\n        \"description\": \"\"\n      }\n    },\n    {\n      \"column\": \"exang\",\n      \"properties\": {\n        \"dtype\": \"number\",\n        \"std\": 0,\n        \"min\": 0,\n        \"max\": 1,\n        \"num_unique_values\": 2,\n        \"samples\": [\n          1,\n          0\n        ],\n        \"semantic_type\": \"\",\n        \"description\": \"\"\n      }\n    },\n    {\n      \"column\": \"oldpeak\",\n      \"properties\": {\n        \"dtype\": \"number\",\n        \"std\": 1.3317066891012614,\n        \"min\": 0.0,\n        \"max\": 6.2,\n        \"num_unique_values\": 144,\n        \"samples\": [\n          1.859485897240182,\n          1.3\n        ],\n        \"semantic_type\": \"\",\n        \"description\": \"\"\n      }\n    },\n    {\n      \"column\": \"slope\",\n      \"properties\": {\n        \"dtype\": \"number\",\n        \"std\": 0,\n        \"min\": 1,\n        \"max\": 3,\n        \"num_unique_values\": 3,\n        \"samples\": [\n          1,\n          2\n        ],\n        \"semantic_type\": \"\",\n        \"description\": \"\"\n      }\n    },\n    {\n      \"column\": \"ca\",\n      \"properties\": {\n        \"dtype\": \"number\",\n        \"std\": 1.0624263062061454,\n        \"min\": 0.0,\n        \"max\": 3.0,\n        \"num_unique_values\": 98,\n        \"samples\": [\n          0.9840422413641464,\n          2.021429071579283\n        ],\n        \"semantic_type\": \"\",\n        \"description\": \"\"\n      }\n    },\n    {\n      \"column\": \"thal\",\n      \"properties\": {\n        \"dtype\": \"number\",\n        \"std\": 1.8914173414225315,\n        \"min\": 3.0,\n        \"max\": 7.0,\n        \"num_unique_values\": 34,\n        \"samples\": [\n          3.411453434773753,\n          6.097259927063174\n        ],\n        \"semantic_type\": \"\",\n        \"description\": \"\"\n      }\n    }\n  ]\n}"
            }
          },
          "metadata": {},
          "execution_count": 410
        }
      ]
    },
    {
      "cell_type": "code",
      "source": [
        "y_train"
      ],
      "metadata": {
        "colab": {
          "base_uri": "https://localhost:8080/",
          "height": 458
        },
        "outputId": "ff4ec495-6d77-436c-93e6-9e1df8cf1af4",
        "id": "QK2DOy6LQrBi"
      },
      "execution_count": 411,
      "outputs": [
        {
          "output_type": "execute_result",
          "data": {
            "text/plain": [
              "0      0\n",
              "1      0\n",
              "2      3\n",
              "3      0\n",
              "4      0\n",
              "      ..\n",
              "335    4\n",
              "336    4\n",
              "337    4\n",
              "338    4\n",
              "339    4\n",
              "Name: num, Length: 340, dtype: int64"
            ],
            "text/html": [
              "<div>\n",
              "<style scoped>\n",
              "    .dataframe tbody tr th:only-of-type {\n",
              "        vertical-align: middle;\n",
              "    }\n",
              "\n",
              "    .dataframe tbody tr th {\n",
              "        vertical-align: top;\n",
              "    }\n",
              "\n",
              "    .dataframe thead th {\n",
              "        text-align: right;\n",
              "    }\n",
              "</style>\n",
              "<table border=\"1\" class=\"dataframe\">\n",
              "  <thead>\n",
              "    <tr style=\"text-align: right;\">\n",
              "      <th></th>\n",
              "      <th>num</th>\n",
              "    </tr>\n",
              "  </thead>\n",
              "  <tbody>\n",
              "    <tr>\n",
              "      <th>0</th>\n",
              "      <td>0</td>\n",
              "    </tr>\n",
              "    <tr>\n",
              "      <th>1</th>\n",
              "      <td>0</td>\n",
              "    </tr>\n",
              "    <tr>\n",
              "      <th>2</th>\n",
              "      <td>3</td>\n",
              "    </tr>\n",
              "    <tr>\n",
              "      <th>3</th>\n",
              "      <td>0</td>\n",
              "    </tr>\n",
              "    <tr>\n",
              "      <th>4</th>\n",
              "      <td>0</td>\n",
              "    </tr>\n",
              "    <tr>\n",
              "      <th>...</th>\n",
              "      <td>...</td>\n",
              "    </tr>\n",
              "    <tr>\n",
              "      <th>335</th>\n",
              "      <td>4</td>\n",
              "    </tr>\n",
              "    <tr>\n",
              "      <th>336</th>\n",
              "      <td>4</td>\n",
              "    </tr>\n",
              "    <tr>\n",
              "      <th>337</th>\n",
              "      <td>4</td>\n",
              "    </tr>\n",
              "    <tr>\n",
              "      <th>338</th>\n",
              "      <td>4</td>\n",
              "    </tr>\n",
              "    <tr>\n",
              "      <th>339</th>\n",
              "      <td>4</td>\n",
              "    </tr>\n",
              "  </tbody>\n",
              "</table>\n",
              "<p>340 rows × 1 columns</p>\n",
              "</div><br><label><b>dtype:</b> int64</label>"
            ]
          },
          "metadata": {},
          "execution_count": 411
        }
      ]
    },
    {
      "cell_type": "markdown",
      "metadata": {
        "id": "C4usnzaB8QQt"
      },
      "source": [
        "#Data scaling"
      ]
    },
    {
      "cell_type": "code",
      "execution_count": 412,
      "metadata": {
        "id": "xGgL9a3t8VfF"
      },
      "outputs": [],
      "source": [
        "# from sklearn.preprocessing import StandardScaler\n",
        "# sc = StandardScaler()\n",
        "# X_train = sc.fit_transform(X_train)\n",
        "# X_test = sc.transform(X_test)"
      ]
    },
    {
      "cell_type": "code",
      "source": [
        "from sklearn.preprocessing import MinMaxScaler\n",
        "scaler = MinMaxScaler()\n",
        "X_train = scaler.fit_transform(X_train)\n",
        "X_test = scaler.transform(X_test)"
      ],
      "metadata": {
        "id": "OBLm_kKuFTee"
      },
      "execution_count": 413,
      "outputs": []
    },
    {
      "cell_type": "code",
      "source": [
        "# from sklearn.preprocessing import RobustScaler\n",
        "# scaler = RobustScaler()\n",
        "# X_train = scaler.fit_transform(X_train)\n",
        "# X_test = scaler.transform(X_test)"
      ],
      "metadata": {
        "id": "nXan2vVG_ift"
      },
      "execution_count": 414,
      "outputs": []
    },
    {
      "cell_type": "markdown",
      "metadata": {
        "id": "gw15OuFWsKTF"
      },
      "source": [
        "#Trainnig Logistic regression model\n",
        "\n"
      ]
    },
    {
      "cell_type": "code",
      "execution_count": 415,
      "metadata": {
        "colab": {
          "base_uri": "https://localhost:8080/",
          "height": 74
        },
        "id": "MHw608VpsJux",
        "outputId": "c5a321be-c3de-43ea-e149-cb3000d4e1e8"
      },
      "outputs": [
        {
          "output_type": "execute_result",
          "data": {
            "text/plain": [
              "LogisticRegression(random_state=0, solver='liblinear')"
            ],
            "text/html": [
              "<style>#sk-container-id-38 {color: black;}#sk-container-id-38 pre{padding: 0;}#sk-container-id-38 div.sk-toggleable {background-color: white;}#sk-container-id-38 label.sk-toggleable__label {cursor: pointer;display: block;width: 100%;margin-bottom: 0;padding: 0.3em;box-sizing: border-box;text-align: center;}#sk-container-id-38 label.sk-toggleable__label-arrow:before {content: \"▸\";float: left;margin-right: 0.25em;color: #696969;}#sk-container-id-38 label.sk-toggleable__label-arrow:hover:before {color: black;}#sk-container-id-38 div.sk-estimator:hover label.sk-toggleable__label-arrow:before {color: black;}#sk-container-id-38 div.sk-toggleable__content {max-height: 0;max-width: 0;overflow: hidden;text-align: left;background-color: #f0f8ff;}#sk-container-id-38 div.sk-toggleable__content pre {margin: 0.2em;color: black;border-radius: 0.25em;background-color: #f0f8ff;}#sk-container-id-38 input.sk-toggleable__control:checked~div.sk-toggleable__content {max-height: 200px;max-width: 100%;overflow: auto;}#sk-container-id-38 input.sk-toggleable__control:checked~label.sk-toggleable__label-arrow:before {content: \"▾\";}#sk-container-id-38 div.sk-estimator input.sk-toggleable__control:checked~label.sk-toggleable__label {background-color: #d4ebff;}#sk-container-id-38 div.sk-label input.sk-toggleable__control:checked~label.sk-toggleable__label {background-color: #d4ebff;}#sk-container-id-38 input.sk-hidden--visually {border: 0;clip: rect(1px 1px 1px 1px);clip: rect(1px, 1px, 1px, 1px);height: 1px;margin: -1px;overflow: hidden;padding: 0;position: absolute;width: 1px;}#sk-container-id-38 div.sk-estimator {font-family: monospace;background-color: #f0f8ff;border: 1px dotted black;border-radius: 0.25em;box-sizing: border-box;margin-bottom: 0.5em;}#sk-container-id-38 div.sk-estimator:hover {background-color: #d4ebff;}#sk-container-id-38 div.sk-parallel-item::after {content: \"\";width: 100%;border-bottom: 1px solid gray;flex-grow: 1;}#sk-container-id-38 div.sk-label:hover label.sk-toggleable__label {background-color: #d4ebff;}#sk-container-id-38 div.sk-serial::before {content: \"\";position: absolute;border-left: 1px solid gray;box-sizing: border-box;top: 0;bottom: 0;left: 50%;z-index: 0;}#sk-container-id-38 div.sk-serial {display: flex;flex-direction: column;align-items: center;background-color: white;padding-right: 0.2em;padding-left: 0.2em;position: relative;}#sk-container-id-38 div.sk-item {position: relative;z-index: 1;}#sk-container-id-38 div.sk-parallel {display: flex;align-items: stretch;justify-content: center;background-color: white;position: relative;}#sk-container-id-38 div.sk-item::before, #sk-container-id-38 div.sk-parallel-item::before {content: \"\";position: absolute;border-left: 1px solid gray;box-sizing: border-box;top: 0;bottom: 0;left: 50%;z-index: -1;}#sk-container-id-38 div.sk-parallel-item {display: flex;flex-direction: column;z-index: 1;position: relative;background-color: white;}#sk-container-id-38 div.sk-parallel-item:first-child::after {align-self: flex-end;width: 50%;}#sk-container-id-38 div.sk-parallel-item:last-child::after {align-self: flex-start;width: 50%;}#sk-container-id-38 div.sk-parallel-item:only-child::after {width: 0;}#sk-container-id-38 div.sk-dashed-wrapped {border: 1px dashed gray;margin: 0 0.4em 0.5em 0.4em;box-sizing: border-box;padding-bottom: 0.4em;background-color: white;}#sk-container-id-38 div.sk-label label {font-family: monospace;font-weight: bold;display: inline-block;line-height: 1.2em;}#sk-container-id-38 div.sk-label-container {text-align: center;}#sk-container-id-38 div.sk-container {/* jupyter's `normalize.less` sets `[hidden] { display: none; }` but bootstrap.min.css set `[hidden] { display: none !important; }` so we also need the `!important` here to be able to override the default hidden behavior on the sphinx rendered scikit-learn.org. See: https://github.com/scikit-learn/scikit-learn/issues/21755 */display: inline-block !important;position: relative;}#sk-container-id-38 div.sk-text-repr-fallback {display: none;}</style><div id=\"sk-container-id-38\" class=\"sk-top-container\"><div class=\"sk-text-repr-fallback\"><pre>LogisticRegression(random_state=0, solver=&#x27;liblinear&#x27;)</pre><b>In a Jupyter environment, please rerun this cell to show the HTML representation or trust the notebook. <br />On GitHub, the HTML representation is unable to render, please try loading this page with nbviewer.org.</b></div><div class=\"sk-container\" hidden><div class=\"sk-item\"><div class=\"sk-estimator sk-toggleable\"><input class=\"sk-toggleable__control sk-hidden--visually\" id=\"sk-estimator-id-38\" type=\"checkbox\" checked><label for=\"sk-estimator-id-38\" class=\"sk-toggleable__label sk-toggleable__label-arrow\">LogisticRegression</label><div class=\"sk-toggleable__content\"><pre>LogisticRegression(random_state=0, solver=&#x27;liblinear&#x27;)</pre></div></div></div></div></div>"
            ]
          },
          "metadata": {},
          "execution_count": 415
        }
      ],
      "source": [
        "from sklearn.linear_model import LogisticRegression\n",
        "classifier = LogisticRegression(solver='liblinear',random_state = 0)\n",
        "classifier.fit(X_train, y_train)"
      ]
    },
    {
      "cell_type": "code",
      "execution_count": 416,
      "metadata": {
        "colab": {
          "base_uri": "https://localhost:8080/"
        },
        "id": "RR5xcxPAv0QN",
        "outputId": "f5c11d7f-b354-4bf8-d785-a3ad8a70b23b"
      },
      "outputs": [
        {
          "output_type": "stream",
          "name": "stdout",
          "text": [
            "[[37  2  0  0  2]\n",
            " [ 8  1  0  0  5]\n",
            " [ 2  2  0  0  5]\n",
            " [ 0  1  1  0  7]\n",
            " [ 0  0  0  0  3]]\n"
          ]
        },
        {
          "output_type": "execute_result",
          "data": {
            "text/plain": [
              "0.5394736842105263"
            ]
          },
          "metadata": {},
          "execution_count": 416
        }
      ],
      "source": [
        "from sklearn.metrics import confusion_matrix, accuracy_score\n",
        "y_pred = classifier.predict(X_test)\n",
        "cm = confusion_matrix(y_test, y_pred)\n",
        "print(cm)\n",
        "accuracy_score(y_test, y_pred)"
      ]
    },
    {
      "cell_type": "markdown",
      "source": [
        "###Testing model for overfitting"
      ],
      "metadata": {
        "id": "hJFTSHyWR9Gb"
      }
    },
    {
      "cell_type": "code",
      "source": [
        "y_train_pred = classifier.predict(X_train)\n",
        "cm = confusion_matrix(y_train, y_train_pred)\n",
        "print(cm)\n",
        "accuracy_score(y_train, y_train_pred)\n"
      ],
      "metadata": {
        "colab": {
          "base_uri": "https://localhost:8080/"
        },
        "id": "_GPthbxtRLoW",
        "outputId": "ccc460b4-2de1-4b02-f06d-56f28caee022"
      },
      "execution_count": 417,
      "outputs": [
        {
          "output_type": "stream",
          "name": "stdout",
          "text": [
            "[[112   2   0   0   9]\n",
            " [ 20   5   0   0  16]\n",
            " [  5   1   1   2  18]\n",
            " [  1   4   1   0  20]\n",
            " [  2   1   0   0 120]]\n"
          ]
        },
        {
          "output_type": "execute_result",
          "data": {
            "text/plain": [
              "0.7"
            ]
          },
          "metadata": {},
          "execution_count": 417
        }
      ]
    },
    {
      "cell_type": "markdown",
      "metadata": {
        "id": "dTZJxaT_XUMs"
      },
      "source": [
        "###Grid search\n",
        "\n",
        "\n",
        "\n",
        "\n"
      ]
    },
    {
      "cell_type": "code",
      "execution_count": 418,
      "metadata": {
        "colab": {
          "base_uri": "https://localhost:8080/"
        },
        "id": "P1UuDSusXX7R",
        "outputId": "67d52c22-3d5b-4e1f-86f6-ea971146fae7"
      },
      "outputs": [
        {
          "output_type": "stream",
          "name": "stdout",
          "text": [
            "Fitting 3 folds for each of 36 candidates, totalling 108 fits\n"
          ]
        },
        {
          "output_type": "stream",
          "name": "stderr",
          "text": [
            "/usr/local/lib/python3.10/dist-packages/joblib/externals/loky/backend/fork_exec.py:38: RuntimeWarning: os.fork() was called. os.fork() is incompatible with multithreaded code, and JAX is multithreaded, so this will likely lead to a deadlock.\n",
            "  pid = os.fork()\n"
          ]
        },
        {
          "output_type": "stream",
          "name": "stdout",
          "text": [
            "Best Accuracy: 67.66 %\n",
            "Best Parameters: {'C': 0.75, 'max_iter': 100, 'penalty': 'l2', 'solver': 'newton-cg'}\n"
          ]
        }
      ],
      "source": [
        "from sklearn.model_selection import GridSearchCV\n",
        "parameters = {\n",
        "    'C': [0.25, 0.5, 0.75, 1],\n",
        "    'solver': ['newton-cg', 'lbfgs', 'liblinear'],\n",
        "    'penalty': ['l2'],\n",
        "    'max_iter': [100, 200, 300]\n",
        "}\n",
        "grid_search = GridSearchCV(estimator = classifier,\n",
        "                           param_grid = parameters,\n",
        "                           scoring = 'accuracy',\n",
        "                           cv = 3,\n",
        "                           n_jobs = -1,\n",
        "                           verbose = 2)\n",
        "grid_search.fit(X_train, y_train)\n",
        "best_accuracy = grid_search.best_score_\n",
        "best_parameters = grid_search.best_params_\n",
        "best_base_classifier = grid_search.best_estimator_\n",
        "\n",
        "print(\"Best Accuracy: {:.2f} %\".format(best_accuracy*100))\n",
        "print(\"Best Parameters:\", best_parameters)"
      ]
    },
    {
      "cell_type": "markdown",
      "source": [
        "###building model with best parameters"
      ],
      "metadata": {
        "id": "w26LLMVihxLa"
      }
    },
    {
      "cell_type": "code",
      "source": [
        "best_base_classifier.fit(X_train, y_train)\n",
        "\n",
        "from sklearn.metrics import confusion_matrix, accuracy_score\n",
        "y_pred = best_base_classifier.predict(X_test)\n",
        "cm = confusion_matrix(y_test, y_pred)\n",
        "print(cm)\n",
        "accuracy_score(y_test, y_pred)"
      ],
      "metadata": {
        "colab": {
          "base_uri": "https://localhost:8080/"
        },
        "outputId": "f3ad9a1c-9fb8-46aa-d80a-1c7796d033c8",
        "id": "f5OWmVyRhxLa"
      },
      "execution_count": 419,
      "outputs": [
        {
          "output_type": "stream",
          "name": "stdout",
          "text": [
            "[[38  2  0  0  1]\n",
            " [ 7  2  0  1  4]\n",
            " [ 2  2  0  0  5]\n",
            " [ 0  1  2  0  6]\n",
            " [ 0  0  0  0  3]]\n"
          ]
        },
        {
          "output_type": "execute_result",
          "data": {
            "text/plain": [
              "0.5657894736842105"
            ]
          },
          "metadata": {},
          "execution_count": 419
        }
      ]
    },
    {
      "cell_type": "markdown",
      "metadata": {
        "id": "_05U5kwwMHT3"
      },
      "source": [
        "#Training a knn model\n",
        "\n",
        "\n"
      ]
    },
    {
      "cell_type": "code",
      "execution_count": 420,
      "metadata": {
        "colab": {
          "base_uri": "https://localhost:8080/",
          "height": 74
        },
        "id": "26Y8029AL4OC",
        "outputId": "18f8dad2-14bc-444a-b1d4-5e28bbd7df80"
      },
      "outputs": [
        {
          "output_type": "execute_result",
          "data": {
            "text/plain": [
              "KNeighborsClassifier()"
            ],
            "text/html": [
              "<style>#sk-container-id-39 {color: black;}#sk-container-id-39 pre{padding: 0;}#sk-container-id-39 div.sk-toggleable {background-color: white;}#sk-container-id-39 label.sk-toggleable__label {cursor: pointer;display: block;width: 100%;margin-bottom: 0;padding: 0.3em;box-sizing: border-box;text-align: center;}#sk-container-id-39 label.sk-toggleable__label-arrow:before {content: \"▸\";float: left;margin-right: 0.25em;color: #696969;}#sk-container-id-39 label.sk-toggleable__label-arrow:hover:before {color: black;}#sk-container-id-39 div.sk-estimator:hover label.sk-toggleable__label-arrow:before {color: black;}#sk-container-id-39 div.sk-toggleable__content {max-height: 0;max-width: 0;overflow: hidden;text-align: left;background-color: #f0f8ff;}#sk-container-id-39 div.sk-toggleable__content pre {margin: 0.2em;color: black;border-radius: 0.25em;background-color: #f0f8ff;}#sk-container-id-39 input.sk-toggleable__control:checked~div.sk-toggleable__content {max-height: 200px;max-width: 100%;overflow: auto;}#sk-container-id-39 input.sk-toggleable__control:checked~label.sk-toggleable__label-arrow:before {content: \"▾\";}#sk-container-id-39 div.sk-estimator input.sk-toggleable__control:checked~label.sk-toggleable__label {background-color: #d4ebff;}#sk-container-id-39 div.sk-label input.sk-toggleable__control:checked~label.sk-toggleable__label {background-color: #d4ebff;}#sk-container-id-39 input.sk-hidden--visually {border: 0;clip: rect(1px 1px 1px 1px);clip: rect(1px, 1px, 1px, 1px);height: 1px;margin: -1px;overflow: hidden;padding: 0;position: absolute;width: 1px;}#sk-container-id-39 div.sk-estimator {font-family: monospace;background-color: #f0f8ff;border: 1px dotted black;border-radius: 0.25em;box-sizing: border-box;margin-bottom: 0.5em;}#sk-container-id-39 div.sk-estimator:hover {background-color: #d4ebff;}#sk-container-id-39 div.sk-parallel-item::after {content: \"\";width: 100%;border-bottom: 1px solid gray;flex-grow: 1;}#sk-container-id-39 div.sk-label:hover label.sk-toggleable__label {background-color: #d4ebff;}#sk-container-id-39 div.sk-serial::before {content: \"\";position: absolute;border-left: 1px solid gray;box-sizing: border-box;top: 0;bottom: 0;left: 50%;z-index: 0;}#sk-container-id-39 div.sk-serial {display: flex;flex-direction: column;align-items: center;background-color: white;padding-right: 0.2em;padding-left: 0.2em;position: relative;}#sk-container-id-39 div.sk-item {position: relative;z-index: 1;}#sk-container-id-39 div.sk-parallel {display: flex;align-items: stretch;justify-content: center;background-color: white;position: relative;}#sk-container-id-39 div.sk-item::before, #sk-container-id-39 div.sk-parallel-item::before {content: \"\";position: absolute;border-left: 1px solid gray;box-sizing: border-box;top: 0;bottom: 0;left: 50%;z-index: -1;}#sk-container-id-39 div.sk-parallel-item {display: flex;flex-direction: column;z-index: 1;position: relative;background-color: white;}#sk-container-id-39 div.sk-parallel-item:first-child::after {align-self: flex-end;width: 50%;}#sk-container-id-39 div.sk-parallel-item:last-child::after {align-self: flex-start;width: 50%;}#sk-container-id-39 div.sk-parallel-item:only-child::after {width: 0;}#sk-container-id-39 div.sk-dashed-wrapped {border: 1px dashed gray;margin: 0 0.4em 0.5em 0.4em;box-sizing: border-box;padding-bottom: 0.4em;background-color: white;}#sk-container-id-39 div.sk-label label {font-family: monospace;font-weight: bold;display: inline-block;line-height: 1.2em;}#sk-container-id-39 div.sk-label-container {text-align: center;}#sk-container-id-39 div.sk-container {/* jupyter's `normalize.less` sets `[hidden] { display: none; }` but bootstrap.min.css set `[hidden] { display: none !important; }` so we also need the `!important` here to be able to override the default hidden behavior on the sphinx rendered scikit-learn.org. See: https://github.com/scikit-learn/scikit-learn/issues/21755 */display: inline-block !important;position: relative;}#sk-container-id-39 div.sk-text-repr-fallback {display: none;}</style><div id=\"sk-container-id-39\" class=\"sk-top-container\"><div class=\"sk-text-repr-fallback\"><pre>KNeighborsClassifier()</pre><b>In a Jupyter environment, please rerun this cell to show the HTML representation or trust the notebook. <br />On GitHub, the HTML representation is unable to render, please try loading this page with nbviewer.org.</b></div><div class=\"sk-container\" hidden><div class=\"sk-item\"><div class=\"sk-estimator sk-toggleable\"><input class=\"sk-toggleable__control sk-hidden--visually\" id=\"sk-estimator-id-39\" type=\"checkbox\" checked><label for=\"sk-estimator-id-39\" class=\"sk-toggleable__label sk-toggleable__label-arrow\">KNeighborsClassifier</label><div class=\"sk-toggleable__content\"><pre>KNeighborsClassifier()</pre></div></div></div></div></div>"
            ]
          },
          "metadata": {},
          "execution_count": 420
        }
      ],
      "source": [
        "from sklearn.neighbors import KNeighborsClassifier\n",
        "classifier = KNeighborsClassifier()\n",
        "classifier.fit(X_train, y_train)"
      ]
    },
    {
      "cell_type": "code",
      "execution_count": 421,
      "metadata": {
        "colab": {
          "base_uri": "https://localhost:8080/"
        },
        "id": "tZgaMZdxME8G",
        "outputId": "0dc13838-3487-4978-dc22-470cf1536616"
      },
      "outputs": [
        {
          "output_type": "stream",
          "name": "stdout",
          "text": [
            "[[36  2  0  1  2]\n",
            " [ 7  2  1  2  2]\n",
            " [ 4  1  0  2  2]\n",
            " [ 1  2  1  2  3]\n",
            " [ 0  0  0  1  2]]\n"
          ]
        },
        {
          "output_type": "execute_result",
          "data": {
            "text/plain": [
              "0.5526315789473685"
            ]
          },
          "metadata": {},
          "execution_count": 421
        }
      ],
      "source": [
        "from sklearn.metrics import confusion_matrix, accuracy_score\n",
        "y_pred = classifier.predict(X_test)\n",
        "cm = confusion_matrix(y_test, y_pred)\n",
        "print(cm)\n",
        "accuracy_score(y_test, y_pred)"
      ]
    },
    {
      "cell_type": "markdown",
      "source": [
        "###testing for overfiting"
      ],
      "metadata": {
        "id": "Odyx1K3gSOf-"
      }
    },
    {
      "cell_type": "code",
      "source": [
        "y_train_pred = classifier.predict(X_train)\n",
        "cm = confusion_matrix(y_train, y_train_pred)\n",
        "print(cm)\n",
        "accuracy_score(y_train, y_train_pred)\n"
      ],
      "metadata": {
        "colab": {
          "base_uri": "https://localhost:8080/"
        },
        "id": "RgSBLTJASICu",
        "outputId": "cedd9423-5297-4e29-bd32-905faf21e8fd"
      },
      "execution_count": 422,
      "outputs": [
        {
          "output_type": "stream",
          "name": "stdout",
          "text": [
            "[[112   3   0   2   6]\n",
            " [ 17   9   2   4   9]\n",
            " [  6   4   7   4   6]\n",
            " [  5   2   5   8   6]\n",
            " [  0   1   2   0 120]]\n"
          ]
        },
        {
          "output_type": "execute_result",
          "data": {
            "text/plain": [
              "0.7529411764705882"
            ]
          },
          "metadata": {},
          "execution_count": 422
        }
      ]
    },
    {
      "cell_type": "markdown",
      "metadata": {
        "id": "VftDKXziY467"
      },
      "source": [
        "###Grid search"
      ]
    },
    {
      "cell_type": "code",
      "execution_count": 423,
      "metadata": {
        "colab": {
          "base_uri": "https://localhost:8080/"
        },
        "id": "gVZXAqyhY9Ti",
        "outputId": "0090db00-2da9-4b21-9939-cf76f7271fea"
      },
      "outputs": [
        {
          "output_type": "stream",
          "name": "stdout",
          "text": [
            "Fitting 3 folds for each of 186 candidates, totalling 558 fits\n",
            "[CV] END ...metric=euclidean, n_neighbors=1, weights=uniform; total time=   0.0s\n",
            "[CV] END ...metric=euclidean, n_neighbors=1, weights=uniform; total time=   0.0s\n",
            "[CV] END ...metric=euclidean, n_neighbors=1, weights=uniform; total time=   0.0s\n",
            "[CV] END ..metric=euclidean, n_neighbors=1, weights=distance; total time=   0.0s\n",
            "[CV] END ..metric=euclidean, n_neighbors=1, weights=distance; total time=   0.0s\n",
            "[CV] END ..metric=euclidean, n_neighbors=1, weights=distance; total time=   0.0s\n",
            "[CV] END ...metric=euclidean, n_neighbors=2, weights=uniform; total time=   0.1s\n",
            "[CV] END ...metric=euclidean, n_neighbors=2, weights=uniform; total time=   0.0s\n",
            "[CV] END ...metric=euclidean, n_neighbors=2, weights=uniform; total time=   0.0s\n",
            "[CV] END ..metric=euclidean, n_neighbors=2, weights=distance; total time=   0.0s\n",
            "[CV] END ..metric=euclidean, n_neighbors=2, weights=distance; total time=   0.0s\n",
            "[CV] END ..metric=euclidean, n_neighbors=2, weights=distance; total time=   0.0s\n",
            "[CV] END ...metric=euclidean, n_neighbors=3, weights=uniform; total time=   0.0s\n",
            "[CV] END ...metric=euclidean, n_neighbors=3, weights=uniform; total time=   0.0s\n",
            "[CV] END ...metric=euclidean, n_neighbors=3, weights=uniform; total time=   0.0s\n",
            "[CV] END ..metric=euclidean, n_neighbors=3, weights=distance; total time=   0.0s\n",
            "[CV] END ..metric=euclidean, n_neighbors=3, weights=distance; total time=   0.0s\n",
            "[CV] END ..metric=euclidean, n_neighbors=3, weights=distance; total time=   0.0s\n",
            "[CV] END ...metric=euclidean, n_neighbors=4, weights=uniform; total time=   0.0s\n",
            "[CV] END ...metric=euclidean, n_neighbors=4, weights=uniform; total time=   0.0s\n",
            "[CV] END ...metric=euclidean, n_neighbors=4, weights=uniform; total time=   0.0s\n",
            "[CV] END ..metric=euclidean, n_neighbors=4, weights=distance; total time=   0.0s\n",
            "[CV] END ..metric=euclidean, n_neighbors=4, weights=distance; total time=   0.0s\n",
            "[CV] END ..metric=euclidean, n_neighbors=4, weights=distance; total time=   0.0s\n",
            "[CV] END ...metric=euclidean, n_neighbors=5, weights=uniform; total time=   0.0s\n",
            "[CV] END ...metric=euclidean, n_neighbors=5, weights=uniform; total time=   0.0s\n",
            "[CV] END ...metric=euclidean, n_neighbors=5, weights=uniform; total time=   0.0s\n",
            "[CV] END ..metric=euclidean, n_neighbors=5, weights=distance; total time=   0.0s\n",
            "[CV] END ..metric=euclidean, n_neighbors=5, weights=distance; total time=   0.0s\n",
            "[CV] END ..metric=euclidean, n_neighbors=5, weights=distance; total time=   0.0s\n",
            "[CV] END ...metric=euclidean, n_neighbors=6, weights=uniform; total time=   0.0s\n",
            "[CV] END ...metric=euclidean, n_neighbors=6, weights=uniform; total time=   0.0s\n",
            "[CV] END ...metric=euclidean, n_neighbors=6, weights=uniform; total time=   0.0s\n",
            "[CV] END ..metric=euclidean, n_neighbors=6, weights=distance; total time=   0.0s\n",
            "[CV] END ..metric=euclidean, n_neighbors=6, weights=distance; total time=   0.0s\n",
            "[CV] END ..metric=euclidean, n_neighbors=6, weights=distance; total time=   0.0s\n",
            "[CV] END ...metric=euclidean, n_neighbors=7, weights=uniform; total time=   0.0s\n",
            "[CV] END ...metric=euclidean, n_neighbors=7, weights=uniform; total time=   0.1s\n",
            "[CV] END ...metric=euclidean, n_neighbors=7, weights=uniform; total time=   0.0s\n",
            "[CV] END ..metric=euclidean, n_neighbors=7, weights=distance; total time=   0.0s\n",
            "[CV] END ..metric=euclidean, n_neighbors=7, weights=distance; total time=   0.0s\n",
            "[CV] END ..metric=euclidean, n_neighbors=7, weights=distance; total time=   0.0s\n",
            "[CV] END ...metric=euclidean, n_neighbors=8, weights=uniform; total time=   0.0s\n",
            "[CV] END ...metric=euclidean, n_neighbors=8, weights=uniform; total time=   0.0s\n",
            "[CV] END ...metric=euclidean, n_neighbors=8, weights=uniform; total time=   0.0s\n",
            "[CV] END ..metric=euclidean, n_neighbors=8, weights=distance; total time=   0.0s\n",
            "[CV] END ..metric=euclidean, n_neighbors=8, weights=distance; total time=   0.0s\n",
            "[CV] END ..metric=euclidean, n_neighbors=8, weights=distance; total time=   0.0s\n",
            "[CV] END ...metric=euclidean, n_neighbors=9, weights=uniform; total time=   0.0s\n",
            "[CV] END ...metric=euclidean, n_neighbors=9, weights=uniform; total time=   0.0s\n",
            "[CV] END ...metric=euclidean, n_neighbors=9, weights=uniform; total time=   0.0s\n",
            "[CV] END ..metric=euclidean, n_neighbors=9, weights=distance; total time=   0.0s\n",
            "[CV] END ..metric=euclidean, n_neighbors=9, weights=distance; total time=   0.0s\n",
            "[CV] END ..metric=euclidean, n_neighbors=9, weights=distance; total time=   0.0s\n",
            "[CV] END ..metric=euclidean, n_neighbors=10, weights=uniform; total time=   0.1s\n",
            "[CV] END ..metric=euclidean, n_neighbors=10, weights=uniform; total time=   0.1s\n",
            "[CV] END ..metric=euclidean, n_neighbors=10, weights=uniform; total time=   0.0s\n",
            "[CV] END .metric=euclidean, n_neighbors=10, weights=distance; total time=   0.0s\n",
            "[CV] END .metric=euclidean, n_neighbors=10, weights=distance; total time=   0.0s\n",
            "[CV] END .metric=euclidean, n_neighbors=10, weights=distance; total time=   0.0s\n",
            "[CV] END ..metric=euclidean, n_neighbors=11, weights=uniform; total time=   0.1s\n",
            "[CV] END ..metric=euclidean, n_neighbors=11, weights=uniform; total time=   0.1s\n",
            "[CV] END ..metric=euclidean, n_neighbors=11, weights=uniform; total time=   0.1s\n",
            "[CV] END .metric=euclidean, n_neighbors=11, weights=distance; total time=   0.0s\n",
            "[CV] END .metric=euclidean, n_neighbors=11, weights=distance; total time=   0.0s\n",
            "[CV] END .metric=euclidean, n_neighbors=11, weights=distance; total time=   0.0s\n",
            "[CV] END ..metric=euclidean, n_neighbors=12, weights=uniform; total time=   0.0s\n",
            "[CV] END ..metric=euclidean, n_neighbors=12, weights=uniform; total time=   0.1s\n",
            "[CV] END ..metric=euclidean, n_neighbors=12, weights=uniform; total time=   0.0s\n",
            "[CV] END .metric=euclidean, n_neighbors=12, weights=distance; total time=   0.0s\n",
            "[CV] END .metric=euclidean, n_neighbors=12, weights=distance; total time=   0.0s\n",
            "[CV] END .metric=euclidean, n_neighbors=12, weights=distance; total time=   0.0s\n",
            "[CV] END ..metric=euclidean, n_neighbors=13, weights=uniform; total time=   0.1s\n",
            "[CV] END ..metric=euclidean, n_neighbors=13, weights=uniform; total time=   0.0s\n",
            "[CV] END ..metric=euclidean, n_neighbors=13, weights=uniform; total time=   0.1s\n",
            "[CV] END .metric=euclidean, n_neighbors=13, weights=distance; total time=   0.0s\n",
            "[CV] END .metric=euclidean, n_neighbors=13, weights=distance; total time=   0.0s\n",
            "[CV] END .metric=euclidean, n_neighbors=13, weights=distance; total time=   0.0s\n",
            "[CV] END ..metric=euclidean, n_neighbors=14, weights=uniform; total time=   0.0s\n",
            "[CV] END ..metric=euclidean, n_neighbors=14, weights=uniform; total time=   0.1s\n",
            "[CV] END ..metric=euclidean, n_neighbors=14, weights=uniform; total time=   0.1s\n",
            "[CV] END .metric=euclidean, n_neighbors=14, weights=distance; total time=   0.0s\n",
            "[CV] END .metric=euclidean, n_neighbors=14, weights=distance; total time=   0.0s\n",
            "[CV] END .metric=euclidean, n_neighbors=14, weights=distance; total time=   0.0s\n",
            "[CV] END ..metric=euclidean, n_neighbors=15, weights=uniform; total time=   0.0s\n",
            "[CV] END ..metric=euclidean, n_neighbors=15, weights=uniform; total time=   0.0s\n",
            "[CV] END ..metric=euclidean, n_neighbors=15, weights=uniform; total time=   0.0s\n",
            "[CV] END .metric=euclidean, n_neighbors=15, weights=distance; total time=   0.0s\n",
            "[CV] END .metric=euclidean, n_neighbors=15, weights=distance; total time=   0.0s\n",
            "[CV] END .metric=euclidean, n_neighbors=15, weights=distance; total time=   0.0s\n",
            "[CV] END ..metric=euclidean, n_neighbors=16, weights=uniform; total time=   0.0s\n",
            "[CV] END ..metric=euclidean, n_neighbors=16, weights=uniform; total time=   0.0s\n",
            "[CV] END ..metric=euclidean, n_neighbors=16, weights=uniform; total time=   0.0s\n",
            "[CV] END .metric=euclidean, n_neighbors=16, weights=distance; total time=   0.0s\n",
            "[CV] END .metric=euclidean, n_neighbors=16, weights=distance; total time=   0.1s\n",
            "[CV] END .metric=euclidean, n_neighbors=16, weights=distance; total time=   0.0s\n",
            "[CV] END ..metric=euclidean, n_neighbors=17, weights=uniform; total time=   0.0s\n",
            "[CV] END ..metric=euclidean, n_neighbors=17, weights=uniform; total time=   0.1s\n",
            "[CV] END ..metric=euclidean, n_neighbors=17, weights=uniform; total time=   0.1s\n",
            "[CV] END .metric=euclidean, n_neighbors=17, weights=distance; total time=   0.0s\n",
            "[CV] END .metric=euclidean, n_neighbors=17, weights=distance; total time=   0.0s\n",
            "[CV] END .metric=euclidean, n_neighbors=17, weights=distance; total time=   0.0s\n",
            "[CV] END ..metric=euclidean, n_neighbors=18, weights=uniform; total time=   0.1s\n",
            "[CV] END ..metric=euclidean, n_neighbors=18, weights=uniform; total time=   0.1s\n",
            "[CV] END ..metric=euclidean, n_neighbors=18, weights=uniform; total time=   0.1s\n",
            "[CV] END .metric=euclidean, n_neighbors=18, weights=distance; total time=   0.0s\n",
            "[CV] END .metric=euclidean, n_neighbors=18, weights=distance; total time=   0.0s\n",
            "[CV] END .metric=euclidean, n_neighbors=18, weights=distance; total time=   0.0s\n",
            "[CV] END ..metric=euclidean, n_neighbors=19, weights=uniform; total time=   0.0s\n",
            "[CV] END ..metric=euclidean, n_neighbors=19, weights=uniform; total time=   0.1s\n",
            "[CV] END ..metric=euclidean, n_neighbors=19, weights=uniform; total time=   0.0s\n",
            "[CV] END .metric=euclidean, n_neighbors=19, weights=distance; total time=   0.0s\n",
            "[CV] END .metric=euclidean, n_neighbors=19, weights=distance; total time=   0.0s\n",
            "[CV] END .metric=euclidean, n_neighbors=19, weights=distance; total time=   0.0s\n",
            "[CV] END ..metric=euclidean, n_neighbors=20, weights=uniform; total time=   0.1s\n",
            "[CV] END ..metric=euclidean, n_neighbors=20, weights=uniform; total time=   0.0s\n",
            "[CV] END ..metric=euclidean, n_neighbors=20, weights=uniform; total time=   0.0s\n",
            "[CV] END .metric=euclidean, n_neighbors=20, weights=distance; total time=   0.0s\n",
            "[CV] END .metric=euclidean, n_neighbors=20, weights=distance; total time=   0.0s\n",
            "[CV] END .metric=euclidean, n_neighbors=20, weights=distance; total time=   0.0s\n",
            "[CV] END ..metric=euclidean, n_neighbors=21, weights=uniform; total time=   0.1s\n",
            "[CV] END ..metric=euclidean, n_neighbors=21, weights=uniform; total time=   0.0s\n",
            "[CV] END ..metric=euclidean, n_neighbors=21, weights=uniform; total time=   0.0s\n",
            "[CV] END .metric=euclidean, n_neighbors=21, weights=distance; total time=   0.0s\n",
            "[CV] END .metric=euclidean, n_neighbors=21, weights=distance; total time=   0.0s\n",
            "[CV] END .metric=euclidean, n_neighbors=21, weights=distance; total time=   0.0s\n",
            "[CV] END ..metric=euclidean, n_neighbors=22, weights=uniform; total time=   0.0s\n",
            "[CV] END ..metric=euclidean, n_neighbors=22, weights=uniform; total time=   0.1s\n",
            "[CV] END ..metric=euclidean, n_neighbors=22, weights=uniform; total time=   0.1s\n",
            "[CV] END .metric=euclidean, n_neighbors=22, weights=distance; total time=   0.0s\n",
            "[CV] END .metric=euclidean, n_neighbors=22, weights=distance; total time=   0.0s\n",
            "[CV] END .metric=euclidean, n_neighbors=22, weights=distance; total time=   0.0s\n",
            "[CV] END ..metric=euclidean, n_neighbors=23, weights=uniform; total time=   0.0s\n",
            "[CV] END ..metric=euclidean, n_neighbors=23, weights=uniform; total time=   0.0s\n",
            "[CV] END ..metric=euclidean, n_neighbors=23, weights=uniform; total time=   0.0s\n",
            "[CV] END .metric=euclidean, n_neighbors=23, weights=distance; total time=   0.0s\n",
            "[CV] END .metric=euclidean, n_neighbors=23, weights=distance; total time=   0.0s\n",
            "[CV] END .metric=euclidean, n_neighbors=23, weights=distance; total time=   0.0s\n",
            "[CV] END ..metric=euclidean, n_neighbors=24, weights=uniform; total time=   0.0s\n",
            "[CV] END ..metric=euclidean, n_neighbors=24, weights=uniform; total time=   0.0s\n",
            "[CV] END ..metric=euclidean, n_neighbors=24, weights=uniform; total time=   0.0s\n",
            "[CV] END .metric=euclidean, n_neighbors=24, weights=distance; total time=   0.0s\n",
            "[CV] END .metric=euclidean, n_neighbors=24, weights=distance; total time=   0.0s\n",
            "[CV] END .metric=euclidean, n_neighbors=24, weights=distance; total time=   0.0s\n",
            "[CV] END ..metric=euclidean, n_neighbors=25, weights=uniform; total time=   0.0s\n",
            "[CV] END ..metric=euclidean, n_neighbors=25, weights=uniform; total time=   0.0s\n",
            "[CV] END ..metric=euclidean, n_neighbors=25, weights=uniform; total time=   0.1s\n",
            "[CV] END .metric=euclidean, n_neighbors=25, weights=distance; total time=   0.0s\n",
            "[CV] END .metric=euclidean, n_neighbors=25, weights=distance; total time=   0.0s\n",
            "[CV] END .metric=euclidean, n_neighbors=25, weights=distance; total time=   0.0s\n",
            "[CV] END ..metric=euclidean, n_neighbors=26, weights=uniform; total time=   0.0s\n",
            "[CV] END ..metric=euclidean, n_neighbors=26, weights=uniform; total time=   0.0s\n",
            "[CV] END ..metric=euclidean, n_neighbors=26, weights=uniform; total time=   0.0s\n",
            "[CV] END .metric=euclidean, n_neighbors=26, weights=distance; total time=   0.0s\n",
            "[CV] END .metric=euclidean, n_neighbors=26, weights=distance; total time=   0.0s\n",
            "[CV] END .metric=euclidean, n_neighbors=26, weights=distance; total time=   0.0s\n",
            "[CV] END ..metric=euclidean, n_neighbors=27, weights=uniform; total time=   0.1s\n",
            "[CV] END ..metric=euclidean, n_neighbors=27, weights=uniform; total time=   0.0s\n",
            "[CV] END ..metric=euclidean, n_neighbors=27, weights=uniform; total time=   0.1s\n",
            "[CV] END .metric=euclidean, n_neighbors=27, weights=distance; total time=   0.0s\n",
            "[CV] END .metric=euclidean, n_neighbors=27, weights=distance; total time=   0.0s\n",
            "[CV] END .metric=euclidean, n_neighbors=27, weights=distance; total time=   0.0s\n",
            "[CV] END ..metric=euclidean, n_neighbors=28, weights=uniform; total time=   0.0s\n",
            "[CV] END ..metric=euclidean, n_neighbors=28, weights=uniform; total time=   0.0s\n",
            "[CV] END ..metric=euclidean, n_neighbors=28, weights=uniform; total time=   0.1s\n",
            "[CV] END .metric=euclidean, n_neighbors=28, weights=distance; total time=   0.0s\n",
            "[CV] END .metric=euclidean, n_neighbors=28, weights=distance; total time=   0.0s\n",
            "[CV] END .metric=euclidean, n_neighbors=28, weights=distance; total time=   0.0s\n",
            "[CV] END ..metric=euclidean, n_neighbors=29, weights=uniform; total time=   0.0s\n",
            "[CV] END ..metric=euclidean, n_neighbors=29, weights=uniform; total time=   0.1s\n",
            "[CV] END ..metric=euclidean, n_neighbors=29, weights=uniform; total time=   0.0s\n",
            "[CV] END .metric=euclidean, n_neighbors=29, weights=distance; total time=   0.0s\n",
            "[CV] END .metric=euclidean, n_neighbors=29, weights=distance; total time=   0.0s\n",
            "[CV] END .metric=euclidean, n_neighbors=29, weights=distance; total time=   0.0s\n",
            "[CV] END ..metric=euclidean, n_neighbors=30, weights=uniform; total time=   0.0s\n",
            "[CV] END ..metric=euclidean, n_neighbors=30, weights=uniform; total time=   0.1s\n",
            "[CV] END ..metric=euclidean, n_neighbors=30, weights=uniform; total time=   0.1s\n",
            "[CV] END .metric=euclidean, n_neighbors=30, weights=distance; total time=   0.0s\n",
            "[CV] END .metric=euclidean, n_neighbors=30, weights=distance; total time=   0.0s\n",
            "[CV] END .metric=euclidean, n_neighbors=30, weights=distance; total time=   0.0s\n",
            "[CV] END ..metric=euclidean, n_neighbors=31, weights=uniform; total time=   0.0s\n",
            "[CV] END ..metric=euclidean, n_neighbors=31, weights=uniform; total time=   0.0s\n",
            "[CV] END ..metric=euclidean, n_neighbors=31, weights=uniform; total time=   0.0s\n",
            "[CV] END .metric=euclidean, n_neighbors=31, weights=distance; total time=   0.0s\n",
            "[CV] END .metric=euclidean, n_neighbors=31, weights=distance; total time=   0.0s\n",
            "[CV] END .metric=euclidean, n_neighbors=31, weights=distance; total time=   0.0s\n",
            "[CV] END ...metric=manhattan, n_neighbors=1, weights=uniform; total time=   0.0s\n",
            "[CV] END ...metric=manhattan, n_neighbors=1, weights=uniform; total time=   0.1s\n",
            "[CV] END ...metric=manhattan, n_neighbors=1, weights=uniform; total time=   0.1s\n",
            "[CV] END ..metric=manhattan, n_neighbors=1, weights=distance; total time=   0.0s\n",
            "[CV] END ..metric=manhattan, n_neighbors=1, weights=distance; total time=   0.0s\n",
            "[CV] END ..metric=manhattan, n_neighbors=1, weights=distance; total time=   0.0s\n",
            "[CV] END ...metric=manhattan, n_neighbors=2, weights=uniform; total time=   0.0s\n",
            "[CV] END ...metric=manhattan, n_neighbors=2, weights=uniform; total time=   0.1s\n",
            "[CV] END ...metric=manhattan, n_neighbors=2, weights=uniform; total time=   0.1s\n",
            "[CV] END ..metric=manhattan, n_neighbors=2, weights=distance; total time=   0.0s\n",
            "[CV] END ..metric=manhattan, n_neighbors=2, weights=distance; total time=   0.0s\n",
            "[CV] END ..metric=manhattan, n_neighbors=2, weights=distance; total time=   0.0s\n",
            "[CV] END ...metric=manhattan, n_neighbors=3, weights=uniform; total time=   0.0s\n",
            "[CV] END ...metric=manhattan, n_neighbors=3, weights=uniform; total time=   0.0s\n",
            "[CV] END ...metric=manhattan, n_neighbors=3, weights=uniform; total time=   0.0s\n",
            "[CV] END ..metric=manhattan, n_neighbors=3, weights=distance; total time=   0.0s\n",
            "[CV] END ..metric=manhattan, n_neighbors=3, weights=distance; total time=   0.0s\n",
            "[CV] END ..metric=manhattan, n_neighbors=3, weights=distance; total time=   0.0s\n",
            "[CV] END ...metric=manhattan, n_neighbors=4, weights=uniform; total time=   0.1s\n",
            "[CV] END ...metric=manhattan, n_neighbors=4, weights=uniform; total time=   0.0s\n",
            "[CV] END ...metric=manhattan, n_neighbors=4, weights=uniform; total time=   0.0s\n",
            "[CV] END ..metric=manhattan, n_neighbors=4, weights=distance; total time=   0.0s\n",
            "[CV] END ..metric=manhattan, n_neighbors=4, weights=distance; total time=   0.0s\n",
            "[CV] END ..metric=manhattan, n_neighbors=4, weights=distance; total time=   0.0s\n",
            "[CV] END ...metric=manhattan, n_neighbors=5, weights=uniform; total time=   0.0s\n",
            "[CV] END ...metric=manhattan, n_neighbors=5, weights=uniform; total time=   0.0s\n",
            "[CV] END ...metric=manhattan, n_neighbors=5, weights=uniform; total time=   0.0s\n",
            "[CV] END ..metric=manhattan, n_neighbors=5, weights=distance; total time=   0.0s\n",
            "[CV] END ..metric=manhattan, n_neighbors=5, weights=distance; total time=   0.0s\n",
            "[CV] END ..metric=manhattan, n_neighbors=5, weights=distance; total time=   0.0s\n",
            "[CV] END ...metric=manhattan, n_neighbors=6, weights=uniform; total time=   0.0s\n",
            "[CV] END ...metric=manhattan, n_neighbors=6, weights=uniform; total time=   0.0s\n",
            "[CV] END ...metric=manhattan, n_neighbors=6, weights=uniform; total time=   0.0s\n",
            "[CV] END ..metric=manhattan, n_neighbors=6, weights=distance; total time=   0.0s\n",
            "[CV] END ..metric=manhattan, n_neighbors=6, weights=distance; total time=   0.0s\n",
            "[CV] END ..metric=manhattan, n_neighbors=6, weights=distance; total time=   0.0s\n",
            "[CV] END ...metric=manhattan, n_neighbors=7, weights=uniform; total time=   0.0s\n",
            "[CV] END ...metric=manhattan, n_neighbors=7, weights=uniform; total time=   0.0s\n",
            "[CV] END ...metric=manhattan, n_neighbors=7, weights=uniform; total time=   0.0s\n",
            "[CV] END ..metric=manhattan, n_neighbors=7, weights=distance; total time=   0.0s\n",
            "[CV] END ..metric=manhattan, n_neighbors=7, weights=distance; total time=   0.0s\n",
            "[CV] END ..metric=manhattan, n_neighbors=7, weights=distance; total time=   0.0s\n",
            "[CV] END ...metric=manhattan, n_neighbors=8, weights=uniform; total time=   0.0s\n",
            "[CV] END ...metric=manhattan, n_neighbors=8, weights=uniform; total time=   0.0s\n",
            "[CV] END ...metric=manhattan, n_neighbors=8, weights=uniform; total time=   0.0s\n",
            "[CV] END ..metric=manhattan, n_neighbors=8, weights=distance; total time=   0.0s\n",
            "[CV] END ..metric=manhattan, n_neighbors=8, weights=distance; total time=   0.0s\n",
            "[CV] END ..metric=manhattan, n_neighbors=8, weights=distance; total time=   0.0s\n",
            "[CV] END ...metric=manhattan, n_neighbors=9, weights=uniform; total time=   0.0s\n",
            "[CV] END ...metric=manhattan, n_neighbors=9, weights=uniform; total time=   0.0s\n",
            "[CV] END ...metric=manhattan, n_neighbors=9, weights=uniform; total time=   0.0s\n",
            "[CV] END ..metric=manhattan, n_neighbors=9, weights=distance; total time=   0.0s\n",
            "[CV] END ..metric=manhattan, n_neighbors=9, weights=distance; total time=   0.0s\n",
            "[CV] END ..metric=manhattan, n_neighbors=9, weights=distance; total time=   0.0s\n",
            "[CV] END ..metric=manhattan, n_neighbors=10, weights=uniform; total time=   0.0s\n",
            "[CV] END ..metric=manhattan, n_neighbors=10, weights=uniform; total time=   0.0s\n",
            "[CV] END ..metric=manhattan, n_neighbors=10, weights=uniform; total time=   0.0s\n",
            "[CV] END .metric=manhattan, n_neighbors=10, weights=distance; total time=   0.0s\n",
            "[CV] END .metric=manhattan, n_neighbors=10, weights=distance; total time=   0.0s\n",
            "[CV] END .metric=manhattan, n_neighbors=10, weights=distance; total time=   0.0s\n",
            "[CV] END ..metric=manhattan, n_neighbors=11, weights=uniform; total time=   0.0s\n",
            "[CV] END ..metric=manhattan, n_neighbors=11, weights=uniform; total time=   0.0s\n",
            "[CV] END ..metric=manhattan, n_neighbors=11, weights=uniform; total time=   0.0s\n",
            "[CV] END .metric=manhattan, n_neighbors=11, weights=distance; total time=   0.0s\n",
            "[CV] END .metric=manhattan, n_neighbors=11, weights=distance; total time=   0.0s\n",
            "[CV] END .metric=manhattan, n_neighbors=11, weights=distance; total time=   0.0s\n",
            "[CV] END ..metric=manhattan, n_neighbors=12, weights=uniform; total time=   0.0s\n",
            "[CV] END ..metric=manhattan, n_neighbors=12, weights=uniform; total time=   0.0s\n",
            "[CV] END ..metric=manhattan, n_neighbors=12, weights=uniform; total time=   0.0s\n",
            "[CV] END .metric=manhattan, n_neighbors=12, weights=distance; total time=   0.0s\n",
            "[CV] END .metric=manhattan, n_neighbors=12, weights=distance; total time=   0.0s\n",
            "[CV] END .metric=manhattan, n_neighbors=12, weights=distance; total time=   0.0s\n",
            "[CV] END ..metric=manhattan, n_neighbors=13, weights=uniform; total time=   0.0s\n",
            "[CV] END ..metric=manhattan, n_neighbors=13, weights=uniform; total time=   0.0s\n",
            "[CV] END ..metric=manhattan, n_neighbors=13, weights=uniform; total time=   0.0s\n",
            "[CV] END .metric=manhattan, n_neighbors=13, weights=distance; total time=   0.0s\n",
            "[CV] END .metric=manhattan, n_neighbors=13, weights=distance; total time=   0.0s\n",
            "[CV] END .metric=manhattan, n_neighbors=13, weights=distance; total time=   0.0s\n",
            "[CV] END ..metric=manhattan, n_neighbors=14, weights=uniform; total time=   0.0s\n",
            "[CV] END ..metric=manhattan, n_neighbors=14, weights=uniform; total time=   0.0s\n",
            "[CV] END ..metric=manhattan, n_neighbors=14, weights=uniform; total time=   0.0s\n",
            "[CV] END .metric=manhattan, n_neighbors=14, weights=distance; total time=   0.0s\n",
            "[CV] END .metric=manhattan, n_neighbors=14, weights=distance; total time=   0.0s\n",
            "[CV] END .metric=manhattan, n_neighbors=14, weights=distance; total time=   0.0s\n",
            "[CV] END ..metric=manhattan, n_neighbors=15, weights=uniform; total time=   0.0s\n",
            "[CV] END ..metric=manhattan, n_neighbors=15, weights=uniform; total time=   0.0s\n",
            "[CV] END ..metric=manhattan, n_neighbors=15, weights=uniform; total time=   0.0s\n",
            "[CV] END .metric=manhattan, n_neighbors=15, weights=distance; total time=   0.0s\n",
            "[CV] END .metric=manhattan, n_neighbors=15, weights=distance; total time=   0.0s\n",
            "[CV] END .metric=manhattan, n_neighbors=15, weights=distance; total time=   0.0s\n",
            "[CV] END ..metric=manhattan, n_neighbors=16, weights=uniform; total time=   0.0s\n",
            "[CV] END ..metric=manhattan, n_neighbors=16, weights=uniform; total time=   0.0s\n",
            "[CV] END ..metric=manhattan, n_neighbors=16, weights=uniform; total time=   0.0s\n",
            "[CV] END .metric=manhattan, n_neighbors=16, weights=distance; total time=   0.0s\n",
            "[CV] END .metric=manhattan, n_neighbors=16, weights=distance; total time=   0.0s\n",
            "[CV] END .metric=manhattan, n_neighbors=16, weights=distance; total time=   0.0s\n",
            "[CV] END ..metric=manhattan, n_neighbors=17, weights=uniform; total time=   0.0s\n",
            "[CV] END ..metric=manhattan, n_neighbors=17, weights=uniform; total time=   0.0s\n",
            "[CV] END ..metric=manhattan, n_neighbors=17, weights=uniform; total time=   0.1s\n",
            "[CV] END .metric=manhattan, n_neighbors=17, weights=distance; total time=   0.0s\n",
            "[CV] END .metric=manhattan, n_neighbors=17, weights=distance; total time=   0.0s\n",
            "[CV] END .metric=manhattan, n_neighbors=17, weights=distance; total time=   0.0s\n",
            "[CV] END ..metric=manhattan, n_neighbors=18, weights=uniform; total time=   0.0s\n",
            "[CV] END ..metric=manhattan, n_neighbors=18, weights=uniform; total time=   0.0s\n",
            "[CV] END ..metric=manhattan, n_neighbors=18, weights=uniform; total time=   0.0s\n",
            "[CV] END .metric=manhattan, n_neighbors=18, weights=distance; total time=   0.0s\n",
            "[CV] END .metric=manhattan, n_neighbors=18, weights=distance; total time=   0.0s\n",
            "[CV] END .metric=manhattan, n_neighbors=18, weights=distance; total time=   0.0s\n",
            "[CV] END ..metric=manhattan, n_neighbors=19, weights=uniform; total time=   0.0s\n",
            "[CV] END ..metric=manhattan, n_neighbors=19, weights=uniform; total time=   0.0s\n",
            "[CV] END ..metric=manhattan, n_neighbors=19, weights=uniform; total time=   0.0s\n",
            "[CV] END .metric=manhattan, n_neighbors=19, weights=distance; total time=   0.0s\n",
            "[CV] END .metric=manhattan, n_neighbors=19, weights=distance; total time=   0.0s\n",
            "[CV] END .metric=manhattan, n_neighbors=19, weights=distance; total time=   0.0s\n",
            "[CV] END ..metric=manhattan, n_neighbors=20, weights=uniform; total time=   0.1s\n",
            "[CV] END ..metric=manhattan, n_neighbors=20, weights=uniform; total time=   0.0s\n",
            "[CV] END ..metric=manhattan, n_neighbors=20, weights=uniform; total time=   0.0s\n",
            "[CV] END .metric=manhattan, n_neighbors=20, weights=distance; total time=   0.0s\n",
            "[CV] END .metric=manhattan, n_neighbors=20, weights=distance; total time=   0.0s\n",
            "[CV] END .metric=manhattan, n_neighbors=20, weights=distance; total time=   0.0s\n",
            "[CV] END ..metric=manhattan, n_neighbors=21, weights=uniform; total time=   0.0s\n",
            "[CV] END ..metric=manhattan, n_neighbors=21, weights=uniform; total time=   0.0s\n",
            "[CV] END ..metric=manhattan, n_neighbors=21, weights=uniform; total time=   0.0s\n",
            "[CV] END .metric=manhattan, n_neighbors=21, weights=distance; total time=   0.0s\n",
            "[CV] END .metric=manhattan, n_neighbors=21, weights=distance; total time=   0.0s\n",
            "[CV] END .metric=manhattan, n_neighbors=21, weights=distance; total time=   0.0s\n",
            "[CV] END ..metric=manhattan, n_neighbors=22, weights=uniform; total time=   0.0s\n",
            "[CV] END ..metric=manhattan, n_neighbors=22, weights=uniform; total time=   0.0s\n",
            "[CV] END ..metric=manhattan, n_neighbors=22, weights=uniform; total time=   0.0s\n",
            "[CV] END .metric=manhattan, n_neighbors=22, weights=distance; total time=   0.0s\n",
            "[CV] END .metric=manhattan, n_neighbors=22, weights=distance; total time=   0.0s\n",
            "[CV] END .metric=manhattan, n_neighbors=22, weights=distance; total time=   0.0s\n",
            "[CV] END ..metric=manhattan, n_neighbors=23, weights=uniform; total time=   0.0s\n",
            "[CV] END ..metric=manhattan, n_neighbors=23, weights=uniform; total time=   0.0s\n",
            "[CV] END ..metric=manhattan, n_neighbors=23, weights=uniform; total time=   0.0s\n",
            "[CV] END .metric=manhattan, n_neighbors=23, weights=distance; total time=   0.0s\n",
            "[CV] END .metric=manhattan, n_neighbors=23, weights=distance; total time=   0.0s\n",
            "[CV] END .metric=manhattan, n_neighbors=23, weights=distance; total time=   0.0s\n",
            "[CV] END ..metric=manhattan, n_neighbors=24, weights=uniform; total time=   0.0s\n",
            "[CV] END ..metric=manhattan, n_neighbors=24, weights=uniform; total time=   0.0s\n",
            "[CV] END ..metric=manhattan, n_neighbors=24, weights=uniform; total time=   0.0s\n",
            "[CV] END .metric=manhattan, n_neighbors=24, weights=distance; total time=   0.0s\n",
            "[CV] END .metric=manhattan, n_neighbors=24, weights=distance; total time=   0.0s\n",
            "[CV] END .metric=manhattan, n_neighbors=24, weights=distance; total time=   0.0s\n",
            "[CV] END ..metric=manhattan, n_neighbors=25, weights=uniform; total time=   0.0s\n",
            "[CV] END ..metric=manhattan, n_neighbors=25, weights=uniform; total time=   0.0s\n",
            "[CV] END ..metric=manhattan, n_neighbors=25, weights=uniform; total time=   0.1s\n",
            "[CV] END .metric=manhattan, n_neighbors=25, weights=distance; total time=   0.0s\n",
            "[CV] END .metric=manhattan, n_neighbors=25, weights=distance; total time=   0.0s\n",
            "[CV] END .metric=manhattan, n_neighbors=25, weights=distance; total time=   0.0s\n",
            "[CV] END ..metric=manhattan, n_neighbors=26, weights=uniform; total time=   0.0s\n",
            "[CV] END ..metric=manhattan, n_neighbors=26, weights=uniform; total time=   0.0s\n",
            "[CV] END ..metric=manhattan, n_neighbors=26, weights=uniform; total time=   0.0s\n",
            "[CV] END .metric=manhattan, n_neighbors=26, weights=distance; total time=   0.0s\n",
            "[CV] END .metric=manhattan, n_neighbors=26, weights=distance; total time=   0.0s\n",
            "[CV] END .metric=manhattan, n_neighbors=26, weights=distance; total time=   0.0s\n",
            "[CV] END ..metric=manhattan, n_neighbors=27, weights=uniform; total time=   0.0s\n",
            "[CV] END ..metric=manhattan, n_neighbors=27, weights=uniform; total time=   0.0s\n",
            "[CV] END ..metric=manhattan, n_neighbors=27, weights=uniform; total time=   0.0s\n",
            "[CV] END .metric=manhattan, n_neighbors=27, weights=distance; total time=   0.0s\n",
            "[CV] END .metric=manhattan, n_neighbors=27, weights=distance; total time=   0.0s\n",
            "[CV] END .metric=manhattan, n_neighbors=27, weights=distance; total time=   0.0s\n",
            "[CV] END ..metric=manhattan, n_neighbors=28, weights=uniform; total time=   0.0s\n",
            "[CV] END ..metric=manhattan, n_neighbors=28, weights=uniform; total time=   0.0s\n",
            "[CV] END ..metric=manhattan, n_neighbors=28, weights=uniform; total time=   0.1s\n",
            "[CV] END .metric=manhattan, n_neighbors=28, weights=distance; total time=   0.0s\n",
            "[CV] END .metric=manhattan, n_neighbors=28, weights=distance; total time=   0.0s\n",
            "[CV] END .metric=manhattan, n_neighbors=28, weights=distance; total time=   0.0s\n",
            "[CV] END ..metric=manhattan, n_neighbors=29, weights=uniform; total time=   0.0s\n",
            "[CV] END ..metric=manhattan, n_neighbors=29, weights=uniform; total time=   0.0s\n",
            "[CV] END ..metric=manhattan, n_neighbors=29, weights=uniform; total time=   0.0s\n",
            "[CV] END .metric=manhattan, n_neighbors=29, weights=distance; total time=   0.0s\n",
            "[CV] END .metric=manhattan, n_neighbors=29, weights=distance; total time=   0.0s\n",
            "[CV] END .metric=manhattan, n_neighbors=29, weights=distance; total time=   0.0s\n",
            "[CV] END ..metric=manhattan, n_neighbors=30, weights=uniform; total time=   0.0s\n",
            "[CV] END ..metric=manhattan, n_neighbors=30, weights=uniform; total time=   0.0s\n",
            "[CV] END ..metric=manhattan, n_neighbors=30, weights=uniform; total time=   0.0s\n",
            "[CV] END .metric=manhattan, n_neighbors=30, weights=distance; total time=   0.0s\n",
            "[CV] END .metric=manhattan, n_neighbors=30, weights=distance; total time=   0.0s\n",
            "[CV] END .metric=manhattan, n_neighbors=30, weights=distance; total time=   0.0s\n",
            "[CV] END ..metric=manhattan, n_neighbors=31, weights=uniform; total time=   0.0s\n",
            "[CV] END ..metric=manhattan, n_neighbors=31, weights=uniform; total time=   0.0s\n",
            "[CV] END ..metric=manhattan, n_neighbors=31, weights=uniform; total time=   0.0s\n",
            "[CV] END .metric=manhattan, n_neighbors=31, weights=distance; total time=   0.0s\n",
            "[CV] END .metric=manhattan, n_neighbors=31, weights=distance; total time=   0.0s\n",
            "[CV] END .metric=manhattan, n_neighbors=31, weights=distance; total time=   0.0s\n",
            "[CV] END ...metric=minkowski, n_neighbors=1, weights=uniform; total time=   0.0s\n",
            "[CV] END ...metric=minkowski, n_neighbors=1, weights=uniform; total time=   0.0s\n",
            "[CV] END ...metric=minkowski, n_neighbors=1, weights=uniform; total time=   0.0s\n",
            "[CV] END ..metric=minkowski, n_neighbors=1, weights=distance; total time=   0.0s\n",
            "[CV] END ..metric=minkowski, n_neighbors=1, weights=distance; total time=   0.0s\n",
            "[CV] END ..metric=minkowski, n_neighbors=1, weights=distance; total time=   0.0s\n",
            "[CV] END ...metric=minkowski, n_neighbors=2, weights=uniform; total time=   0.0s\n",
            "[CV] END ...metric=minkowski, n_neighbors=2, weights=uniform; total time=   0.0s\n",
            "[CV] END ...metric=minkowski, n_neighbors=2, weights=uniform; total time=   0.0s\n",
            "[CV] END ..metric=minkowski, n_neighbors=2, weights=distance; total time=   0.0s\n",
            "[CV] END ..metric=minkowski, n_neighbors=2, weights=distance; total time=   0.0s\n",
            "[CV] END ..metric=minkowski, n_neighbors=2, weights=distance; total time=   0.0s\n",
            "[CV] END ...metric=minkowski, n_neighbors=3, weights=uniform; total time=   0.0s\n",
            "[CV] END ...metric=minkowski, n_neighbors=3, weights=uniform; total time=   0.0s\n",
            "[CV] END ...metric=minkowski, n_neighbors=3, weights=uniform; total time=   0.0s\n",
            "[CV] END ..metric=minkowski, n_neighbors=3, weights=distance; total time=   0.0s\n",
            "[CV] END ..metric=minkowski, n_neighbors=3, weights=distance; total time=   0.0s\n",
            "[CV] END ..metric=minkowski, n_neighbors=3, weights=distance; total time=   0.0s\n",
            "[CV] END ...metric=minkowski, n_neighbors=4, weights=uniform; total time=   0.0s\n",
            "[CV] END ...metric=minkowski, n_neighbors=4, weights=uniform; total time=   0.0s\n",
            "[CV] END ...metric=minkowski, n_neighbors=4, weights=uniform; total time=   0.0s\n",
            "[CV] END ..metric=minkowski, n_neighbors=4, weights=distance; total time=   0.0s\n",
            "[CV] END ..metric=minkowski, n_neighbors=4, weights=distance; total time=   0.0s\n",
            "[CV] END ..metric=minkowski, n_neighbors=4, weights=distance; total time=   0.0s\n",
            "[CV] END ...metric=minkowski, n_neighbors=5, weights=uniform; total time=   0.0s\n",
            "[CV] END ...metric=minkowski, n_neighbors=5, weights=uniform; total time=   0.0s\n",
            "[CV] END ...metric=minkowski, n_neighbors=5, weights=uniform; total time=   0.0s\n",
            "[CV] END ..metric=minkowski, n_neighbors=5, weights=distance; total time=   0.0s\n",
            "[CV] END ..metric=minkowski, n_neighbors=5, weights=distance; total time=   0.0s\n",
            "[CV] END ..metric=minkowski, n_neighbors=5, weights=distance; total time=   0.0s\n",
            "[CV] END ...metric=minkowski, n_neighbors=6, weights=uniform; total time=   0.0s\n",
            "[CV] END ...metric=minkowski, n_neighbors=6, weights=uniform; total time=   0.0s\n",
            "[CV] END ...metric=minkowski, n_neighbors=6, weights=uniform; total time=   0.0s\n",
            "[CV] END ..metric=minkowski, n_neighbors=6, weights=distance; total time=   0.0s\n",
            "[CV] END ..metric=minkowski, n_neighbors=6, weights=distance; total time=   0.0s\n",
            "[CV] END ..metric=minkowski, n_neighbors=6, weights=distance; total time=   0.0s\n",
            "[CV] END ...metric=minkowski, n_neighbors=7, weights=uniform; total time=   0.0s\n",
            "[CV] END ...metric=minkowski, n_neighbors=7, weights=uniform; total time=   0.0s\n",
            "[CV] END ...metric=minkowski, n_neighbors=7, weights=uniform; total time=   0.0s\n",
            "[CV] END ..metric=minkowski, n_neighbors=7, weights=distance; total time=   0.0s\n",
            "[CV] END ..metric=minkowski, n_neighbors=7, weights=distance; total time=   0.0s\n",
            "[CV] END ..metric=minkowski, n_neighbors=7, weights=distance; total time=   0.0s\n",
            "[CV] END ...metric=minkowski, n_neighbors=8, weights=uniform; total time=   0.0s\n",
            "[CV] END ...metric=minkowski, n_neighbors=8, weights=uniform; total time=   0.0s\n",
            "[CV] END ...metric=minkowski, n_neighbors=8, weights=uniform; total time=   0.0s\n",
            "[CV] END ..metric=minkowski, n_neighbors=8, weights=distance; total time=   0.0s\n",
            "[CV] END ..metric=minkowski, n_neighbors=8, weights=distance; total time=   0.0s\n",
            "[CV] END ..metric=minkowski, n_neighbors=8, weights=distance; total time=   0.0s\n",
            "[CV] END ...metric=minkowski, n_neighbors=9, weights=uniform; total time=   0.0s\n",
            "[CV] END ...metric=minkowski, n_neighbors=9, weights=uniform; total time=   0.0s\n",
            "[CV] END ...metric=minkowski, n_neighbors=9, weights=uniform; total time=   0.0s\n",
            "[CV] END ..metric=minkowski, n_neighbors=9, weights=distance; total time=   0.0s\n",
            "[CV] END ..metric=minkowski, n_neighbors=9, weights=distance; total time=   0.0s\n",
            "[CV] END ..metric=minkowski, n_neighbors=9, weights=distance; total time=   0.0s\n",
            "[CV] END ..metric=minkowski, n_neighbors=10, weights=uniform; total time=   0.0s\n",
            "[CV] END ..metric=minkowski, n_neighbors=10, weights=uniform; total time=   0.1s\n",
            "[CV] END ..metric=minkowski, n_neighbors=10, weights=uniform; total time=   0.0s\n",
            "[CV] END .metric=minkowski, n_neighbors=10, weights=distance; total time=   0.0s\n",
            "[CV] END .metric=minkowski, n_neighbors=10, weights=distance; total time=   0.0s\n",
            "[CV] END .metric=minkowski, n_neighbors=10, weights=distance; total time=   0.0s\n",
            "[CV] END ..metric=minkowski, n_neighbors=11, weights=uniform; total time=   0.0s\n",
            "[CV] END ..metric=minkowski, n_neighbors=11, weights=uniform; total time=   0.0s\n",
            "[CV] END ..metric=minkowski, n_neighbors=11, weights=uniform; total time=   0.0s\n",
            "[CV] END .metric=minkowski, n_neighbors=11, weights=distance; total time=   0.0s\n",
            "[CV] END .metric=minkowski, n_neighbors=11, weights=distance; total time=   0.0s\n",
            "[CV] END .metric=minkowski, n_neighbors=11, weights=distance; total time=   0.0s\n",
            "[CV] END ..metric=minkowski, n_neighbors=12, weights=uniform; total time=   0.0s\n",
            "[CV] END ..metric=minkowski, n_neighbors=12, weights=uniform; total time=   0.0s\n",
            "[CV] END ..metric=minkowski, n_neighbors=12, weights=uniform; total time=   0.0s\n",
            "[CV] END .metric=minkowski, n_neighbors=12, weights=distance; total time=   0.0s\n",
            "[CV] END .metric=minkowski, n_neighbors=12, weights=distance; total time=   0.0s\n",
            "[CV] END .metric=minkowski, n_neighbors=12, weights=distance; total time=   0.0s\n",
            "[CV] END ..metric=minkowski, n_neighbors=13, weights=uniform; total time=   0.0s\n",
            "[CV] END ..metric=minkowski, n_neighbors=13, weights=uniform; total time=   0.0s\n",
            "[CV] END ..metric=minkowski, n_neighbors=13, weights=uniform; total time=   0.0s\n",
            "[CV] END .metric=minkowski, n_neighbors=13, weights=distance; total time=   0.0s\n",
            "[CV] END .metric=minkowski, n_neighbors=13, weights=distance; total time=   0.0s\n",
            "[CV] END .metric=minkowski, n_neighbors=13, weights=distance; total time=   0.0s\n",
            "[CV] END ..metric=minkowski, n_neighbors=14, weights=uniform; total time=   0.0s\n",
            "[CV] END ..metric=minkowski, n_neighbors=14, weights=uniform; total time=   0.0s\n",
            "[CV] END ..metric=minkowski, n_neighbors=14, weights=uniform; total time=   0.1s\n",
            "[CV] END .metric=minkowski, n_neighbors=14, weights=distance; total time=   0.0s\n",
            "[CV] END .metric=minkowski, n_neighbors=14, weights=distance; total time=   0.0s\n",
            "[CV] END .metric=minkowski, n_neighbors=14, weights=distance; total time=   0.0s\n",
            "[CV] END ..metric=minkowski, n_neighbors=15, weights=uniform; total time=   0.0s\n",
            "[CV] END ..metric=minkowski, n_neighbors=15, weights=uniform; total time=   0.0s\n",
            "[CV] END ..metric=minkowski, n_neighbors=15, weights=uniform; total time=   0.0s\n",
            "[CV] END .metric=minkowski, n_neighbors=15, weights=distance; total time=   0.0s\n",
            "[CV] END .metric=minkowski, n_neighbors=15, weights=distance; total time=   0.0s\n",
            "[CV] END .metric=minkowski, n_neighbors=15, weights=distance; total time=   0.0s\n",
            "[CV] END ..metric=minkowski, n_neighbors=16, weights=uniform; total time=   0.0s\n",
            "[CV] END ..metric=minkowski, n_neighbors=16, weights=uniform; total time=   0.0s\n",
            "[CV] END ..metric=minkowski, n_neighbors=16, weights=uniform; total time=   0.1s\n",
            "[CV] END .metric=minkowski, n_neighbors=16, weights=distance; total time=   0.0s\n",
            "[CV] END .metric=minkowski, n_neighbors=16, weights=distance; total time=   0.0s\n",
            "[CV] END .metric=minkowski, n_neighbors=16, weights=distance; total time=   0.0s\n",
            "[CV] END ..metric=minkowski, n_neighbors=17, weights=uniform; total time=   0.1s\n",
            "[CV] END ..metric=minkowski, n_neighbors=17, weights=uniform; total time=   0.1s\n",
            "[CV] END ..metric=minkowski, n_neighbors=17, weights=uniform; total time=   0.0s\n",
            "[CV] END .metric=minkowski, n_neighbors=17, weights=distance; total time=   0.0s\n",
            "[CV] END .metric=minkowski, n_neighbors=17, weights=distance; total time=   0.0s\n",
            "[CV] END .metric=minkowski, n_neighbors=17, weights=distance; total time=   0.0s\n",
            "[CV] END ..metric=minkowski, n_neighbors=18, weights=uniform; total time=   0.1s\n",
            "[CV] END ..metric=minkowski, n_neighbors=18, weights=uniform; total time=   0.0s\n",
            "[CV] END ..metric=minkowski, n_neighbors=18, weights=uniform; total time=   0.0s\n",
            "[CV] END .metric=minkowski, n_neighbors=18, weights=distance; total time=   0.0s\n",
            "[CV] END .metric=minkowski, n_neighbors=18, weights=distance; total time=   0.0s\n",
            "[CV] END .metric=minkowski, n_neighbors=18, weights=distance; total time=   0.0s\n",
            "[CV] END ..metric=minkowski, n_neighbors=19, weights=uniform; total time=   0.0s\n",
            "[CV] END ..metric=minkowski, n_neighbors=19, weights=uniform; total time=   0.0s\n",
            "[CV] END ..metric=minkowski, n_neighbors=19, weights=uniform; total time=   0.0s\n",
            "[CV] END .metric=minkowski, n_neighbors=19, weights=distance; total time=   0.0s\n",
            "[CV] END .metric=minkowski, n_neighbors=19, weights=distance; total time=   0.0s\n",
            "[CV] END .metric=minkowski, n_neighbors=19, weights=distance; total time=   0.0s\n",
            "[CV] END ..metric=minkowski, n_neighbors=20, weights=uniform; total time=   0.0s\n",
            "[CV] END ..metric=minkowski, n_neighbors=20, weights=uniform; total time=   0.0s\n",
            "[CV] END ..metric=minkowski, n_neighbors=20, weights=uniform; total time=   0.0s\n",
            "[CV] END .metric=minkowski, n_neighbors=20, weights=distance; total time=   0.0s\n",
            "[CV] END .metric=minkowski, n_neighbors=20, weights=distance; total time=   0.0s\n",
            "[CV] END .metric=minkowski, n_neighbors=20, weights=distance; total time=   0.0s\n",
            "[CV] END ..metric=minkowski, n_neighbors=21, weights=uniform; total time=   0.0s\n",
            "[CV] END ..metric=minkowski, n_neighbors=21, weights=uniform; total time=   0.0s\n",
            "[CV] END ..metric=minkowski, n_neighbors=21, weights=uniform; total time=   0.0s\n",
            "[CV] END .metric=minkowski, n_neighbors=21, weights=distance; total time=   0.0s\n",
            "[CV] END .metric=minkowski, n_neighbors=21, weights=distance; total time=   0.0s\n",
            "[CV] END .metric=minkowski, n_neighbors=21, weights=distance; total time=   0.0s\n",
            "[CV] END ..metric=minkowski, n_neighbors=22, weights=uniform; total time=   0.0s\n",
            "[CV] END ..metric=minkowski, n_neighbors=22, weights=uniform; total time=   0.0s\n",
            "[CV] END ..metric=minkowski, n_neighbors=22, weights=uniform; total time=   0.0s\n",
            "[CV] END .metric=minkowski, n_neighbors=22, weights=distance; total time=   0.0s\n",
            "[CV] END .metric=minkowski, n_neighbors=22, weights=distance; total time=   0.0s\n",
            "[CV] END .metric=minkowski, n_neighbors=22, weights=distance; total time=   0.0s\n",
            "[CV] END ..metric=minkowski, n_neighbors=23, weights=uniform; total time=   0.1s\n",
            "[CV] END ..metric=minkowski, n_neighbors=23, weights=uniform; total time=   0.0s\n",
            "[CV] END ..metric=minkowski, n_neighbors=23, weights=uniform; total time=   0.0s\n",
            "[CV] END .metric=minkowski, n_neighbors=23, weights=distance; total time=   0.0s\n",
            "[CV] END .metric=minkowski, n_neighbors=23, weights=distance; total time=   0.0s\n",
            "[CV] END .metric=minkowski, n_neighbors=23, weights=distance; total time=   0.0s\n",
            "[CV] END ..metric=minkowski, n_neighbors=24, weights=uniform; total time=   0.0s\n",
            "[CV] END ..metric=minkowski, n_neighbors=24, weights=uniform; total time=   0.0s\n",
            "[CV] END ..metric=minkowski, n_neighbors=24, weights=uniform; total time=   0.1s\n",
            "[CV] END .metric=minkowski, n_neighbors=24, weights=distance; total time=   0.0s\n",
            "[CV] END .metric=minkowski, n_neighbors=24, weights=distance; total time=   0.0s\n",
            "[CV] END .metric=minkowski, n_neighbors=24, weights=distance; total time=   0.0s\n",
            "[CV] END ..metric=minkowski, n_neighbors=25, weights=uniform; total time=   0.0s\n",
            "[CV] END ..metric=minkowski, n_neighbors=25, weights=uniform; total time=   0.0s\n",
            "[CV] END ..metric=minkowski, n_neighbors=25, weights=uniform; total time=   0.0s\n",
            "[CV] END .metric=minkowski, n_neighbors=25, weights=distance; total time=   0.0s\n",
            "[CV] END .metric=minkowski, n_neighbors=25, weights=distance; total time=   0.0s\n",
            "[CV] END .metric=minkowski, n_neighbors=25, weights=distance; total time=   0.0s\n",
            "[CV] END ..metric=minkowski, n_neighbors=26, weights=uniform; total time=   0.0s\n",
            "[CV] END ..metric=minkowski, n_neighbors=26, weights=uniform; total time=   0.0s\n",
            "[CV] END ..metric=minkowski, n_neighbors=26, weights=uniform; total time=   0.0s\n",
            "[CV] END .metric=minkowski, n_neighbors=26, weights=distance; total time=   0.0s\n",
            "[CV] END .metric=minkowski, n_neighbors=26, weights=distance; total time=   0.0s\n",
            "[CV] END .metric=minkowski, n_neighbors=26, weights=distance; total time=   0.0s\n",
            "[CV] END ..metric=minkowski, n_neighbors=27, weights=uniform; total time=   0.0s\n",
            "[CV] END ..metric=minkowski, n_neighbors=27, weights=uniform; total time=   0.0s\n",
            "[CV] END ..metric=minkowski, n_neighbors=27, weights=uniform; total time=   0.0s\n",
            "[CV] END .metric=minkowski, n_neighbors=27, weights=distance; total time=   0.0s\n",
            "[CV] END .metric=minkowski, n_neighbors=27, weights=distance; total time=   0.0s\n",
            "[CV] END .metric=minkowski, n_neighbors=27, weights=distance; total time=   0.0s\n",
            "[CV] END ..metric=minkowski, n_neighbors=28, weights=uniform; total time=   0.0s\n",
            "[CV] END ..metric=minkowski, n_neighbors=28, weights=uniform; total time=   0.0s\n",
            "[CV] END ..metric=minkowski, n_neighbors=28, weights=uniform; total time=   0.0s\n",
            "[CV] END .metric=minkowski, n_neighbors=28, weights=distance; total time=   0.0s\n",
            "[CV] END .metric=minkowski, n_neighbors=28, weights=distance; total time=   0.0s\n",
            "[CV] END .metric=minkowski, n_neighbors=28, weights=distance; total time=   0.0s\n",
            "[CV] END ..metric=minkowski, n_neighbors=29, weights=uniform; total time=   0.0s\n",
            "[CV] END ..metric=minkowski, n_neighbors=29, weights=uniform; total time=   0.0s\n",
            "[CV] END ..metric=minkowski, n_neighbors=29, weights=uniform; total time=   0.0s\n",
            "[CV] END .metric=minkowski, n_neighbors=29, weights=distance; total time=   0.0s\n",
            "[CV] END .metric=minkowski, n_neighbors=29, weights=distance; total time=   0.0s\n",
            "[CV] END .metric=minkowski, n_neighbors=29, weights=distance; total time=   0.0s\n",
            "[CV] END ..metric=minkowski, n_neighbors=30, weights=uniform; total time=   0.0s\n",
            "[CV] END ..metric=minkowski, n_neighbors=30, weights=uniform; total time=   0.0s\n",
            "[CV] END ..metric=minkowski, n_neighbors=30, weights=uniform; total time=   0.0s\n",
            "[CV] END .metric=minkowski, n_neighbors=30, weights=distance; total time=   0.0s\n",
            "[CV] END .metric=minkowski, n_neighbors=30, weights=distance; total time=   0.0s\n",
            "[CV] END .metric=minkowski, n_neighbors=30, weights=distance; total time=   0.0s\n",
            "[CV] END ..metric=minkowski, n_neighbors=31, weights=uniform; total time=   0.0s\n",
            "[CV] END ..metric=minkowski, n_neighbors=31, weights=uniform; total time=   0.0s\n",
            "[CV] END ..metric=minkowski, n_neighbors=31, weights=uniform; total time=   0.0s\n",
            "[CV] END .metric=minkowski, n_neighbors=31, weights=distance; total time=   0.0s\n",
            "[CV] END .metric=minkowski, n_neighbors=31, weights=distance; total time=   0.0s\n",
            "[CV] END .metric=minkowski, n_neighbors=31, weights=distance; total time=   0.0s\n",
            "Best Accuracy: 71.76 %\n",
            "Best Parameters: {'metric': 'manhattan', 'n_neighbors': 2, 'weights': 'uniform'}\n"
          ]
        }
      ],
      "source": [
        "from sklearn.model_selection import GridSearchCV\n",
        "parameters = {\n",
        "    'n_neighbors': list(range(1, 32)),\n",
        "    'metric': ['euclidean', 'manhattan', 'minkowski'],\n",
        "    'weights': ['uniform', 'distance']\n",
        "}\n",
        "grid_search = GridSearchCV(estimator = classifier,\n",
        "                           param_grid = parameters,\n",
        "                           scoring = 'accuracy',\n",
        "                           cv = 3,\n",
        "                           n_jobs = 1,\n",
        "                           verbose = 2)\n",
        "grid_search.fit(X_train, y_train)\n",
        "best_accuracy = grid_search.best_score_\n",
        "best_parameters = grid_search.best_params_\n",
        "best_base_classifier = grid_search.best_estimator_\n",
        "\n",
        "print(\"Best Accuracy: {:.2f} %\".format(best_accuracy*100))\n",
        "print(\"Best Parameters:\", best_parameters)"
      ]
    },
    {
      "cell_type": "markdown",
      "source": [
        "###building model with best parameters"
      ],
      "metadata": {
        "id": "-JSavuaWhzaC"
      }
    },
    {
      "cell_type": "code",
      "source": [
        "best_base_classifier.fit(X_train, y_train)\n",
        "\n",
        "from sklearn.metrics import confusion_matrix, accuracy_score\n",
        "y_pred = best_base_classifier.predict(X_test)\n",
        "cm = confusion_matrix(y_test, y_pred)\n",
        "print(cm)\n",
        "accuracy_score(y_test, y_pred)"
      ],
      "metadata": {
        "colab": {
          "base_uri": "https://localhost:8080/"
        },
        "outputId": "85346ba0-717f-4da5-8bec-7cb208f0ff2b",
        "id": "VojHqyUHhzaC"
      },
      "execution_count": 424,
      "outputs": [
        {
          "output_type": "stream",
          "name": "stdout",
          "text": [
            "[[36  4  1  0  0]\n",
            " [ 5  7  1  1  0]\n",
            " [ 4  4  0  0  1]\n",
            " [ 1  5  2  0  1]\n",
            " [ 0  1  0  0  2]]\n"
          ]
        },
        {
          "output_type": "execute_result",
          "data": {
            "text/plain": [
              "0.5921052631578947"
            ]
          },
          "metadata": {},
          "execution_count": 424
        }
      ]
    },
    {
      "cell_type": "markdown",
      "metadata": {
        "id": "dsjPHGFFMRWb"
      },
      "source": [
        "#Training a Descision Tree model"
      ]
    },
    {
      "cell_type": "code",
      "execution_count": 425,
      "metadata": {
        "colab": {
          "base_uri": "https://localhost:8080/",
          "height": 0
        },
        "id": "K7cQa3guMcqS",
        "outputId": "d3d8c3fc-edf4-4f97-b443-110a2573b125"
      },
      "outputs": [
        {
          "output_type": "execute_result",
          "data": {
            "text/plain": [
              "DecisionTreeClassifier(criterion='entropy', random_state=42)"
            ],
            "text/html": [
              "<style>#sk-container-id-40 {color: black;}#sk-container-id-40 pre{padding: 0;}#sk-container-id-40 div.sk-toggleable {background-color: white;}#sk-container-id-40 label.sk-toggleable__label {cursor: pointer;display: block;width: 100%;margin-bottom: 0;padding: 0.3em;box-sizing: border-box;text-align: center;}#sk-container-id-40 label.sk-toggleable__label-arrow:before {content: \"▸\";float: left;margin-right: 0.25em;color: #696969;}#sk-container-id-40 label.sk-toggleable__label-arrow:hover:before {color: black;}#sk-container-id-40 div.sk-estimator:hover label.sk-toggleable__label-arrow:before {color: black;}#sk-container-id-40 div.sk-toggleable__content {max-height: 0;max-width: 0;overflow: hidden;text-align: left;background-color: #f0f8ff;}#sk-container-id-40 div.sk-toggleable__content pre {margin: 0.2em;color: black;border-radius: 0.25em;background-color: #f0f8ff;}#sk-container-id-40 input.sk-toggleable__control:checked~div.sk-toggleable__content {max-height: 200px;max-width: 100%;overflow: auto;}#sk-container-id-40 input.sk-toggleable__control:checked~label.sk-toggleable__label-arrow:before {content: \"▾\";}#sk-container-id-40 div.sk-estimator input.sk-toggleable__control:checked~label.sk-toggleable__label {background-color: #d4ebff;}#sk-container-id-40 div.sk-label input.sk-toggleable__control:checked~label.sk-toggleable__label {background-color: #d4ebff;}#sk-container-id-40 input.sk-hidden--visually {border: 0;clip: rect(1px 1px 1px 1px);clip: rect(1px, 1px, 1px, 1px);height: 1px;margin: -1px;overflow: hidden;padding: 0;position: absolute;width: 1px;}#sk-container-id-40 div.sk-estimator {font-family: monospace;background-color: #f0f8ff;border: 1px dotted black;border-radius: 0.25em;box-sizing: border-box;margin-bottom: 0.5em;}#sk-container-id-40 div.sk-estimator:hover {background-color: #d4ebff;}#sk-container-id-40 div.sk-parallel-item::after {content: \"\";width: 100%;border-bottom: 1px solid gray;flex-grow: 1;}#sk-container-id-40 div.sk-label:hover label.sk-toggleable__label {background-color: #d4ebff;}#sk-container-id-40 div.sk-serial::before {content: \"\";position: absolute;border-left: 1px solid gray;box-sizing: border-box;top: 0;bottom: 0;left: 50%;z-index: 0;}#sk-container-id-40 div.sk-serial {display: flex;flex-direction: column;align-items: center;background-color: white;padding-right: 0.2em;padding-left: 0.2em;position: relative;}#sk-container-id-40 div.sk-item {position: relative;z-index: 1;}#sk-container-id-40 div.sk-parallel {display: flex;align-items: stretch;justify-content: center;background-color: white;position: relative;}#sk-container-id-40 div.sk-item::before, #sk-container-id-40 div.sk-parallel-item::before {content: \"\";position: absolute;border-left: 1px solid gray;box-sizing: border-box;top: 0;bottom: 0;left: 50%;z-index: -1;}#sk-container-id-40 div.sk-parallel-item {display: flex;flex-direction: column;z-index: 1;position: relative;background-color: white;}#sk-container-id-40 div.sk-parallel-item:first-child::after {align-self: flex-end;width: 50%;}#sk-container-id-40 div.sk-parallel-item:last-child::after {align-self: flex-start;width: 50%;}#sk-container-id-40 div.sk-parallel-item:only-child::after {width: 0;}#sk-container-id-40 div.sk-dashed-wrapped {border: 1px dashed gray;margin: 0 0.4em 0.5em 0.4em;box-sizing: border-box;padding-bottom: 0.4em;background-color: white;}#sk-container-id-40 div.sk-label label {font-family: monospace;font-weight: bold;display: inline-block;line-height: 1.2em;}#sk-container-id-40 div.sk-label-container {text-align: center;}#sk-container-id-40 div.sk-container {/* jupyter's `normalize.less` sets `[hidden] { display: none; }` but bootstrap.min.css set `[hidden] { display: none !important; }` so we also need the `!important` here to be able to override the default hidden behavior on the sphinx rendered scikit-learn.org. See: https://github.com/scikit-learn/scikit-learn/issues/21755 */display: inline-block !important;position: relative;}#sk-container-id-40 div.sk-text-repr-fallback {display: none;}</style><div id=\"sk-container-id-40\" class=\"sk-top-container\"><div class=\"sk-text-repr-fallback\"><pre>DecisionTreeClassifier(criterion=&#x27;entropy&#x27;, random_state=42)</pre><b>In a Jupyter environment, please rerun this cell to show the HTML representation or trust the notebook. <br />On GitHub, the HTML representation is unable to render, please try loading this page with nbviewer.org.</b></div><div class=\"sk-container\" hidden><div class=\"sk-item\"><div class=\"sk-estimator sk-toggleable\"><input class=\"sk-toggleable__control sk-hidden--visually\" id=\"sk-estimator-id-40\" type=\"checkbox\" checked><label for=\"sk-estimator-id-40\" class=\"sk-toggleable__label sk-toggleable__label-arrow\">DecisionTreeClassifier</label><div class=\"sk-toggleable__content\"><pre>DecisionTreeClassifier(criterion=&#x27;entropy&#x27;, random_state=42)</pre></div></div></div></div></div>"
            ]
          },
          "metadata": {},
          "execution_count": 425
        }
      ],
      "source": [
        "from sklearn.tree import DecisionTreeClassifier\n",
        "classifier = DecisionTreeClassifier(criterion = 'entropy', random_state = 42)\n",
        "classifier.fit(X_train, y_train)"
      ]
    },
    {
      "cell_type": "code",
      "execution_count": 426,
      "metadata": {
        "colab": {
          "base_uri": "https://localhost:8080/"
        },
        "id": "nt341MjlMgjL",
        "outputId": "65fdf8f5-b739-4970-8f1e-3aaccfcb2778"
      },
      "outputs": [
        {
          "output_type": "stream",
          "name": "stdout",
          "text": [
            "[[34  5  0  2  0]\n",
            " [ 8  4  2  0  0]\n",
            " [ 2  4  2  0  1]\n",
            " [ 0  3  3  0  3]\n",
            " [ 0  0  3  0  0]]\n"
          ]
        },
        {
          "output_type": "execute_result",
          "data": {
            "text/plain": [
              "0.5263157894736842"
            ]
          },
          "metadata": {},
          "execution_count": 426
        }
      ],
      "source": [
        "from sklearn.metrics import confusion_matrix, accuracy_score\n",
        "y_pred = classifier.predict(X_test)\n",
        "cm = confusion_matrix(y_test, y_pred)\n",
        "print(cm)\n",
        "accuracy_score(y_test, y_pred)"
      ]
    },
    {
      "cell_type": "markdown",
      "metadata": {
        "id": "C8jS9wqXZNmR"
      },
      "source": [
        "###Grid search\n"
      ]
    },
    {
      "cell_type": "code",
      "execution_count": 427,
      "metadata": {
        "colab": {
          "base_uri": "https://localhost:8080/"
        },
        "id": "A5XiEtl_ZPnC",
        "outputId": "c8701ac2-de88-452c-f25a-9fe2c5c048c9"
      },
      "outputs": [
        {
          "output_type": "stream",
          "name": "stdout",
          "text": [
            "Fitting 3 folds for each of 24 candidates, totalling 72 fits\n",
            "Best Accuracy: 64.72 %\n",
            "Best Parameters: {'criterion': 'gini', 'max_depth': None, 'splitter': 'best'}\n"
          ]
        }
      ],
      "source": [
        "from sklearn.model_selection import GridSearchCV\n",
        "parameters = {\n",
        "    'criterion': ['gini', 'entropy'],\n",
        "    'splitter': ['best', 'random'],\n",
        "    'max_depth': [None, 10, 20, 30, 40, 50]\n",
        "}\n",
        "grid_search = GridSearchCV(estimator = classifier,\n",
        "                           param_grid = parameters,\n",
        "                           scoring = 'accuracy',\n",
        "                           cv = 3,\n",
        "                           n_jobs = -1, verbose = 2)\n",
        "grid_search.fit(X_train, y_train)\n",
        "best_accuracy = grid_search.best_score_\n",
        "best_parameters = grid_search.best_params_\n",
        "best_base_classifier = grid_search.best_estimator_\n",
        "\n",
        "print(\"Best Accuracy: {:.2f} %\".format(best_accuracy*100))\n",
        "print(\"Best Parameters:\", best_parameters)"
      ]
    },
    {
      "cell_type": "markdown",
      "source": [
        "###building model with best parameters"
      ],
      "metadata": {
        "id": "1lf2-bOih52E"
      }
    },
    {
      "cell_type": "code",
      "source": [
        "best_base_classifier.fit(X_train, y_train)\n",
        "\n",
        "from sklearn.metrics import confusion_matrix, accuracy_score\n",
        "y_pred = best_base_classifier.predict(X_test)\n",
        "cm = confusion_matrix(y_test, y_pred)\n",
        "print(cm)\n",
        "accuracy_score(y_test, y_pred)"
      ],
      "metadata": {
        "colab": {
          "base_uri": "https://localhost:8080/"
        },
        "outputId": "a7956fb0-db8d-4da7-e1ca-b42680092cc1",
        "id": "HdKKRM7sh52E"
      },
      "execution_count": 428,
      "outputs": [
        {
          "output_type": "stream",
          "name": "stdout",
          "text": [
            "[[33  8  0  0  0]\n",
            " [ 8  1  4  1  0]\n",
            " [ 1  5  2  1  0]\n",
            " [ 0  3  3  1  2]\n",
            " [ 0  0  1  1  1]]\n"
          ]
        },
        {
          "output_type": "execute_result",
          "data": {
            "text/plain": [
              "0.5"
            ]
          },
          "metadata": {},
          "execution_count": 428
        }
      ]
    },
    {
      "cell_type": "markdown",
      "source": [
        "#XG boost model"
      ],
      "metadata": {
        "id": "akG051g_-X0u"
      }
    },
    {
      "cell_type": "code",
      "source": [
        "from xgboost import XGBClassifier\n",
        "classifier = XGBClassifier()\n",
        "classifier.fit(X_train, y_train)"
      ],
      "metadata": {
        "colab": {
          "base_uri": "https://localhost:8080/",
          "height": 0
        },
        "id": "yI6doslG-dBv",
        "outputId": "49479fde-af7e-4bf6-e063-d4ba30334e17"
      },
      "execution_count": 429,
      "outputs": [
        {
          "output_type": "execute_result",
          "data": {
            "text/plain": [
              "XGBClassifier(base_score=None, booster=None, callbacks=None,\n",
              "              colsample_bylevel=None, colsample_bynode=None,\n",
              "              colsample_bytree=None, device=None, early_stopping_rounds=None,\n",
              "              enable_categorical=False, eval_metric=None, feature_types=None,\n",
              "              gamma=None, grow_policy=None, importance_type=None,\n",
              "              interaction_constraints=None, learning_rate=None, max_bin=None,\n",
              "              max_cat_threshold=None, max_cat_to_onehot=None,\n",
              "              max_delta_step=None, max_depth=None, max_leaves=None,\n",
              "              min_child_weight=None, missing=nan, monotone_constraints=None,\n",
              "              multi_strategy=None, n_estimators=None, n_jobs=None,\n",
              "              num_parallel_tree=None, objective='multi:softprob', ...)"
            ],
            "text/html": [
              "<style>#sk-container-id-41 {color: black;}#sk-container-id-41 pre{padding: 0;}#sk-container-id-41 div.sk-toggleable {background-color: white;}#sk-container-id-41 label.sk-toggleable__label {cursor: pointer;display: block;width: 100%;margin-bottom: 0;padding: 0.3em;box-sizing: border-box;text-align: center;}#sk-container-id-41 label.sk-toggleable__label-arrow:before {content: \"▸\";float: left;margin-right: 0.25em;color: #696969;}#sk-container-id-41 label.sk-toggleable__label-arrow:hover:before {color: black;}#sk-container-id-41 div.sk-estimator:hover label.sk-toggleable__label-arrow:before {color: black;}#sk-container-id-41 div.sk-toggleable__content {max-height: 0;max-width: 0;overflow: hidden;text-align: left;background-color: #f0f8ff;}#sk-container-id-41 div.sk-toggleable__content pre {margin: 0.2em;color: black;border-radius: 0.25em;background-color: #f0f8ff;}#sk-container-id-41 input.sk-toggleable__control:checked~div.sk-toggleable__content {max-height: 200px;max-width: 100%;overflow: auto;}#sk-container-id-41 input.sk-toggleable__control:checked~label.sk-toggleable__label-arrow:before {content: \"▾\";}#sk-container-id-41 div.sk-estimator input.sk-toggleable__control:checked~label.sk-toggleable__label {background-color: #d4ebff;}#sk-container-id-41 div.sk-label input.sk-toggleable__control:checked~label.sk-toggleable__label {background-color: #d4ebff;}#sk-container-id-41 input.sk-hidden--visually {border: 0;clip: rect(1px 1px 1px 1px);clip: rect(1px, 1px, 1px, 1px);height: 1px;margin: -1px;overflow: hidden;padding: 0;position: absolute;width: 1px;}#sk-container-id-41 div.sk-estimator {font-family: monospace;background-color: #f0f8ff;border: 1px dotted black;border-radius: 0.25em;box-sizing: border-box;margin-bottom: 0.5em;}#sk-container-id-41 div.sk-estimator:hover {background-color: #d4ebff;}#sk-container-id-41 div.sk-parallel-item::after {content: \"\";width: 100%;border-bottom: 1px solid gray;flex-grow: 1;}#sk-container-id-41 div.sk-label:hover label.sk-toggleable__label {background-color: #d4ebff;}#sk-container-id-41 div.sk-serial::before {content: \"\";position: absolute;border-left: 1px solid gray;box-sizing: border-box;top: 0;bottom: 0;left: 50%;z-index: 0;}#sk-container-id-41 div.sk-serial {display: flex;flex-direction: column;align-items: center;background-color: white;padding-right: 0.2em;padding-left: 0.2em;position: relative;}#sk-container-id-41 div.sk-item {position: relative;z-index: 1;}#sk-container-id-41 div.sk-parallel {display: flex;align-items: stretch;justify-content: center;background-color: white;position: relative;}#sk-container-id-41 div.sk-item::before, #sk-container-id-41 div.sk-parallel-item::before {content: \"\";position: absolute;border-left: 1px solid gray;box-sizing: border-box;top: 0;bottom: 0;left: 50%;z-index: -1;}#sk-container-id-41 div.sk-parallel-item {display: flex;flex-direction: column;z-index: 1;position: relative;background-color: white;}#sk-container-id-41 div.sk-parallel-item:first-child::after {align-self: flex-end;width: 50%;}#sk-container-id-41 div.sk-parallel-item:last-child::after {align-self: flex-start;width: 50%;}#sk-container-id-41 div.sk-parallel-item:only-child::after {width: 0;}#sk-container-id-41 div.sk-dashed-wrapped {border: 1px dashed gray;margin: 0 0.4em 0.5em 0.4em;box-sizing: border-box;padding-bottom: 0.4em;background-color: white;}#sk-container-id-41 div.sk-label label {font-family: monospace;font-weight: bold;display: inline-block;line-height: 1.2em;}#sk-container-id-41 div.sk-label-container {text-align: center;}#sk-container-id-41 div.sk-container {/* jupyter's `normalize.less` sets `[hidden] { display: none; }` but bootstrap.min.css set `[hidden] { display: none !important; }` so we also need the `!important` here to be able to override the default hidden behavior on the sphinx rendered scikit-learn.org. See: https://github.com/scikit-learn/scikit-learn/issues/21755 */display: inline-block !important;position: relative;}#sk-container-id-41 div.sk-text-repr-fallback {display: none;}</style><div id=\"sk-container-id-41\" class=\"sk-top-container\"><div class=\"sk-text-repr-fallback\"><pre>XGBClassifier(base_score=None, booster=None, callbacks=None,\n",
              "              colsample_bylevel=None, colsample_bynode=None,\n",
              "              colsample_bytree=None, device=None, early_stopping_rounds=None,\n",
              "              enable_categorical=False, eval_metric=None, feature_types=None,\n",
              "              gamma=None, grow_policy=None, importance_type=None,\n",
              "              interaction_constraints=None, learning_rate=None, max_bin=None,\n",
              "              max_cat_threshold=None, max_cat_to_onehot=None,\n",
              "              max_delta_step=None, max_depth=None, max_leaves=None,\n",
              "              min_child_weight=None, missing=nan, monotone_constraints=None,\n",
              "              multi_strategy=None, n_estimators=None, n_jobs=None,\n",
              "              num_parallel_tree=None, objective=&#x27;multi:softprob&#x27;, ...)</pre><b>In a Jupyter environment, please rerun this cell to show the HTML representation or trust the notebook. <br />On GitHub, the HTML representation is unable to render, please try loading this page with nbviewer.org.</b></div><div class=\"sk-container\" hidden><div class=\"sk-item\"><div class=\"sk-estimator sk-toggleable\"><input class=\"sk-toggleable__control sk-hidden--visually\" id=\"sk-estimator-id-41\" type=\"checkbox\" checked><label for=\"sk-estimator-id-41\" class=\"sk-toggleable__label sk-toggleable__label-arrow\">XGBClassifier</label><div class=\"sk-toggleable__content\"><pre>XGBClassifier(base_score=None, booster=None, callbacks=None,\n",
              "              colsample_bylevel=None, colsample_bynode=None,\n",
              "              colsample_bytree=None, device=None, early_stopping_rounds=None,\n",
              "              enable_categorical=False, eval_metric=None, feature_types=None,\n",
              "              gamma=None, grow_policy=None, importance_type=None,\n",
              "              interaction_constraints=None, learning_rate=None, max_bin=None,\n",
              "              max_cat_threshold=None, max_cat_to_onehot=None,\n",
              "              max_delta_step=None, max_depth=None, max_leaves=None,\n",
              "              min_child_weight=None, missing=nan, monotone_constraints=None,\n",
              "              multi_strategy=None, n_estimators=None, n_jobs=None,\n",
              "              num_parallel_tree=None, objective=&#x27;multi:softprob&#x27;, ...)</pre></div></div></div></div></div>"
            ]
          },
          "metadata": {},
          "execution_count": 429
        }
      ]
    },
    {
      "cell_type": "code",
      "source": [
        "from sklearn.metrics import confusion_matrix, accuracy_score\n",
        "y_pred = classifier.predict(X_test)\n",
        "cm = confusion_matrix(y_test, y_pred)\n",
        "print(cm)\n",
        "accuracy_score(y_test, y_pred)"
      ],
      "metadata": {
        "colab": {
          "base_uri": "https://localhost:8080/"
        },
        "id": "eyHHvjKd-ghI",
        "outputId": "02d557ac-6bf8-4912-8682-fff33682e3dd"
      },
      "execution_count": 430,
      "outputs": [
        {
          "output_type": "stream",
          "name": "stdout",
          "text": [
            "[[39  2  0  0  0]\n",
            " [ 8  1  3  2  0]\n",
            " [ 3  3  2  1  0]\n",
            " [ 0  5  0  2  2]\n",
            " [ 0  1  1  0  1]]\n"
          ]
        },
        {
          "output_type": "execute_result",
          "data": {
            "text/plain": [
              "0.5921052631578947"
            ]
          },
          "metadata": {},
          "execution_count": 430
        }
      ]
    },
    {
      "cell_type": "markdown",
      "source": [
        "###Hyperparam tuning with optuna"
      ],
      "metadata": {
        "id": "qvkitWbGYOqd"
      }
    },
    {
      "cell_type": "code",
      "source": [
        "!pip install optuna\n"
      ],
      "metadata": {
        "colab": {
          "base_uri": "https://localhost:8080/"
        },
        "id": "PE_GbBK2UCm0",
        "outputId": "55cd8b43-b44c-4988-cf1f-bdc70a1ce1b3"
      },
      "execution_count": 431,
      "outputs": [
        {
          "output_type": "stream",
          "name": "stdout",
          "text": [
            "Requirement already satisfied: optuna in /usr/local/lib/python3.10/dist-packages (3.6.1)\n",
            "Requirement already satisfied: alembic>=1.5.0 in /usr/local/lib/python3.10/dist-packages (from optuna) (1.13.2)\n",
            "Requirement already satisfied: colorlog in /usr/local/lib/python3.10/dist-packages (from optuna) (6.8.2)\n",
            "Requirement already satisfied: numpy in /usr/local/lib/python3.10/dist-packages (from optuna) (1.26.4)\n",
            "Requirement already satisfied: packaging>=20.0 in /usr/local/lib/python3.10/dist-packages (from optuna) (24.1)\n",
            "Requirement already satisfied: sqlalchemy>=1.3.0 in /usr/local/lib/python3.10/dist-packages (from optuna) (2.0.32)\n",
            "Requirement already satisfied: tqdm in /usr/local/lib/python3.10/dist-packages (from optuna) (4.66.5)\n",
            "Requirement already satisfied: PyYAML in /usr/local/lib/python3.10/dist-packages (from optuna) (6.0.2)\n",
            "Requirement already satisfied: Mako in /usr/local/lib/python3.10/dist-packages (from alembic>=1.5.0->optuna) (1.3.5)\n",
            "Requirement already satisfied: typing-extensions>=4 in /usr/local/lib/python3.10/dist-packages (from alembic>=1.5.0->optuna) (4.12.2)\n",
            "Requirement already satisfied: greenlet!=0.4.17 in /usr/local/lib/python3.10/dist-packages (from sqlalchemy>=1.3.0->optuna) (3.0.3)\n",
            "Requirement already satisfied: MarkupSafe>=0.9.2 in /usr/local/lib/python3.10/dist-packages (from Mako->alembic>=1.5.0->optuna) (2.1.5)\n"
          ]
        }
      ]
    },
    {
      "cell_type": "code",
      "source": [
        "import optuna\n",
        "import xgboost as xgb\n",
        "from sklearn.metrics import accuracy_score\n",
        "\n",
        "\n",
        "def objective(trial):\n",
        "    params = {\n",
        "        'objective': 'binary:logistic',\n",
        "        'learning_rate': trial.suggest_float('learning_rate', 0.01, 0.2),\n",
        "        'max_depth': trial.suggest_int('max_depth', 3, 10),\n",
        "        'n_estimators': trial.suggest_int('n_estimators', 50, 200),\n",
        "        'colsample_bytree': trial.suggest_float('colsample_bytree', 0.5, 1.0),\n",
        "        'subsample': trial.suggest_float('subsample', 0.5, 1.0)\n",
        "    }\n",
        "\n",
        "    xgb_model = xgb.XGBClassifier(**params)\n",
        "    xgb_model.fit(\n",
        "        X_train, y_train,\n",
        "        eval_set=[(X_test, y_test)],\n",
        "        verbose=False\n",
        "    )\n",
        "    y_pred = xgb_model.predict(X_test)\n",
        "    return 1 - accuracy_score(y_test, y_pred)\n",
        "\n",
        "study = optuna.create_study(direction='minimize')\n",
        "study.optimize(objective, n_trials=50)\n",
        "print(\"Best hyperparameters: \", study.best_params)\n"
      ],
      "metadata": {
        "colab": {
          "base_uri": "https://localhost:8080/"
        },
        "id": "hl8VMZEnUDhb",
        "outputId": "27217583-afde-4930-9904-ee79617a6175"
      },
      "execution_count": 432,
      "outputs": [
        {
          "output_type": "stream",
          "name": "stderr",
          "text": [
            "[I 2024-08-13 15:40:39,530] A new study created in memory with name: no-name-cef1e975-2d62-4352-a887-b8c733ca07dd\n",
            "[I 2024-08-13 15:40:41,079] Trial 0 finished with value: 0.42105263157894735 and parameters: {'learning_rate': 0.18137054099172514, 'max_depth': 9, 'n_estimators': 129, 'colsample_bytree': 0.9110864703352364, 'subsample': 0.9444833377151554}. Best is trial 0 with value: 0.42105263157894735.\n",
            "[I 2024-08-13 15:40:41,845] Trial 1 finished with value: 0.39473684210526316 and parameters: {'learning_rate': 0.10999594775129873, 'max_depth': 9, 'n_estimators': 54, 'colsample_bytree': 0.9948050486166096, 'subsample': 0.8268996012167767}. Best is trial 1 with value: 0.39473684210526316.\n",
            "[I 2024-08-13 15:40:42,167] Trial 2 finished with value: 0.39473684210526316 and parameters: {'learning_rate': 0.03483707448090788, 'max_depth': 6, 'n_estimators': 119, 'colsample_bytree': 0.8623948338261541, 'subsample': 0.6731646190640955}. Best is trial 1 with value: 0.39473684210526316.\n",
            "[I 2024-08-13 15:40:42,717] Trial 3 finished with value: 0.4473684210526315 and parameters: {'learning_rate': 0.1155962190542575, 'max_depth': 4, 'n_estimators': 107, 'colsample_bytree': 0.9135544276537211, 'subsample': 0.7664329191673565}. Best is trial 1 with value: 0.39473684210526316.\n",
            "[I 2024-08-13 15:40:43,581] Trial 4 finished with value: 0.39473684210526316 and parameters: {'learning_rate': 0.1931247244422909, 'max_depth': 6, 'n_estimators': 54, 'colsample_bytree': 0.8909821562232174, 'subsample': 0.8090212193427697}. Best is trial 1 with value: 0.39473684210526316.\n",
            "[I 2024-08-13 15:40:45,133] Trial 5 finished with value: 0.4078947368421053 and parameters: {'learning_rate': 0.058858311471415514, 'max_depth': 8, 'n_estimators': 146, 'colsample_bytree': 0.9661041336927026, 'subsample': 0.6451823699323226}. Best is trial 1 with value: 0.39473684210526316.\n",
            "[I 2024-08-13 15:40:48,310] Trial 6 finished with value: 0.42105263157894735 and parameters: {'learning_rate': 0.15929257335610672, 'max_depth': 9, 'n_estimators': 75, 'colsample_bytree': 0.6527190092183996, 'subsample': 0.7028966627276247}. Best is trial 1 with value: 0.39473684210526316.\n",
            "[I 2024-08-13 15:40:52,721] Trial 7 finished with value: 0.4078947368421053 and parameters: {'learning_rate': 0.09316060064211554, 'max_depth': 8, 'n_estimators': 176, 'colsample_bytree': 0.7923831358453002, 'subsample': 0.8056150725034996}. Best is trial 1 with value: 0.39473684210526316.\n",
            "[I 2024-08-13 15:40:53,288] Trial 8 finished with value: 0.4342105263157895 and parameters: {'learning_rate': 0.08969327925825848, 'max_depth': 6, 'n_estimators': 97, 'colsample_bytree': 0.584065999976958, 'subsample': 0.8406754675339159}. Best is trial 1 with value: 0.39473684210526316.\n",
            "[I 2024-08-13 15:40:58,642] Trial 9 finished with value: 0.4078947368421053 and parameters: {'learning_rate': 0.12208570856977392, 'max_depth': 8, 'n_estimators': 153, 'colsample_bytree': 0.7969757144685324, 'subsample': 0.8065102915076701}. Best is trial 1 with value: 0.39473684210526316.\n",
            "[I 2024-08-13 15:40:59,763] Trial 10 finished with value: 0.39473684210526316 and parameters: {'learning_rate': 0.016072105388225733, 'max_depth': 10, 'n_estimators': 54, 'colsample_bytree': 0.6719191617676652, 'subsample': 0.5168766831922504}. Best is trial 1 with value: 0.39473684210526316.\n",
            "[I 2024-08-13 15:41:00,294] Trial 11 finished with value: 0.42105263157894735 and parameters: {'learning_rate': 0.011217546601168943, 'max_depth': 4, 'n_estimators': 90, 'colsample_bytree': 0.9990271431284062, 'subsample': 0.6126083545027629}. Best is trial 1 with value: 0.39473684210526316.\n",
            "[I 2024-08-13 15:41:07,765] Trial 12 finished with value: 0.4078947368421053 and parameters: {'learning_rate': 0.058085977058215686, 'max_depth': 5, 'n_estimators': 198, 'colsample_bytree': 0.8459033100975155, 'subsample': 0.988112737270743}. Best is trial 1 with value: 0.39473684210526316.\n",
            "[I 2024-08-13 15:41:08,808] Trial 13 finished with value: 0.4342105263157895 and parameters: {'learning_rate': 0.13991962401289085, 'max_depth': 7, 'n_estimators': 118, 'colsample_bytree': 0.5022441797804937, 'subsample': 0.8721093027292377}. Best is trial 1 with value: 0.39473684210526316.\n",
            "[I 2024-08-13 15:41:10,074] Trial 14 finished with value: 0.368421052631579 and parameters: {'learning_rate': 0.059545138239305, 'max_depth': 3, 'n_estimators': 81, 'colsample_bytree': 0.9665711421787263, 'subsample': 0.6976624063147588}. Best is trial 14 with value: 0.368421052631579.\n",
            "[I 2024-08-13 15:41:11,137] Trial 15 finished with value: 0.4342105263157895 and parameters: {'learning_rate': 0.0695952198214516, 'max_depth': 3, 'n_estimators': 80, 'colsample_bytree': 0.9632751842635436, 'subsample': 0.5838106225653915}. Best is trial 14 with value: 0.368421052631579.\n",
            "[I 2024-08-13 15:41:12,006] Trial 16 finished with value: 0.39473684210526316 and parameters: {'learning_rate': 0.07960376382851056, 'max_depth': 3, 'n_estimators': 67, 'colsample_bytree': 0.7238156749075946, 'subsample': 0.7280124365356031}. Best is trial 14 with value: 0.368421052631579.\n",
            "[I 2024-08-13 15:41:13,460] Trial 17 finished with value: 0.381578947368421 and parameters: {'learning_rate': 0.04022133475660285, 'max_depth': 10, 'n_estimators': 51, 'colsample_bytree': 0.992301099432538, 'subsample': 0.9037967715427209}. Best is trial 14 with value: 0.368421052631579.\n",
            "[I 2024-08-13 15:41:14,635] Trial 18 finished with value: 0.39473684210526316 and parameters: {'learning_rate': 0.038177429923323666, 'max_depth': 10, 'n_estimators': 68, 'colsample_bytree': 0.9466232099601939, 'subsample': 0.8931556084585746}. Best is trial 14 with value: 0.368421052631579.\n",
            "[I 2024-08-13 15:41:15,411] Trial 19 finished with value: 0.381578947368421 and parameters: {'learning_rate': 0.039078750891528596, 'max_depth': 5, 'n_estimators': 90, 'colsample_bytree': 0.8353717589824747, 'subsample': 0.9216229622966263}. Best is trial 14 with value: 0.368421052631579.\n",
            "[I 2024-08-13 15:41:16,905] Trial 20 finished with value: 0.381578947368421 and parameters: {'learning_rate': 0.052972539854755585, 'max_depth': 7, 'n_estimators': 104, 'colsample_bytree': 0.7441663600448971, 'subsample': 0.9859277712660672}. Best is trial 14 with value: 0.368421052631579.\n",
            "[I 2024-08-13 15:41:17,580] Trial 21 finished with value: 0.39473684210526316 and parameters: {'learning_rate': 0.035383582168619004, 'max_depth': 4, 'n_estimators': 82, 'colsample_bytree': 0.8274236238515603, 'subsample': 0.9202389472009316}. Best is trial 14 with value: 0.368421052631579.\n",
            "[I 2024-08-13 15:41:18,134] Trial 22 finished with value: 0.39473684210526316 and parameters: {'learning_rate': 0.024712512046535413, 'max_depth': 5, 'n_estimators': 67, 'colsample_bytree': 0.9223935102080124, 'subsample': 0.7568951229158238}. Best is trial 14 with value: 0.368421052631579.\n",
            "[I 2024-08-13 15:41:19,358] Trial 23 finished with value: 0.35526315789473684 and parameters: {'learning_rate': 0.04561085018944083, 'max_depth': 5, 'n_estimators': 88, 'colsample_bytree': 0.8732983991725083, 'subsample': 0.9473000785742605}. Best is trial 23 with value: 0.35526315789473684.\n",
            "[I 2024-08-13 15:41:19,717] Trial 24 finished with value: 0.39473684210526316 and parameters: {'learning_rate': 0.0720413186679621, 'max_depth': 3, 'n_estimators': 50, 'colsample_bytree': 0.8812685009783103, 'subsample': 0.8745453184285102}. Best is trial 23 with value: 0.35526315789473684.\n",
            "[I 2024-08-13 15:41:20,100] Trial 25 finished with value: 0.4078947368421053 and parameters: {'learning_rate': 0.04680279148309553, 'max_depth': 4, 'n_estimators': 66, 'colsample_bytree': 0.9535573406544227, 'subsample': 0.9748549856453091}. Best is trial 23 with value: 0.35526315789473684.\n",
            "[I 2024-08-13 15:41:22,288] Trial 26 finished with value: 0.381578947368421 and parameters: {'learning_rate': 0.08830872629941507, 'max_depth': 5, 'n_estimators': 135, 'colsample_bytree': 0.9922116243933166, 'subsample': 0.941037091071986}. Best is trial 23 with value: 0.35526315789473684.\n",
            "[I 2024-08-13 15:41:22,552] Trial 27 finished with value: 0.4078947368421053 and parameters: {'learning_rate': 0.06680406841125766, 'max_depth': 7, 'n_estimators': 110, 'colsample_bytree': 0.9339431764221745, 'subsample': 0.6979916060089645}. Best is trial 23 with value: 0.35526315789473684.\n",
            "[I 2024-08-13 15:41:22,705] Trial 28 finished with value: 0.42105263157894735 and parameters: {'learning_rate': 0.025411000836259617, 'max_depth': 3, 'n_estimators': 90, 'colsample_bytree': 0.8878304660693793, 'subsample': 0.7720087954716215}. Best is trial 23 with value: 0.35526315789473684.\n",
            "[I 2024-08-13 15:41:22,892] Trial 29 finished with value: 0.39473684210526316 and parameters: {'learning_rate': 0.04891324945170454, 'max_depth': 4, 'n_estimators': 76, 'colsample_bytree': 0.7963628768630755, 'subsample': 0.9488018100555998}. Best is trial 23 with value: 0.35526315789473684.\n",
            "[I 2024-08-13 15:41:23,064] Trial 30 finished with value: 0.39473684210526316 and parameters: {'learning_rate': 0.02473368842171786, 'max_depth': 6, 'n_estimators': 62, 'colsample_bytree': 0.9032638868061477, 'subsample': 0.5584918035107478}. Best is trial 23 with value: 0.35526315789473684.\n",
            "[I 2024-08-13 15:41:23,296] Trial 31 finished with value: 0.368421052631579 and parameters: {'learning_rate': 0.04308893095723175, 'max_depth': 5, 'n_estimators': 93, 'colsample_bytree': 0.8268114942465972, 'subsample': 0.9145778543188287}. Best is trial 23 with value: 0.35526315789473684.\n",
            "[I 2024-08-13 15:41:23,513] Trial 32 finished with value: 0.39473684210526316 and parameters: {'learning_rate': 0.10249274843554804, 'max_depth': 5, 'n_estimators': 98, 'colsample_bytree': 0.8646184102497061, 'subsample': 0.8532806517485692}. Best is trial 23 with value: 0.35526315789473684.\n",
            "[I 2024-08-13 15:41:23,781] Trial 33 finished with value: 0.4078947368421053 and parameters: {'learning_rate': 0.061633822928323, 'max_depth': 9, 'n_estimators': 82, 'colsample_bytree': 0.9726325405072098, 'subsample': 0.9051837253858391}. Best is trial 23 with value: 0.35526315789473684.\n",
            "[I 2024-08-13 15:41:24,096] Trial 34 finished with value: 0.381578947368421 and parameters: {'learning_rate': 0.043440147740908194, 'max_depth': 6, 'n_estimators': 116, 'colsample_bytree': 0.9204271320686164, 'subsample': 0.966778901397331}. Best is trial 23 with value: 0.35526315789473684.\n",
            "[I 2024-08-13 15:41:24,323] Trial 35 finished with value: 0.4342105263157895 and parameters: {'learning_rate': 0.07957070869261525, 'max_depth': 4, 'n_estimators': 129, 'colsample_bytree': 0.8191184705933559, 'subsample': 0.6708968947977594}. Best is trial 23 with value: 0.35526315789473684.\n",
            "[I 2024-08-13 15:41:24,486] Trial 36 finished with value: 0.35526315789473684 and parameters: {'learning_rate': 0.026311117688024025, 'max_depth': 5, 'n_estimators': 61, 'colsample_bytree': 0.862206705660766, 'subsample': 0.9357890334046663}. Best is trial 23 with value: 0.35526315789473684.\n",
            "[I 2024-08-13 15:41:24,716] Trial 37 finished with value: 0.39473684210526316 and parameters: {'learning_rate': 0.02563459266809913, 'max_depth': 5, 'n_estimators': 100, 'colsample_bytree': 0.766242474336514, 'subsample': 0.9484961839193081}. Best is trial 23 with value: 0.35526315789473684.\n",
            "[I 2024-08-13 15:41:24,949] Trial 38 finished with value: 0.42105263157894735 and parameters: {'learning_rate': 0.17282728350238521, 'max_depth': 6, 'n_estimators': 88, 'colsample_bytree': 0.8568525860562568, 'subsample': 0.7911042205852974}. Best is trial 23 with value: 0.35526315789473684.\n",
            "[I 2024-08-13 15:41:25,083] Trial 39 finished with value: 0.42105263157894735 and parameters: {'learning_rate': 0.01766523290392806, 'max_depth': 4, 'n_estimators': 59, 'colsample_bytree': 0.7164169454664356, 'subsample': 0.9993991658423353}. Best is trial 23 with value: 0.35526315789473684.\n",
            "[I 2024-08-13 15:41:25,260] Trial 40 finished with value: 0.4078947368421053 and parameters: {'learning_rate': 0.12702796030838534, 'max_depth': 5, 'n_estimators': 73, 'colsample_bytree': 0.8707618243983407, 'subsample': 0.6373592734453188}. Best is trial 23 with value: 0.35526315789473684.\n",
            "[I 2024-08-13 15:41:25,441] Trial 41 finished with value: 0.381578947368421 and parameters: {'learning_rate': 0.030402197954845722, 'max_depth': 6, 'n_estimators': 57, 'colsample_bytree': 0.9781855430539673, 'subsample': 0.9027378015521859}. Best is trial 23 with value: 0.35526315789473684.\n",
            "[I 2024-08-13 15:41:25,657] Trial 42 finished with value: 0.381578947368421 and parameters: {'learning_rate': 0.05014985242883321, 'max_depth': 7, 'n_estimators': 74, 'colsample_bytree': 0.893356800091534, 'subsample': 0.8324336646143116}. Best is trial 23 with value: 0.35526315789473684.\n",
            "[I 2024-08-13 15:41:25,816] Trial 43 finished with value: 0.368421052631579 and parameters: {'learning_rate': 0.05605206422736187, 'max_depth': 8, 'n_estimators': 50, 'colsample_bytree': 0.7730005720379416, 'subsample': 0.8705999171414898}. Best is trial 23 with value: 0.35526315789473684.\n",
            "[I 2024-08-13 15:41:26,041] Trial 44 finished with value: 0.381578947368421 and parameters: {'learning_rate': 0.057141348913212826, 'max_depth': 8, 'n_estimators': 61, 'colsample_bytree': 0.7759572528610291, 'subsample': 0.9405500572528801}. Best is trial 23 with value: 0.35526315789473684.\n",
            "[I 2024-08-13 15:41:26,264] Trial 45 finished with value: 0.381578947368421 and parameters: {'learning_rate': 0.07759811690451257, 'max_depth': 9, 'n_estimators': 84, 'colsample_bytree': 0.8147249790311234, 'subsample': 0.7231076691985613}. Best is trial 23 with value: 0.35526315789473684.\n",
            "[I 2024-08-13 15:41:26,570] Trial 46 finished with value: 0.4078947368421053 and parameters: {'learning_rate': 0.013883485504313784, 'max_depth': 8, 'n_estimators': 111, 'colsample_bytree': 0.6953160478501264, 'subsample': 0.8620352850232353}. Best is trial 23 with value: 0.35526315789473684.\n",
            "[I 2024-08-13 15:41:26,795] Trial 47 finished with value: 0.4605263157894737 and parameters: {'learning_rate': 0.1012837442401747, 'max_depth': 3, 'n_estimators': 164, 'colsample_bytree': 0.6172046163246667, 'subsample': 0.8201578037518563}. Best is trial 23 with value: 0.35526315789473684.\n",
            "[I 2024-08-13 15:41:27,068] Trial 48 finished with value: 0.381578947368421 and parameters: {'learning_rate': 0.06180112728863135, 'max_depth': 6, 'n_estimators': 94, 'colsample_bytree': 0.7499399422632548, 'subsample': 0.9613364346198151}. Best is trial 23 with value: 0.35526315789473684.\n",
            "[I 2024-08-13 15:41:27,288] Trial 49 finished with value: 0.381578947368421 and parameters: {'learning_rate': 0.034176960466710066, 'max_depth': 7, 'n_estimators': 71, 'colsample_bytree': 0.8496655277347376, 'subsample': 0.8881704530442325}. Best is trial 23 with value: 0.35526315789473684.\n"
          ]
        },
        {
          "output_type": "stream",
          "name": "stdout",
          "text": [
            "Best hyperparameters:  {'learning_rate': 0.04561085018944083, 'max_depth': 5, 'n_estimators': 88, 'colsample_bytree': 0.8732983991725083, 'subsample': 0.9473000785742605}\n"
          ]
        }
      ]
    },
    {
      "cell_type": "markdown",
      "source": [
        "###building model with best parameters"
      ],
      "metadata": {
        "id": "D6ViawTxhjHN"
      }
    },
    {
      "cell_type": "code",
      "source": [
        "model = xgb.XGBClassifier(**study.best_params)\n",
        "\n",
        "model.fit(X_train, y_train)\n",
        "\n",
        "from sklearn.metrics import confusion_matrix, accuracy_score\n",
        "y_pred = model.predict(X_test)\n",
        "cm = confusion_matrix(y_test, y_pred)\n",
        "print(cm)\n",
        "accuracy_score(y_test, y_pred)"
      ],
      "metadata": {
        "colab": {
          "base_uri": "https://localhost:8080/"
        },
        "id": "ntDwhvpeVTCd",
        "outputId": "00ad0968-80c3-44f9-e98d-e02fbb4d7ab1"
      },
      "execution_count": 433,
      "outputs": [
        {
          "output_type": "stream",
          "name": "stdout",
          "text": [
            "[[40  1  0  0  0]\n",
            " [ 7  3  3  1  0]\n",
            " [ 3  2  3  1  0]\n",
            " [ 1  5  0  1  2]\n",
            " [ 0  0  1  0  2]]\n"
          ]
        },
        {
          "output_type": "execute_result",
          "data": {
            "text/plain": [
              "0.6447368421052632"
            ]
          },
          "metadata": {},
          "execution_count": 433
        }
      ]
    },
    {
      "cell_type": "markdown",
      "source": [
        "###test for overfitting"
      ],
      "metadata": {
        "id": "DRdewablCgTk"
      }
    },
    {
      "cell_type": "code",
      "source": [
        "y_train_pred = model.predict(X_train)\n",
        "cm = confusion_matrix(y_train, y_train_pred)\n",
        "print(cm)\n",
        "accuracy_score(y_train, y_train_pred)"
      ],
      "metadata": {
        "colab": {
          "base_uri": "https://localhost:8080/"
        },
        "id": "tYpbY7Zf-jjA",
        "outputId": "5381ce59-adcb-409d-b923-bc89d255a5d3"
      },
      "execution_count": 434,
      "outputs": [
        {
          "output_type": "stream",
          "name": "stdout",
          "text": [
            "[[123   0   0   0   0]\n",
            " [  2  39   0   0   0]\n",
            " [  0   0  26   0   1]\n",
            " [  0   0   0  26   0]\n",
            " [  0   0   0   0 123]]\n"
          ]
        },
        {
          "output_type": "execute_result",
          "data": {
            "text/plain": [
              "0.9911764705882353"
            ]
          },
          "metadata": {},
          "execution_count": 434
        }
      ]
    },
    {
      "cell_type": "markdown",
      "metadata": {
        "id": "0swRpGrWMzeS"
      },
      "source": [
        "#Training a random forest model"
      ]
    },
    {
      "cell_type": "code",
      "execution_count": 435,
      "metadata": {
        "colab": {
          "base_uri": "https://localhost:8080/",
          "height": 74
        },
        "id": "LH2n9oFOM2pS",
        "outputId": "d1ac3f77-63dc-414a-9fc7-2bb2af528eba"
      },
      "outputs": [
        {
          "output_type": "execute_result",
          "data": {
            "text/plain": [
              "RandomForestClassifier()"
            ],
            "text/html": [
              "<style>#sk-container-id-42 {color: black;}#sk-container-id-42 pre{padding: 0;}#sk-container-id-42 div.sk-toggleable {background-color: white;}#sk-container-id-42 label.sk-toggleable__label {cursor: pointer;display: block;width: 100%;margin-bottom: 0;padding: 0.3em;box-sizing: border-box;text-align: center;}#sk-container-id-42 label.sk-toggleable__label-arrow:before {content: \"▸\";float: left;margin-right: 0.25em;color: #696969;}#sk-container-id-42 label.sk-toggleable__label-arrow:hover:before {color: black;}#sk-container-id-42 div.sk-estimator:hover label.sk-toggleable__label-arrow:before {color: black;}#sk-container-id-42 div.sk-toggleable__content {max-height: 0;max-width: 0;overflow: hidden;text-align: left;background-color: #f0f8ff;}#sk-container-id-42 div.sk-toggleable__content pre {margin: 0.2em;color: black;border-radius: 0.25em;background-color: #f0f8ff;}#sk-container-id-42 input.sk-toggleable__control:checked~div.sk-toggleable__content {max-height: 200px;max-width: 100%;overflow: auto;}#sk-container-id-42 input.sk-toggleable__control:checked~label.sk-toggleable__label-arrow:before {content: \"▾\";}#sk-container-id-42 div.sk-estimator input.sk-toggleable__control:checked~label.sk-toggleable__label {background-color: #d4ebff;}#sk-container-id-42 div.sk-label input.sk-toggleable__control:checked~label.sk-toggleable__label {background-color: #d4ebff;}#sk-container-id-42 input.sk-hidden--visually {border: 0;clip: rect(1px 1px 1px 1px);clip: rect(1px, 1px, 1px, 1px);height: 1px;margin: -1px;overflow: hidden;padding: 0;position: absolute;width: 1px;}#sk-container-id-42 div.sk-estimator {font-family: monospace;background-color: #f0f8ff;border: 1px dotted black;border-radius: 0.25em;box-sizing: border-box;margin-bottom: 0.5em;}#sk-container-id-42 div.sk-estimator:hover {background-color: #d4ebff;}#sk-container-id-42 div.sk-parallel-item::after {content: \"\";width: 100%;border-bottom: 1px solid gray;flex-grow: 1;}#sk-container-id-42 div.sk-label:hover label.sk-toggleable__label {background-color: #d4ebff;}#sk-container-id-42 div.sk-serial::before {content: \"\";position: absolute;border-left: 1px solid gray;box-sizing: border-box;top: 0;bottom: 0;left: 50%;z-index: 0;}#sk-container-id-42 div.sk-serial {display: flex;flex-direction: column;align-items: center;background-color: white;padding-right: 0.2em;padding-left: 0.2em;position: relative;}#sk-container-id-42 div.sk-item {position: relative;z-index: 1;}#sk-container-id-42 div.sk-parallel {display: flex;align-items: stretch;justify-content: center;background-color: white;position: relative;}#sk-container-id-42 div.sk-item::before, #sk-container-id-42 div.sk-parallel-item::before {content: \"\";position: absolute;border-left: 1px solid gray;box-sizing: border-box;top: 0;bottom: 0;left: 50%;z-index: -1;}#sk-container-id-42 div.sk-parallel-item {display: flex;flex-direction: column;z-index: 1;position: relative;background-color: white;}#sk-container-id-42 div.sk-parallel-item:first-child::after {align-self: flex-end;width: 50%;}#sk-container-id-42 div.sk-parallel-item:last-child::after {align-self: flex-start;width: 50%;}#sk-container-id-42 div.sk-parallel-item:only-child::after {width: 0;}#sk-container-id-42 div.sk-dashed-wrapped {border: 1px dashed gray;margin: 0 0.4em 0.5em 0.4em;box-sizing: border-box;padding-bottom: 0.4em;background-color: white;}#sk-container-id-42 div.sk-label label {font-family: monospace;font-weight: bold;display: inline-block;line-height: 1.2em;}#sk-container-id-42 div.sk-label-container {text-align: center;}#sk-container-id-42 div.sk-container {/* jupyter's `normalize.less` sets `[hidden] { display: none; }` but bootstrap.min.css set `[hidden] { display: none !important; }` so we also need the `!important` here to be able to override the default hidden behavior on the sphinx rendered scikit-learn.org. See: https://github.com/scikit-learn/scikit-learn/issues/21755 */display: inline-block !important;position: relative;}#sk-container-id-42 div.sk-text-repr-fallback {display: none;}</style><div id=\"sk-container-id-42\" class=\"sk-top-container\"><div class=\"sk-text-repr-fallback\"><pre>RandomForestClassifier()</pre><b>In a Jupyter environment, please rerun this cell to show the HTML representation or trust the notebook. <br />On GitHub, the HTML representation is unable to render, please try loading this page with nbviewer.org.</b></div><div class=\"sk-container\" hidden><div class=\"sk-item\"><div class=\"sk-estimator sk-toggleable\"><input class=\"sk-toggleable__control sk-hidden--visually\" id=\"sk-estimator-id-42\" type=\"checkbox\" checked><label for=\"sk-estimator-id-42\" class=\"sk-toggleable__label sk-toggleable__label-arrow\">RandomForestClassifier</label><div class=\"sk-toggleable__content\"><pre>RandomForestClassifier()</pre></div></div></div></div></div>"
            ]
          },
          "metadata": {},
          "execution_count": 435
        }
      ],
      "source": [
        "from sklearn.ensemble import RandomForestClassifier\n",
        "classifier = RandomForestClassifier()\n",
        "classifier.fit(X_train, y_train)"
      ]
    },
    {
      "cell_type": "code",
      "execution_count": 436,
      "metadata": {
        "colab": {
          "base_uri": "https://localhost:8080/"
        },
        "id": "DCjia_2GM_pp",
        "outputId": "7ddbf956-d9c7-48b4-bee5-dc2a88dee4fb"
      },
      "outputs": [
        {
          "output_type": "stream",
          "name": "stdout",
          "text": [
            "[[39  2  0  0  0]\n",
            " [ 9  3  0  1  1]\n",
            " [ 3  4  1  0  1]\n",
            " [ 1  5  0  1  2]\n",
            " [ 0  0  0  1  2]]\n"
          ]
        },
        {
          "output_type": "execute_result",
          "data": {
            "text/plain": [
              "0.6052631578947368"
            ]
          },
          "metadata": {},
          "execution_count": 436
        }
      ],
      "source": [
        "from sklearn.metrics import confusion_matrix, accuracy_score\n",
        "y_pred = classifier.predict(X_test)\n",
        "cm = confusion_matrix(y_test, y_pred)\n",
        "print(cm)\n",
        "accuracy_score(y_test, y_pred)"
      ]
    },
    {
      "cell_type": "markdown",
      "source": [
        "###Get most important features"
      ],
      "metadata": {
        "id": "-PzIqWwhVpcz"
      }
    },
    {
      "cell_type": "code",
      "source": [
        "importances = classifier.feature_importances_\n",
        "df_importances = pd.Series(importances, index = df_X.columns)\n",
        "indices = np.argsort(importances)[::-1]\n",
        "features = df_X.columns\n",
        "features\n",
        "df_importances.plot(kind='barh', figsize=(12,8))"
      ],
      "metadata": {
        "colab": {
          "base_uri": "https://localhost:8080/",
          "height": 443
        },
        "id": "ZwODyocQVsSi",
        "outputId": "b2d62cd8-d92b-4842-a899-8c823219cc64"
      },
      "execution_count": 437,
      "outputs": [
        {
          "output_type": "execute_result",
          "data": {
            "text/plain": [
              "<Axes: >"
            ]
          },
          "metadata": {},
          "execution_count": 437
        },
        {
          "output_type": "display_data",
          "data": {
            "text/plain": [
              "<Figure size 1200x800 with 1 Axes>"
            ],
            "image/png": "[encoded data removed]"
          },
          "metadata": {}
        }
      ]
    },
    {
      "cell_type": "markdown",
      "metadata": {
        "id": "eECwPU-0ZRx-"
      },
      "source": [
        "###Grid search"
      ]
    },
    {
      "cell_type": "code",
      "execution_count": 438,
      "metadata": {
        "colab": {
          "base_uri": "https://localhost:8080/"
        },
        "id": "YyykS25kZTQR",
        "outputId": "d60b3f60-f6cc-4fdd-f96b-388e2726c7fa"
      },
      "outputs": [
        {
          "output_type": "stream",
          "name": "stdout",
          "text": [
            "Fitting 3 folds for each of 216 candidates, totalling 648 fits\n",
            "Best Accuracy: 72.94 %\n",
            "Best Parameters: {'criterion': 'entropy', 'max_depth': None, 'max_features': 'sqrt', 'n_estimators': 100}\n"
          ]
        }
      ],
      "source": [
        "from sklearn.model_selection import GridSearchCV\n",
        "parameters = {\n",
        "    'n_estimators': [10, 50, 100, 200],\n",
        "    'criterion': ['gini', 'entropy', 'log_loss'],\n",
        "    'max_depth': [None, 10, 20, 30, 40, 50],\n",
        "    'max_features':['sqrt', 'log2', None]\n",
        "}\n",
        "grid_search = GridSearchCV(estimator = classifier,\n",
        "                           param_grid = parameters,\n",
        "                           scoring = 'accuracy',\n",
        "                           cv = 3,\n",
        "                           n_jobs = -1,\n",
        "                           verbose = 2)\n",
        "grid_search.fit(X_train, y_train)\n",
        "best_accuracy = grid_search.best_score_\n",
        "best_parameters = grid_search.best_params_\n",
        "best_base_classifier = grid_search.best_estimator_\n",
        "\n",
        "print(\"Best Accuracy: {:.2f} %\".format(best_accuracy*100))\n",
        "print(\"Best Parameters:\", best_parameters)"
      ]
    },
    {
      "cell_type": "markdown",
      "source": [
        "###building model with best parameters"
      ],
      "metadata": {
        "id": "WV1nH3Pqmgx5"
      }
    },
    {
      "cell_type": "code",
      "source": [
        "best_base_classifier.fit(X_train, y_train)\n",
        "\n",
        "from sklearn.metrics import confusion_matrix, accuracy_score\n",
        "y_pred = best_base_classifier.predict(X_test)\n",
        "cm = confusion_matrix(y_test, y_pred)\n",
        "print(cm)\n",
        "accuracy_score(y_test, y_pred)"
      ],
      "metadata": {
        "colab": {
          "base_uri": "https://localhost:8080/"
        },
        "outputId": "7ad2af6c-7b2b-4d3d-936a-456f557a71ad",
        "id": "jt0RdWdVmgyA"
      },
      "execution_count": 439,
      "outputs": [
        {
          "output_type": "stream",
          "name": "stdout",
          "text": [
            "[[39  2  0  0  0]\n",
            " [ 8  4  0  1  1]\n",
            " [ 5  1  2  1  0]\n",
            " [ 2  3  1  1  2]\n",
            " [ 0  0  0  1  2]]\n"
          ]
        },
        {
          "output_type": "execute_result",
          "data": {
            "text/plain": [
              "0.631578947368421"
            ]
          },
          "metadata": {},
          "execution_count": 439
        }
      ]
    },
    {
      "cell_type": "markdown",
      "metadata": {
        "id": "SKlRtowgNh1m"
      },
      "source": [
        "#Training a svm model"
      ]
    },
    {
      "cell_type": "code",
      "execution_count": 440,
      "metadata": {
        "colab": {
          "base_uri": "https://localhost:8080/",
          "height": 0
        },
        "id": "tJiCezsmNkf8",
        "outputId": "b313c2e7-63ac-43eb-ee90-60d1e67fa860"
      },
      "outputs": [
        {
          "output_type": "execute_result",
          "data": {
            "text/plain": [
              "SVC(kernel='linear', random_state=110)"
            ],
            "text/html": [
              "<style>#sk-container-id-43 {color: black;}#sk-container-id-43 pre{padding: 0;}#sk-container-id-43 div.sk-toggleable {background-color: white;}#sk-container-id-43 label.sk-toggleable__label {cursor: pointer;display: block;width: 100%;margin-bottom: 0;padding: 0.3em;box-sizing: border-box;text-align: center;}#sk-container-id-43 label.sk-toggleable__label-arrow:before {content: \"▸\";float: left;margin-right: 0.25em;color: #696969;}#sk-container-id-43 label.sk-toggleable__label-arrow:hover:before {color: black;}#sk-container-id-43 div.sk-estimator:hover label.sk-toggleable__label-arrow:before {color: black;}#sk-container-id-43 div.sk-toggleable__content {max-height: 0;max-width: 0;overflow: hidden;text-align: left;background-color: #f0f8ff;}#sk-container-id-43 div.sk-toggleable__content pre {margin: 0.2em;color: black;border-radius: 0.25em;background-color: #f0f8ff;}#sk-container-id-43 input.sk-toggleable__control:checked~div.sk-toggleable__content {max-height: 200px;max-width: 100%;overflow: auto;}#sk-container-id-43 input.sk-toggleable__control:checked~label.sk-toggleable__label-arrow:before {content: \"▾\";}#sk-container-id-43 div.sk-estimator input.sk-toggleable__control:checked~label.sk-toggleable__label {background-color: #d4ebff;}#sk-container-id-43 div.sk-label input.sk-toggleable__control:checked~label.sk-toggleable__label {background-color: #d4ebff;}#sk-container-id-43 input.sk-hidden--visually {border: 0;clip: rect(1px 1px 1px 1px);clip: rect(1px, 1px, 1px, 1px);height: 1px;margin: -1px;overflow: hidden;padding: 0;position: absolute;width: 1px;}#sk-container-id-43 div.sk-estimator {font-family: monospace;background-color: #f0f8ff;border: 1px dotted black;border-radius: 0.25em;box-sizing: border-box;margin-bottom: 0.5em;}#sk-container-id-43 div.sk-estimator:hover {background-color: #d4ebff;}#sk-container-id-43 div.sk-parallel-item::after {content: \"\";width: 100%;border-bottom: 1px solid gray;flex-grow: 1;}#sk-container-id-43 div.sk-label:hover label.sk-toggleable__label {background-color: #d4ebff;}#sk-container-id-43 div.sk-serial::before {content: \"\";position: absolute;border-left: 1px solid gray;box-sizing: border-box;top: 0;bottom: 0;left: 50%;z-index: 0;}#sk-container-id-43 div.sk-serial {display: flex;flex-direction: column;align-items: center;background-color: white;padding-right: 0.2em;padding-left: 0.2em;position: relative;}#sk-container-id-43 div.sk-item {position: relative;z-index: 1;}#sk-container-id-43 div.sk-parallel {display: flex;align-items: stretch;justify-content: center;background-color: white;position: relative;}#sk-container-id-43 div.sk-item::before, #sk-container-id-43 div.sk-parallel-item::before {content: \"\";position: absolute;border-left: 1px solid gray;box-sizing: border-box;top: 0;bottom: 0;left: 50%;z-index: -1;}#sk-container-id-43 div.sk-parallel-item {display: flex;flex-direction: column;z-index: 1;position: relative;background-color: white;}#sk-container-id-43 div.sk-parallel-item:first-child::after {align-self: flex-end;width: 50%;}#sk-container-id-43 div.sk-parallel-item:last-child::after {align-self: flex-start;width: 50%;}#sk-container-id-43 div.sk-parallel-item:only-child::after {width: 0;}#sk-container-id-43 div.sk-dashed-wrapped {border: 1px dashed gray;margin: 0 0.4em 0.5em 0.4em;box-sizing: border-box;padding-bottom: 0.4em;background-color: white;}#sk-container-id-43 div.sk-label label {font-family: monospace;font-weight: bold;display: inline-block;line-height: 1.2em;}#sk-container-id-43 div.sk-label-container {text-align: center;}#sk-container-id-43 div.sk-container {/* jupyter's `normalize.less` sets `[hidden] { display: none; }` but bootstrap.min.css set `[hidden] { display: none !important; }` so we also need the `!important` here to be able to override the default hidden behavior on the sphinx rendered scikit-learn.org. See: https://github.com/scikit-learn/scikit-learn/issues/21755 */display: inline-block !important;position: relative;}#sk-container-id-43 div.sk-text-repr-fallback {display: none;}</style><div id=\"sk-container-id-43\" class=\"sk-top-container\"><div class=\"sk-text-repr-fallback\"><pre>SVC(kernel=&#x27;linear&#x27;, random_state=110)</pre><b>In a Jupyter environment, please rerun this cell to show the HTML representation or trust the notebook. <br />On GitHub, the HTML representation is unable to render, please try loading this page with nbviewer.org.</b></div><div class=\"sk-container\" hidden><div class=\"sk-item\"><div class=\"sk-estimator sk-toggleable\"><input class=\"sk-toggleable__control sk-hidden--visually\" id=\"sk-estimator-id-43\" type=\"checkbox\" checked><label for=\"sk-estimator-id-43\" class=\"sk-toggleable__label sk-toggleable__label-arrow\">SVC</label><div class=\"sk-toggleable__content\"><pre>SVC(kernel=&#x27;linear&#x27;, random_state=110)</pre></div></div></div></div></div>"
            ]
          },
          "metadata": {},
          "execution_count": 440
        }
      ],
      "source": [
        "from sklearn.svm import SVC\n",
        "classifier = SVC(kernel = 'linear', random_state = 110)\n",
        "classifier.fit(X_train, y_train)"
      ]
    },
    {
      "cell_type": "code",
      "source": [
        "y_pred = classifier.predict(X_test)\n",
        "\n",
        "cm = confusion_matrix(y_test, y_pred)\n",
        "print(\"Confusion Matrix:\")\n",
        "print(cm)\n",
        "print(\"Accuracy Score:\")\n",
        "print(accuracy_score(y_test, y_pred))"
      ],
      "metadata": {
        "colab": {
          "base_uri": "https://localhost:8080/"
        },
        "id": "r31jj3IHWi-c",
        "outputId": "cb9cd81f-733d-4dac-b745-28b97db5384a"
      },
      "execution_count": 441,
      "outputs": [
        {
          "output_type": "stream",
          "name": "stdout",
          "text": [
            "Confusion Matrix:\n",
            "[[39  2  0  0  0]\n",
            " [ 7  2  0  1  4]\n",
            " [ 1  1  0  0  7]\n",
            " [ 1  1  2  0  5]\n",
            " [ 0  1  0  0  2]]\n",
            "Accuracy Score:\n",
            "0.5657894736842105\n"
          ]
        }
      ]
    },
    {
      "cell_type": "markdown",
      "source": [
        "###test for overfitting"
      ],
      "metadata": {
        "id": "KbJ_s6ezTF8E"
      }
    },
    {
      "cell_type": "code",
      "source": [
        "y_train_pred = classifier.predict(X_train)\n",
        "cm = confusion_matrix(y_train, y_train_pred)\n",
        "print(cm)\n",
        "accuracy_score(y_train, y_train_pred)\n"
      ],
      "metadata": {
        "colab": {
          "base_uri": "https://localhost:8080/"
        },
        "id": "7dMiqfmqSuit",
        "outputId": "66b78ea2-685b-4332-b6d4-02abf8df3fb6"
      },
      "execution_count": 442,
      "outputs": [
        {
          "output_type": "stream",
          "name": "stdout",
          "text": [
            "[[113   1   0   0   9]\n",
            " [ 19   8   0   0  14]\n",
            " [  5   2   3   2  15]\n",
            " [  2   4   1   1  18]\n",
            " [  0   0   0   0 123]]\n"
          ]
        },
        {
          "output_type": "execute_result",
          "data": {
            "text/plain": [
              "0.7294117647058823"
            ]
          },
          "metadata": {},
          "execution_count": 442
        }
      ]
    },
    {
      "cell_type": "markdown",
      "source": [
        "###Grid search"
      ],
      "metadata": {
        "id": "7HdiNcxICoFk"
      }
    },
    {
      "cell_type": "code",
      "execution_count": 443,
      "metadata": {
        "colab": {
          "base_uri": "https://localhost:8080/"
        },
        "id": "Im4vrLo1Uxh9",
        "outputId": "4c4d7ae1-8431-4834-9d5d-6db909e7ba89"
      },
      "outputs": [
        {
          "output_type": "stream",
          "name": "stdout",
          "text": [
            "Fitting 3 folds for each of 24 candidates, totalling 72 fits\n",
            "Best Accuracy: 70.00 %\n",
            "Best Parameters: {'C': 1, 'gamma': 0, 'kernel': 'linear'}\n"
          ]
        }
      ],
      "source": [
        "from sklearn.model_selection import GridSearchCV\n",
        "parameters = {\n",
        "    'C': [0.25, 0.5, 0.75, 1],\n",
        "    'kernel': ['linear'],\n",
        "    'gamma': [0,0.1, 0.5, 1, 2, 5]\n",
        "}\n",
        "\n",
        "grid_search = GridSearchCV(estimator = classifier,param_grid = parameters,scoring = 'accuracy',cv = 3,n_jobs = -1,verbose = 2)\n",
        "grid_search.fit(X_train, y_train)\n",
        "best_accuracy = grid_search.best_score_\n",
        "best_parameters = grid_search.best_params_\n",
        "best_base_classifier = grid_search.best_estimator_\n",
        "\n",
        "print(\"Best Accuracy: {:.2f} %\".format(best_accuracy*100))\n",
        "print(\"Best Parameters:\", best_parameters)\n"
      ]
    },
    {
      "cell_type": "code",
      "source": [
        "y_pred = best_base_classifier.predict(X_test)\n",
        "\n",
        "cm = confusion_matrix(y_test, y_pred)\n",
        "print(\"Confusion Matrix:\")\n",
        "print(cm)\n",
        "print(\"Accuracy Score:\")\n",
        "print(accuracy_score(y_test, y_pred))"
      ],
      "metadata": {
        "colab": {
          "base_uri": "https://localhost:8080/"
        },
        "id": "qoTVjSUgPcGI",
        "outputId": "3caba567-4249-491c-921f-84f98f727ff7"
      },
      "execution_count": 444,
      "outputs": [
        {
          "output_type": "stream",
          "name": "stdout",
          "text": [
            "Confusion Matrix:\n",
            "[[39  2  0  0  0]\n",
            " [ 7  2  0  1  4]\n",
            " [ 1  1  0  0  7]\n",
            " [ 1  1  2  0  5]\n",
            " [ 0  1  0  0  2]]\n",
            "Accuracy Score:\n",
            "0.5657894736842105\n"
          ]
        }
      ]
    },
    {
      "cell_type": "markdown",
      "metadata": {
        "id": "YL1g49RdUttP"
      },
      "source": [
        "#model bagging classifier\n"
      ]
    },
    {
      "cell_type": "code",
      "source": [
        "from sklearn.ensemble import BaggingClassifier\n",
        "classifier = BaggingClassifier(estimator = LogisticRegression())\n",
        "classifier.fit(X_train, y_train)"
      ],
      "metadata": {
        "colab": {
          "base_uri": "https://localhost:8080/",
          "height": 115
        },
        "id": "Eq3wOxczMVF2",
        "outputId": "6d1c1398-c23e-47f3-e106-abf802e572cf"
      },
      "execution_count": 455,
      "outputs": [
        {
          "output_type": "execute_result",
          "data": {
            "text/plain": [
              "BaggingClassifier(estimator=LogisticRegression())"
            ],
            "text/html": [
              "<style>#sk-container-id-50 {color: black;}#sk-container-id-50 pre{padding: 0;}#sk-container-id-50 div.sk-toggleable {background-color: white;}#sk-container-id-50 label.sk-toggleable__label {cursor: pointer;display: block;width: 100%;margin-bottom: 0;padding: 0.3em;box-sizing: border-box;text-align: center;}#sk-container-id-50 label.sk-toggleable__label-arrow:before {content: \"▸\";float: left;margin-right: 0.25em;color: #696969;}#sk-container-id-50 label.sk-toggleable__label-arrow:hover:before {color: black;}#sk-container-id-50 div.sk-estimator:hover label.sk-toggleable__label-arrow:before {color: black;}#sk-container-id-50 div.sk-toggleable__content {max-height: 0;max-width: 0;overflow: hidden;text-align: left;background-color: #f0f8ff;}#sk-container-id-50 div.sk-toggleable__content pre {margin: 0.2em;color: black;border-radius: 0.25em;background-color: #f0f8ff;}#sk-container-id-50 input.sk-toggleable__control:checked~div.sk-toggleable__content {max-height: 200px;max-width: 100%;overflow: auto;}#sk-container-id-50 input.sk-toggleable__control:checked~label.sk-toggleable__label-arrow:before {content: \"▾\";}#sk-container-id-50 div.sk-estimator input.sk-toggleable__control:checked~label.sk-toggleable__label {background-color: #d4ebff;}#sk-container-id-50 div.sk-label input.sk-toggleable__control:checked~label.sk-toggleable__label {background-color: #d4ebff;}#sk-container-id-50 input.sk-hidden--visually {border: 0;clip: rect(1px 1px 1px 1px);clip: rect(1px, 1px, 1px, 1px);height: 1px;margin: -1px;overflow: hidden;padding: 0;position: absolute;width: 1px;}#sk-container-id-50 div.sk-estimator {font-family: monospace;background-color: #f0f8ff;border: 1px dotted black;border-radius: 0.25em;box-sizing: border-box;margin-bottom: 0.5em;}#sk-container-id-50 div.sk-estimator:hover {background-color: #d4ebff;}#sk-container-id-50 div.sk-parallel-item::after {content: \"\";width: 100%;border-bottom: 1px solid gray;flex-grow: 1;}#sk-container-id-50 div.sk-label:hover label.sk-toggleable__label {background-color: #d4ebff;}#sk-container-id-50 div.sk-serial::before {content: \"\";position: absolute;border-left: 1px solid gray;box-sizing: border-box;top: 0;bottom: 0;left: 50%;z-index: 0;}#sk-container-id-50 div.sk-serial {display: flex;flex-direction: column;align-items: center;background-color: white;padding-right: 0.2em;padding-left: 0.2em;position: relative;}#sk-container-id-50 div.sk-item {position: relative;z-index: 1;}#sk-container-id-50 div.sk-parallel {display: flex;align-items: stretch;justify-content: center;background-color: white;position: relative;}#sk-container-id-50 div.sk-item::before, #sk-container-id-50 div.sk-parallel-item::before {content: \"\";position: absolute;border-left: 1px solid gray;box-sizing: border-box;top: 0;bottom: 0;left: 50%;z-index: -1;}#sk-container-id-50 div.sk-parallel-item {display: flex;flex-direction: column;z-index: 1;position: relative;background-color: white;}#sk-container-id-50 div.sk-parallel-item:first-child::after {align-self: flex-end;width: 50%;}#sk-container-id-50 div.sk-parallel-item:last-child::after {align-self: flex-start;width: 50%;}#sk-container-id-50 div.sk-parallel-item:only-child::after {width: 0;}#sk-container-id-50 div.sk-dashed-wrapped {border: 1px dashed gray;margin: 0 0.4em 0.5em 0.4em;box-sizing: border-box;padding-bottom: 0.4em;background-color: white;}#sk-container-id-50 div.sk-label label {font-family: monospace;font-weight: bold;display: inline-block;line-height: 1.2em;}#sk-container-id-50 div.sk-label-container {text-align: center;}#sk-container-id-50 div.sk-container {/* jupyter's `normalize.less` sets `[hidden] { display: none; }` but bootstrap.min.css set `[hidden] { display: none !important; }` so we also need the `!important` here to be able to override the default hidden behavior on the sphinx rendered scikit-learn.org. See: https://github.com/scikit-learn/scikit-learn/issues/21755 */display: inline-block !important;position: relative;}#sk-container-id-50 div.sk-text-repr-fallback {display: none;}</style><div id=\"sk-container-id-50\" class=\"sk-top-container\"><div class=\"sk-text-repr-fallback\"><pre>BaggingClassifier(estimator=LogisticRegression())</pre><b>In a Jupyter environment, please rerun this cell to show the HTML representation or trust the notebook. <br />On GitHub, the HTML representation is unable to render, please try loading this page with nbviewer.org.</b></div><div class=\"sk-container\" hidden><div class=\"sk-item sk-dashed-wrapped\"><div class=\"sk-label-container\"><div class=\"sk-label sk-toggleable\"><input class=\"sk-toggleable__control sk-hidden--visually\" id=\"sk-estimator-id-52\" type=\"checkbox\" ><label for=\"sk-estimator-id-52\" class=\"sk-toggleable__label sk-toggleable__label-arrow\">BaggingClassifier</label><div class=\"sk-toggleable__content\"><pre>BaggingClassifier(estimator=LogisticRegression())</pre></div></div></div><div class=\"sk-parallel\"><div class=\"sk-parallel-item\"><div class=\"sk-item\"><div class=\"sk-label-container\"><div class=\"sk-label sk-toggleable\"><input class=\"sk-toggleable__control sk-hidden--visually\" id=\"sk-estimator-id-53\" type=\"checkbox\" ><label for=\"sk-estimator-id-53\" class=\"sk-toggleable__label sk-toggleable__label-arrow\">estimator: LogisticRegression</label><div class=\"sk-toggleable__content\"><pre>LogisticRegression()</pre></div></div></div><div class=\"sk-serial\"><div class=\"sk-item\"><div class=\"sk-estimator sk-toggleable\"><input class=\"sk-toggleable__control sk-hidden--visually\" id=\"sk-estimator-id-54\" type=\"checkbox\" ><label for=\"sk-estimator-id-54\" class=\"sk-toggleable__label sk-toggleable__label-arrow\">LogisticRegression</label><div class=\"sk-toggleable__content\"><pre>LogisticRegression()</pre></div></div></div></div></div></div></div></div></div></div>"
            ]
          },
          "metadata": {},
          "execution_count": 455
        }
      ]
    },
    {
      "cell_type": "code",
      "source": [
        "from sklearn.metrics import accuracy_score, confusion_matrix\n",
        "y_pred = classifier.predict(X_test)\n",
        "cm = confusion_matrix(y_test, y_pred)\n",
        "sns.heatmap(cm, annot = True)\n",
        "print(accuracy_score(y_test, y_pred))"
      ],
      "metadata": {
        "colab": {
          "base_uri": "https://localhost:8080/",
          "height": 448
        },
        "id": "5K_ceLykMjvL",
        "outputId": "532fd8b6-e1ce-41d0-b97b-d693baf04568"
      },
      "execution_count": 456,
      "outputs": [
        {
          "output_type": "stream",
          "name": "stdout",
          "text": [
            "0.5526315789473685\n"
          ]
        },
        {
          "output_type": "display_data",
          "data": {
            "text/plain": [
              "<Figure size 640x480 with 2 Axes>"
            ],
            "image/png": "[encoded data removed]"
          },
          "metadata": {}
        }
      ]
    },
    {
      "cell_type": "code",
      "execution_count": 457,
      "metadata": {
        "id": "4h_U3ofl893V",
        "colab": {
          "base_uri": "https://localhost:8080/"
        },
        "outputId": "ccdd1524-33fc-4d45-c9b0-a62dcfdfc726"
      },
      "outputs": [
        {
          "output_type": "stream",
          "name": "stdout",
          "text": [
            "Fitting 5 folds for each of 12 candidates, totalling 60 fits\n"
          ]
        },
        {
          "output_type": "stream",
          "name": "stderr",
          "text": [
            "/usr/local/lib/python3.10/dist-packages/joblib/externals/loky/backend/fork_exec.py:38: RuntimeWarning: os.fork() was called. os.fork() is incompatible with multithreaded code, and JAX is multithreaded, so this will likely lead to a deadlock.\n",
            "  pid = os.fork()\n"
          ]
        },
        {
          "output_type": "stream",
          "name": "stdout",
          "text": [
            "Best Accuracy: 66.76 %\n",
            "Best Parameters: {'bootstrap': True, 'max_features': 1.0, 'max_samples': 1.0, 'n_estimators': 50}\n"
          ]
        }
      ],
      "source": [
        "from sklearn.model_selection import GridSearchCV\n",
        "\n",
        "param_grid = {\n",
        "    'n_estimators': [50, 100, 150],\n",
        "    'max_samples': [0.5, 1.0],\n",
        "    'max_features': [0.5, 1.0],\n",
        "    'bootstrap': [True]\n",
        "}\n",
        "\n",
        "grid_search = GridSearchCV(estimator=classifier,\n",
        "                           param_grid=param_grid,\n",
        "                           cv=5,\n",
        "                           n_jobs=-1,\n",
        "                           scoring='accuracy',\n",
        "                           verbose = 2)\n",
        "\n",
        "grid_search.fit(X_train, y_train)\n",
        "best_accuracy = grid_search.best_score_\n",
        "best_parameters = grid_search.best_params_\n",
        "best_base_classifier = grid_search.best_estimator_\n",
        "\n",
        "print(\"Best Accuracy: {:.2f} %\".format(best_accuracy*100))\n",
        "print(\"Best Parameters:\", best_parameters)\n"
      ]
    },
    {
      "cell_type": "markdown",
      "source": [
        "###building model with best parameters"
      ],
      "metadata": {
        "id": "Rw5HrZ3iNdJQ"
      }
    },
    {
      "cell_type": "code",
      "source": [
        "best_base_classifier.fit(X_train, y_train)\n",
        "\n",
        "from sklearn.metrics import confusion_matrix, accuracy_score\n",
        "y_pred = best_base_classifier.predict(X_test)\n",
        "cm = confusion_matrix(y_test, y_pred)\n",
        "print(cm)\n",
        "accuracy_score(y_test, y_pred)"
      ],
      "metadata": {
        "colab": {
          "base_uri": "https://localhost:8080/"
        },
        "outputId": "dc2b25ae-5238-439b-eada-31d3067f50e5",
        "id": "sFkSt4fHNdJf"
      },
      "execution_count": 458,
      "outputs": [
        {
          "output_type": "stream",
          "name": "stdout",
          "text": [
            "[[38  2  0  0  1]\n",
            " [ 7  2  0  1  4]\n",
            " [ 2  2  0  0  5]\n",
            " [ 0  1  1  1  6]\n",
            " [ 0  0  1  0  2]]\n"
          ]
        },
        {
          "output_type": "execute_result",
          "data": {
            "text/plain": [
              "0.5657894736842105"
            ]
          },
          "metadata": {},
          "execution_count": 458
        }
      ]
    },
    {
      "cell_type": "markdown",
      "metadata": {
        "id": "Y6FemTHtelLO"
      },
      "source": [
        "# Training naive bayes model"
      ]
    },
    {
      "cell_type": "code",
      "execution_count": 459,
      "metadata": {
        "id": "f3vE_0eFeoUh",
        "colab": {
          "base_uri": "https://localhost:8080/",
          "height": 0
        },
        "outputId": "d379198b-b6cc-46eb-83ca-bdd12db30a16"
      },
      "outputs": [
        {
          "output_type": "execute_result",
          "data": {
            "text/plain": [
              "GaussianNB()"
            ],
            "text/html": [
              "<style>#sk-container-id-51 {color: black;}#sk-container-id-51 pre{padding: 0;}#sk-container-id-51 div.sk-toggleable {background-color: white;}#sk-container-id-51 label.sk-toggleable__label {cursor: pointer;display: block;width: 100%;margin-bottom: 0;padding: 0.3em;box-sizing: border-box;text-align: center;}#sk-container-id-51 label.sk-toggleable__label-arrow:before {content: \"▸\";float: left;margin-right: 0.25em;color: #696969;}#sk-container-id-51 label.sk-toggleable__label-arrow:hover:before {color: black;}#sk-container-id-51 div.sk-estimator:hover label.sk-toggleable__label-arrow:before {color: black;}#sk-container-id-51 div.sk-toggleable__content {max-height: 0;max-width: 0;overflow: hidden;text-align: left;background-color: #f0f8ff;}#sk-container-id-51 div.sk-toggleable__content pre {margin: 0.2em;color: black;border-radius: 0.25em;background-color: #f0f8ff;}#sk-container-id-51 input.sk-toggleable__control:checked~div.sk-toggleable__content {max-height: 200px;max-width: 100%;overflow: auto;}#sk-container-id-51 input.sk-toggleable__control:checked~label.sk-toggleable__label-arrow:before {content: \"▾\";}#sk-container-id-51 div.sk-estimator input.sk-toggleable__control:checked~label.sk-toggleable__label {background-color: #d4ebff;}#sk-container-id-51 div.sk-label input.sk-toggleable__control:checked~label.sk-toggleable__label {background-color: #d4ebff;}#sk-container-id-51 input.sk-hidden--visually {border: 0;clip: rect(1px 1px 1px 1px);clip: rect(1px, 1px, 1px, 1px);height: 1px;margin: -1px;overflow: hidden;padding: 0;position: absolute;width: 1px;}#sk-container-id-51 div.sk-estimator {font-family: monospace;background-color: #f0f8ff;border: 1px dotted black;border-radius: 0.25em;box-sizing: border-box;margin-bottom: 0.5em;}#sk-container-id-51 div.sk-estimator:hover {background-color: #d4ebff;}#sk-container-id-51 div.sk-parallel-item::after {content: \"\";width: 100%;border-bottom: 1px solid gray;flex-grow: 1;}#sk-container-id-51 div.sk-label:hover label.sk-toggleable__label {background-color: #d4ebff;}#sk-container-id-51 div.sk-serial::before {content: \"\";position: absolute;border-left: 1px solid gray;box-sizing: border-box;top: 0;bottom: 0;left: 50%;z-index: 0;}#sk-container-id-51 div.sk-serial {display: flex;flex-direction: column;align-items: center;background-color: white;padding-right: 0.2em;padding-left: 0.2em;position: relative;}#sk-container-id-51 div.sk-item {position: relative;z-index: 1;}#sk-container-id-51 div.sk-parallel {display: flex;align-items: stretch;justify-content: center;background-color: white;position: relative;}#sk-container-id-51 div.sk-item::before, #sk-container-id-51 div.sk-parallel-item::before {content: \"\";position: absolute;border-left: 1px solid gray;box-sizing: border-box;top: 0;bottom: 0;left: 50%;z-index: -1;}#sk-container-id-51 div.sk-parallel-item {display: flex;flex-direction: column;z-index: 1;position: relative;background-color: white;}#sk-container-id-51 div.sk-parallel-item:first-child::after {align-self: flex-end;width: 50%;}#sk-container-id-51 div.sk-parallel-item:last-child::after {align-self: flex-start;width: 50%;}#sk-container-id-51 div.sk-parallel-item:only-child::after {width: 0;}#sk-container-id-51 div.sk-dashed-wrapped {border: 1px dashed gray;margin: 0 0.4em 0.5em 0.4em;box-sizing: border-box;padding-bottom: 0.4em;background-color: white;}#sk-container-id-51 div.sk-label label {font-family: monospace;font-weight: bold;display: inline-block;line-height: 1.2em;}#sk-container-id-51 div.sk-label-container {text-align: center;}#sk-container-id-51 div.sk-container {/* jupyter's `normalize.less` sets `[hidden] { display: none; }` but bootstrap.min.css set `[hidden] { display: none !important; }` so we also need the `!important` here to be able to override the default hidden behavior on the sphinx rendered scikit-learn.org. See: https://github.com/scikit-learn/scikit-learn/issues/21755 */display: inline-block !important;position: relative;}#sk-container-id-51 div.sk-text-repr-fallback {display: none;}</style><div id=\"sk-container-id-51\" class=\"sk-top-container\"><div class=\"sk-text-repr-fallback\"><pre>GaussianNB()</pre><b>In a Jupyter environment, please rerun this cell to show the HTML representation or trust the notebook. <br />On GitHub, the HTML representation is unable to render, please try loading this page with nbviewer.org.</b></div><div class=\"sk-container\" hidden><div class=\"sk-item\"><div class=\"sk-estimator sk-toggleable\"><input class=\"sk-toggleable__control sk-hidden--visually\" id=\"sk-estimator-id-55\" type=\"checkbox\" checked><label for=\"sk-estimator-id-55\" class=\"sk-toggleable__label sk-toggleable__label-arrow\">GaussianNB</label><div class=\"sk-toggleable__content\"><pre>GaussianNB()</pre></div></div></div></div></div>"
            ]
          },
          "metadata": {},
          "execution_count": 459
        }
      ],
      "source": [
        "from sklearn.naive_bayes import GaussianNB\n",
        "classifier = GaussianNB()\n",
        "classifier.fit(X_train, y_train)"
      ]
    },
    {
      "cell_type": "code",
      "execution_count": 460,
      "metadata": {
        "id": "DIMZs72tewsT",
        "colab": {
          "base_uri": "https://localhost:8080/"
        },
        "outputId": "814115f4-2bbc-4a35-c794-2ea6c4f138cf"
      },
      "outputs": [
        {
          "output_type": "stream",
          "name": "stdout",
          "text": [
            "[[36  4  1  0  0]\n",
            " [ 5  5  3  0  1]\n",
            " [ 0  5  1  1  2]\n",
            " [ 0  2  3  0  4]\n",
            " [ 0  0  1  0  2]]\n"
          ]
        },
        {
          "output_type": "execute_result",
          "data": {
            "text/plain": [
              "0.5789473684210527"
            ]
          },
          "metadata": {},
          "execution_count": 460
        }
      ],
      "source": [
        "from sklearn.metrics import confusion_matrix, accuracy_score\n",
        "y_pred = classifier.predict(X_test)\n",
        "cm = confusion_matrix(y_test, y_pred)\n",
        "print(cm)\n",
        "accuracy_score(y_test, y_pred)"
      ]
    },
    {
      "cell_type": "markdown",
      "source": [
        "###test for overfitting"
      ],
      "metadata": {
        "id": "qWbFs5zVS-pa"
      }
    },
    {
      "cell_type": "code",
      "source": [
        "y_train_pred = classifier.predict(X_train)\n",
        "cm = confusion_matrix(y_train, y_train_pred)\n",
        "print(cm)\n",
        "accuracy_score(y_train, y_train_pred)\n"
      ],
      "metadata": {
        "id": "wNYVbG8US3KI",
        "colab": {
          "base_uri": "https://localhost:8080/"
        },
        "outputId": "ace37a55-0ac0-4e2e-fc7b-3ce2c1614b24"
      },
      "execution_count": 461,
      "outputs": [
        {
          "output_type": "stream",
          "name": "stdout",
          "text": [
            "[[105  10   3   0   5]\n",
            " [ 16  11   5   1   8]\n",
            " [  2   3   5   3  14]\n",
            " [  2   3   7   8   6]\n",
            " [  1  12   1   1 108]]\n"
          ]
        },
        {
          "output_type": "execute_result",
          "data": {
            "text/plain": [
              "0.6970588235294117"
            ]
          },
          "metadata": {},
          "execution_count": 461
        }
      ]
    },
    {
      "cell_type": "markdown",
      "metadata": {
        "id": "-xS2dRwlCD_D"
      },
      "source": [
        "#Training extra trees model"
      ]
    },
    {
      "cell_type": "code",
      "execution_count": 462,
      "metadata": {
        "id": "p6WAOOYRCMJq",
        "colab": {
          "base_uri": "https://localhost:8080/",
          "height": 0
        },
        "outputId": "449b3146-7597-4f3a-88b2-65b79dd31b3d"
      },
      "outputs": [
        {
          "output_type": "execute_result",
          "data": {
            "text/plain": [
              "ExtraTreesClassifier(random_state=0)"
            ],
            "text/html": [
              "<style>#sk-container-id-52 {color: black;}#sk-container-id-52 pre{padding: 0;}#sk-container-id-52 div.sk-toggleable {background-color: white;}#sk-container-id-52 label.sk-toggleable__label {cursor: pointer;display: block;width: 100%;margin-bottom: 0;padding: 0.3em;box-sizing: border-box;text-align: center;}#sk-container-id-52 label.sk-toggleable__label-arrow:before {content: \"▸\";float: left;margin-right: 0.25em;color: #696969;}#sk-container-id-52 label.sk-toggleable__label-arrow:hover:before {color: black;}#sk-container-id-52 div.sk-estimator:hover label.sk-toggleable__label-arrow:before {color: black;}#sk-container-id-52 div.sk-toggleable__content {max-height: 0;max-width: 0;overflow: hidden;text-align: left;background-color: #f0f8ff;}#sk-container-id-52 div.sk-toggleable__content pre {margin: 0.2em;color: black;border-radius: 0.25em;background-color: #f0f8ff;}#sk-container-id-52 input.sk-toggleable__control:checked~div.sk-toggleable__content {max-height: 200px;max-width: 100%;overflow: auto;}#sk-container-id-52 input.sk-toggleable__control:checked~label.sk-toggleable__label-arrow:before {content: \"▾\";}#sk-container-id-52 div.sk-estimator input.sk-toggleable__control:checked~label.sk-toggleable__label {background-color: #d4ebff;}#sk-container-id-52 div.sk-label input.sk-toggleable__control:checked~label.sk-toggleable__label {background-color: #d4ebff;}#sk-container-id-52 input.sk-hidden--visually {border: 0;clip: rect(1px 1px 1px 1px);clip: rect(1px, 1px, 1px, 1px);height: 1px;margin: -1px;overflow: hidden;padding: 0;position: absolute;width: 1px;}#sk-container-id-52 div.sk-estimator {font-family: monospace;background-color: #f0f8ff;border: 1px dotted black;border-radius: 0.25em;box-sizing: border-box;margin-bottom: 0.5em;}#sk-container-id-52 div.sk-estimator:hover {background-color: #d4ebff;}#sk-container-id-52 div.sk-parallel-item::after {content: \"\";width: 100%;border-bottom: 1px solid gray;flex-grow: 1;}#sk-container-id-52 div.sk-label:hover label.sk-toggleable__label {background-color: #d4ebff;}#sk-container-id-52 div.sk-serial::before {content: \"\";position: absolute;border-left: 1px solid gray;box-sizing: border-box;top: 0;bottom: 0;left: 50%;z-index: 0;}#sk-container-id-52 div.sk-serial {display: flex;flex-direction: column;align-items: center;background-color: white;padding-right: 0.2em;padding-left: 0.2em;position: relative;}#sk-container-id-52 div.sk-item {position: relative;z-index: 1;}#sk-container-id-52 div.sk-parallel {display: flex;align-items: stretch;justify-content: center;background-color: white;position: relative;}#sk-container-id-52 div.sk-item::before, #sk-container-id-52 div.sk-parallel-item::before {content: \"\";position: absolute;border-left: 1px solid gray;box-sizing: border-box;top: 0;bottom: 0;left: 50%;z-index: -1;}#sk-container-id-52 div.sk-parallel-item {display: flex;flex-direction: column;z-index: 1;position: relative;background-color: white;}#sk-container-id-52 div.sk-parallel-item:first-child::after {align-self: flex-end;width: 50%;}#sk-container-id-52 div.sk-parallel-item:last-child::after {align-self: flex-start;width: 50%;}#sk-container-id-52 div.sk-parallel-item:only-child::after {width: 0;}#sk-container-id-52 div.sk-dashed-wrapped {border: 1px dashed gray;margin: 0 0.4em 0.5em 0.4em;box-sizing: border-box;padding-bottom: 0.4em;background-color: white;}#sk-container-id-52 div.sk-label label {font-family: monospace;font-weight: bold;display: inline-block;line-height: 1.2em;}#sk-container-id-52 div.sk-label-container {text-align: center;}#sk-container-id-52 div.sk-container {/* jupyter's `normalize.less` sets `[hidden] { display: none; }` but bootstrap.min.css set `[hidden] { display: none !important; }` so we also need the `!important` here to be able to override the default hidden behavior on the sphinx rendered scikit-learn.org. See: https://github.com/scikit-learn/scikit-learn/issues/21755 */display: inline-block !important;position: relative;}#sk-container-id-52 div.sk-text-repr-fallback {display: none;}</style><div id=\"sk-container-id-52\" class=\"sk-top-container\"><div class=\"sk-text-repr-fallback\"><pre>ExtraTreesClassifier(random_state=0)</pre><b>In a Jupyter environment, please rerun this cell to show the HTML representation or trust the notebook. <br />On GitHub, the HTML representation is unable to render, please try loading this page with nbviewer.org.</b></div><div class=\"sk-container\" hidden><div class=\"sk-item\"><div class=\"sk-estimator sk-toggleable\"><input class=\"sk-toggleable__control sk-hidden--visually\" id=\"sk-estimator-id-56\" type=\"checkbox\" checked><label for=\"sk-estimator-id-56\" class=\"sk-toggleable__label sk-toggleable__label-arrow\">ExtraTreesClassifier</label><div class=\"sk-toggleable__content\"><pre>ExtraTreesClassifier(random_state=0)</pre></div></div></div></div></div>"
            ]
          },
          "metadata": {},
          "execution_count": 462
        }
      ],
      "source": [
        "from sklearn.ensemble import ExtraTreesClassifier\n",
        "classifier = ExtraTreesClassifier(n_estimators=100, random_state=0)\n",
        "classifier.fit(X_train, y_train)\n"
      ]
    },
    {
      "cell_type": "code",
      "execution_count": 463,
      "metadata": {
        "id": "_XqiZKu9CfZG",
        "colab": {
          "base_uri": "https://localhost:8080/"
        },
        "outputId": "37f30361-1cdb-476c-c33d-52fdbe87fcf4"
      },
      "outputs": [
        {
          "output_type": "stream",
          "name": "stdout",
          "text": [
            "[[37  3  1  0  0]\n",
            " [ 6  6  0  1  1]\n",
            " [ 4  3  1  1  0]\n",
            " [ 2  1  2  3  1]\n",
            " [ 0  1  0  0  2]]\n"
          ]
        },
        {
          "output_type": "execute_result",
          "data": {
            "text/plain": [
              "0.6447368421052632"
            ]
          },
          "metadata": {},
          "execution_count": 463
        }
      ],
      "source": [
        "from sklearn.metrics import confusion_matrix, accuracy_score\n",
        "y_pred = classifier.predict(X_test)\n",
        "cm = confusion_matrix(y_test, y_pred)\n",
        "print(cm)\n",
        "accuracy_score(y_test, y_pred)"
      ]
    },
    {
      "cell_type": "markdown",
      "source": [
        "#building an ANN"
      ],
      "metadata": {
        "id": "gYAaYccdvh1L"
      }
    },
    {
      "cell_type": "code",
      "source": [
        "import numpy as np\n",
        "import tensorflow as tf\n",
        "import keras\n",
        "from keras.models import Sequential\n",
        "from keras.layers import Dense\n",
        "from keras.optimizers import Adam\n",
        "\n",
        "size_input_layer = X_train.shape[1]\n",
        "size_hidden_layer = (2*size_input_layer // 3) + 2\n",
        "\n",
        "model = Sequential([\n",
        "    Dense(units=size_hidden_layer, input_shape=(size_input_layer,), activation='relu'),\n",
        "\n",
        "    Dense(units=1, activation='sigmoid')\n",
        "])\n",
        "\n",
        "model.compile(\n",
        "    optimizer=Adam(learning_rate=0.001),\n",
        "    loss='binary_crossentropy',\n",
        "    metrics=['accuracy']\n",
        ")\n"
      ],
      "metadata": {
        "id": "phgVx4ytvmMj",
        "colab": {
          "base_uri": "https://localhost:8080/"
        },
        "outputId": "b97926cd-3345-4b07-8e87-deca2b64859b"
      },
      "execution_count": 464,
      "outputs": [
        {
          "output_type": "stream",
          "name": "stderr",
          "text": [
            "/usr/local/lib/python3.10/dist-packages/keras/src/layers/core/dense.py:87: UserWarning: Do not pass an `input_shape`/`input_dim` argument to a layer. When using Sequential models, prefer using an `Input(shape)` object as the first layer in the model instead.\n",
            "  super().__init__(activity_regularizer=activity_regularizer, **kwargs)\n"
          ]
        }
      ]
    },
    {
      "cell_type": "code",
      "source": [
        "model.fit(\n",
        "    x=X_train,\n",
        "    y=y_train,\n",
        "    batch_size=3,\n",
        "    epochs=100,\n",
        "    validation_split = 0.1,\n",
        "    shuffle=True,\n",
        "    verbose=2\n",
        ")"
      ],
      "metadata": {
        "colab": {
          "base_uri": "https://localhost:8080/"
        },
        "collapsed": true,
        "id": "gKB-wa4Ox14e",
        "outputId": "e043f6b9-8746-40c0-ee68-519d1e489440"
      },
      "execution_count": 465,
      "outputs": [
        {
          "output_type": "stream",
          "name": "stdout",
          "text": [
            "Epoch 1/100\n",
            "102/102 - 1s - 14ms/step - accuracy: 0.1961 - loss: 0.0474 - val_accuracy: 0.0000e+00 - val_loss: -3.5345e+00\n",
            "Epoch 2/100\n",
            "102/102 - 0s - 4ms/step - accuracy: 0.1340 - loss: -1.9451e+00 - val_accuracy: 0.0000e+00 - val_loss: -9.7041e+00\n",
            "Epoch 3/100\n",
            "102/102 - 0s - 3ms/step - accuracy: 0.1340 - loss: -4.0565e+00 - val_accuracy: 0.0000e+00 - val_loss: -1.6876e+01\n",
            "Epoch 4/100\n",
            "102/102 - 0s - 3ms/step - accuracy: 0.1340 - loss: -6.5222e+00 - val_accuracy: 0.0000e+00 - val_loss: -2.5671e+01\n",
            "Epoch 5/100\n",
            "102/102 - 0s - 3ms/step - accuracy: 0.1340 - loss: -9.5345e+00 - val_accuracy: 0.0000e+00 - val_loss: -3.6872e+01\n",
            "Epoch 6/100\n",
            "102/102 - 0s - 3ms/step - accuracy: 0.1340 - loss: -1.3184e+01 - val_accuracy: 0.0000e+00 - val_loss: -4.9320e+01\n",
            "Epoch 7/100\n",
            "102/102 - 0s - 3ms/step - accuracy: 0.1340 - loss: -1.7368e+01 - val_accuracy: 0.0000e+00 - val_loss: -6.4041e+01\n",
            "Epoch 8/100\n",
            "102/102 - 0s - 3ms/step - accuracy: 0.1340 - loss: -2.2156e+01 - val_accuracy: 0.0000e+00 - val_loss: -8.0629e+01\n",
            "Epoch 9/100\n",
            "102/102 - 0s - 3ms/step - accuracy: 0.1340 - loss: -2.7503e+01 - val_accuracy: 0.0000e+00 - val_loss: -9.8997e+01\n",
            "Epoch 10/100\n",
            "102/102 - 0s - 3ms/step - accuracy: 0.1340 - loss: -3.3391e+01 - val_accuracy: 0.0000e+00 - val_loss: -1.1927e+02\n",
            "Epoch 11/100\n",
            "102/102 - 0s - 3ms/step - accuracy: 0.1340 - loss: -3.9779e+01 - val_accuracy: 0.0000e+00 - val_loss: -1.4062e+02\n",
            "Epoch 12/100\n",
            "102/102 - 0s - 3ms/step - accuracy: 0.1340 - loss: -4.6573e+01 - val_accuracy: 0.0000e+00 - val_loss: -1.6436e+02\n",
            "Epoch 13/100\n",
            "102/102 - 0s - 3ms/step - accuracy: 0.1340 - loss: -5.3881e+01 - val_accuracy: 0.0000e+00 - val_loss: -1.8841e+02\n",
            "Epoch 14/100\n",
            "102/102 - 0s - 3ms/step - accuracy: 0.1340 - loss: -6.1599e+01 - val_accuracy: 0.0000e+00 - val_loss: -2.1425e+02\n",
            "Epoch 15/100\n",
            "102/102 - 0s - 3ms/step - accuracy: 0.1340 - loss: -6.9763e+01 - val_accuracy: 0.0000e+00 - val_loss: -2.4206e+02\n",
            "Epoch 16/100\n",
            "102/102 - 0s - 3ms/step - accuracy: 0.1340 - loss: -7.8382e+01 - val_accuracy: 0.0000e+00 - val_loss: -2.7176e+02\n",
            "Epoch 17/100\n",
            "102/102 - 0s - 3ms/step - accuracy: 0.1340 - loss: -8.7451e+01 - val_accuracy: 0.0000e+00 - val_loss: -3.0152e+02\n",
            "Epoch 18/100\n",
            "102/102 - 0s - 3ms/step - accuracy: 0.1340 - loss: -9.6923e+01 - val_accuracy: 0.0000e+00 - val_loss: -3.3250e+02\n",
            "Epoch 19/100\n",
            "102/102 - 0s - 3ms/step - accuracy: 0.1340 - loss: -1.0672e+02 - val_accuracy: 0.0000e+00 - val_loss: -3.6484e+02\n",
            "Epoch 20/100\n",
            "102/102 - 0s - 3ms/step - accuracy: 0.1340 - loss: -1.1698e+02 - val_accuracy: 0.0000e+00 - val_loss: -3.9925e+02\n",
            "Epoch 21/100\n",
            "102/102 - 1s - 6ms/step - accuracy: 0.1340 - loss: -1.2773e+02 - val_accuracy: 0.0000e+00 - val_loss: -4.3409e+02\n",
            "Epoch 22/100\n",
            "102/102 - 1s - 6ms/step - accuracy: 0.1340 - loss: -1.3887e+02 - val_accuracy: 0.0000e+00 - val_loss: -4.7248e+02\n",
            "Epoch 23/100\n",
            "102/102 - 1s - 6ms/step - accuracy: 0.1340 - loss: -1.5036e+02 - val_accuracy: 0.0000e+00 - val_loss: -5.1103e+02\n",
            "Epoch 24/100\n",
            "102/102 - 1s - 6ms/step - accuracy: 0.1340 - loss: -1.6218e+02 - val_accuracy: 0.0000e+00 - val_loss: -5.4970e+02\n",
            "Epoch 25/100\n",
            "102/102 - 0s - 2ms/step - accuracy: 0.1340 - loss: -1.7430e+02 - val_accuracy: 0.0000e+00 - val_loss: -5.8943e+02\n",
            "Epoch 26/100\n",
            "102/102 - 0s - 3ms/step - accuracy: 0.1340 - loss: -1.8687e+02 - val_accuracy: 0.0000e+00 - val_loss: -6.3035e+02\n",
            "Epoch 27/100\n",
            "102/102 - 0s - 3ms/step - accuracy: 0.1340 - loss: -1.9978e+02 - val_accuracy: 0.0000e+00 - val_loss: -6.7158e+02\n",
            "Epoch 28/100\n",
            "102/102 - 0s - 3ms/step - accuracy: 0.1340 - loss: -2.1302e+02 - val_accuracy: 0.0000e+00 - val_loss: -7.1662e+02\n",
            "Epoch 29/100\n",
            "102/102 - 0s - 3ms/step - accuracy: 0.1340 - loss: -2.2678e+02 - val_accuracy: 0.0000e+00 - val_loss: -7.6230e+02\n",
            "Epoch 30/100\n",
            "102/102 - 0s - 3ms/step - accuracy: 0.1340 - loss: -2.4081e+02 - val_accuracy: 0.0000e+00 - val_loss: -8.0903e+02\n",
            "Epoch 31/100\n",
            "102/102 - 0s - 3ms/step - accuracy: 0.1340 - loss: -2.5529e+02 - val_accuracy: 0.0000e+00 - val_loss: -8.5567e+02\n",
            "Epoch 32/100\n",
            "102/102 - 0s - 3ms/step - accuracy: 0.1340 - loss: -2.7001e+02 - val_accuracy: 0.0000e+00 - val_loss: -9.0218e+02\n",
            "Epoch 33/100\n",
            "102/102 - 0s - 2ms/step - accuracy: 0.1340 - loss: -2.8502e+02 - val_accuracy: 0.0000e+00 - val_loss: -9.5277e+02\n",
            "Epoch 34/100\n",
            "102/102 - 0s - 3ms/step - accuracy: 0.1340 - loss: -3.0054e+02 - val_accuracy: 0.0000e+00 - val_loss: -1.0028e+03\n",
            "Epoch 35/100\n",
            "102/102 - 0s - 2ms/step - accuracy: 0.1340 - loss: -3.1621e+02 - val_accuracy: 0.0000e+00 - val_loss: -1.0571e+03\n",
            "Epoch 36/100\n",
            "102/102 - 0s - 3ms/step - accuracy: 0.1340 - loss: -3.3253e+02 - val_accuracy: 0.0000e+00 - val_loss: -1.1076e+03\n",
            "Epoch 37/100\n",
            "102/102 - 0s - 3ms/step - accuracy: 0.1340 - loss: -3.4874e+02 - val_accuracy: 0.0000e+00 - val_loss: -1.1605e+03\n",
            "Epoch 38/100\n",
            "102/102 - 0s - 3ms/step - accuracy: 0.1340 - loss: -3.6530e+02 - val_accuracy: 0.0000e+00 - val_loss: -1.2166e+03\n",
            "Epoch 39/100\n",
            "102/102 - 0s - 3ms/step - accuracy: 0.1340 - loss: -3.8222e+02 - val_accuracy: 0.0000e+00 - val_loss: -1.2710e+03\n",
            "Epoch 40/100\n",
            "102/102 - 0s - 3ms/step - accuracy: 0.1340 - loss: -3.9926e+02 - val_accuracy: 0.0000e+00 - val_loss: -1.3279e+03\n",
            "Epoch 41/100\n",
            "102/102 - 0s - 3ms/step - accuracy: 0.1340 - loss: -4.1674e+02 - val_accuracy: 0.0000e+00 - val_loss: -1.3826e+03\n",
            "Epoch 42/100\n",
            "102/102 - 0s - 3ms/step - accuracy: 0.1340 - loss: -4.3430e+02 - val_accuracy: 0.0000e+00 - val_loss: -1.4431e+03\n",
            "Epoch 43/100\n",
            "102/102 - 0s - 3ms/step - accuracy: 0.1340 - loss: -4.5226e+02 - val_accuracy: 0.0000e+00 - val_loss: -1.5016e+03\n",
            "Epoch 44/100\n",
            "102/102 - 0s - 3ms/step - accuracy: 0.1340 - loss: -4.7051e+02 - val_accuracy: 0.0000e+00 - val_loss: -1.5592e+03\n",
            "Epoch 45/100\n",
            "102/102 - 0s - 2ms/step - accuracy: 0.1340 - loss: -4.8896e+02 - val_accuracy: 0.0000e+00 - val_loss: -1.6202e+03\n",
            "Epoch 46/100\n",
            "102/102 - 0s - 3ms/step - accuracy: 0.1340 - loss: -5.0788e+02 - val_accuracy: 0.0000e+00 - val_loss: -1.6817e+03\n",
            "Epoch 47/100\n",
            "102/102 - 0s - 3ms/step - accuracy: 0.1340 - loss: -5.2706e+02 - val_accuracy: 0.0000e+00 - val_loss: -1.7447e+03\n",
            "Epoch 48/100\n",
            "102/102 - 0s - 3ms/step - accuracy: 0.1340 - loss: -5.4641e+02 - val_accuracy: 0.0000e+00 - val_loss: -1.8099e+03\n",
            "Epoch 49/100\n",
            "102/102 - 0s - 3ms/step - accuracy: 0.1340 - loss: -5.6633e+02 - val_accuracy: 0.0000e+00 - val_loss: -1.8735e+03\n",
            "Epoch 50/100\n",
            "102/102 - 0s - 3ms/step - accuracy: 0.1340 - loss: -5.8641e+02 - val_accuracy: 0.0000e+00 - val_loss: -1.9400e+03\n",
            "Epoch 51/100\n",
            "102/102 - 0s - 3ms/step - accuracy: 0.1340 - loss: -6.0686e+02 - val_accuracy: 0.0000e+00 - val_loss: -2.0055e+03\n",
            "Epoch 52/100\n",
            "102/102 - 0s - 2ms/step - accuracy: 0.1340 - loss: -6.2748e+02 - val_accuracy: 0.0000e+00 - val_loss: -2.0739e+03\n",
            "Epoch 53/100\n",
            "102/102 - 0s - 3ms/step - accuracy: 0.1340 - loss: -6.4836e+02 - val_accuracy: 0.0000e+00 - val_loss: -2.1418e+03\n",
            "Epoch 54/100\n",
            "102/102 - 0s - 3ms/step - accuracy: 0.1340 - loss: -6.6976e+02 - val_accuracy: 0.0000e+00 - val_loss: -2.2104e+03\n",
            "Epoch 55/100\n",
            "102/102 - 0s - 3ms/step - accuracy: 0.1340 - loss: -6.9130e+02 - val_accuracy: 0.0000e+00 - val_loss: -2.2796e+03\n",
            "Epoch 56/100\n",
            "102/102 - 0s - 3ms/step - accuracy: 0.1340 - loss: -7.1299e+02 - val_accuracy: 0.0000e+00 - val_loss: -2.3517e+03\n",
            "Epoch 57/100\n",
            "102/102 - 0s - 3ms/step - accuracy: 0.1340 - loss: -7.3507e+02 - val_accuracy: 0.0000e+00 - val_loss: -2.4214e+03\n",
            "Epoch 58/100\n",
            "102/102 - 0s - 3ms/step - accuracy: 0.1340 - loss: -7.5717e+02 - val_accuracy: 0.0000e+00 - val_loss: -2.4946e+03\n",
            "Epoch 59/100\n",
            "102/102 - 0s - 3ms/step - accuracy: 0.1340 - loss: -7.7968e+02 - val_accuracy: 0.0000e+00 - val_loss: -2.5678e+03\n",
            "Epoch 60/100\n",
            "102/102 - 0s - 3ms/step - accuracy: 0.1340 - loss: -8.0240e+02 - val_accuracy: 0.0000e+00 - val_loss: -2.6445e+03\n",
            "Epoch 61/100\n",
            "102/102 - 1s - 6ms/step - accuracy: 0.1340 - loss: -8.2564e+02 - val_accuracy: 0.0000e+00 - val_loss: -2.7176e+03\n",
            "Epoch 62/100\n",
            "102/102 - 0s - 3ms/step - accuracy: 0.1340 - loss: -8.4884e+02 - val_accuracy: 0.0000e+00 - val_loss: -2.7931e+03\n",
            "Epoch 63/100\n",
            "102/102 - 0s - 3ms/step - accuracy: 0.1340 - loss: -8.7228e+02 - val_accuracy: 0.0000e+00 - val_loss: -2.8727e+03\n",
            "Epoch 64/100\n",
            "102/102 - 1s - 6ms/step - accuracy: 0.1340 - loss: -8.9613e+02 - val_accuracy: 0.0000e+00 - val_loss: -2.9481e+03\n",
            "Epoch 65/100\n",
            "102/102 - 1s - 6ms/step - accuracy: 0.1340 - loss: -9.2018e+02 - val_accuracy: 0.0000e+00 - val_loss: -3.0236e+03\n",
            "Epoch 66/100\n",
            "102/102 - 1s - 6ms/step - accuracy: 0.1340 - loss: -9.4419e+02 - val_accuracy: 0.0000e+00 - val_loss: -3.1080e+03\n",
            "Epoch 67/100\n",
            "102/102 - 0s - 4ms/step - accuracy: 0.1340 - loss: -9.6909e+02 - val_accuracy: 0.0000e+00 - val_loss: -3.1851e+03\n",
            "Epoch 68/100\n",
            "102/102 - 0s - 2ms/step - accuracy: 0.1340 - loss: -9.9408e+02 - val_accuracy: 0.0000e+00 - val_loss: -3.2662e+03\n",
            "Epoch 69/100\n",
            "102/102 - 0s - 3ms/step - accuracy: 0.1340 - loss: -1.0193e+03 - val_accuracy: 0.0000e+00 - val_loss: -3.3511e+03\n",
            "Epoch 70/100\n",
            "102/102 - 0s - 3ms/step - accuracy: 0.1340 - loss: -1.0452e+03 - val_accuracy: 0.0000e+00 - val_loss: -3.4336e+03\n",
            "Epoch 71/100\n",
            "102/102 - 0s - 3ms/step - accuracy: 0.1340 - loss: -1.0712e+03 - val_accuracy: 0.0000e+00 - val_loss: -3.5195e+03\n",
            "Epoch 72/100\n",
            "102/102 - 0s - 3ms/step - accuracy: 0.1340 - loss: -1.0976e+03 - val_accuracy: 0.0000e+00 - val_loss: -3.6026e+03\n",
            "Epoch 73/100\n",
            "102/102 - 0s - 3ms/step - accuracy: 0.1340 - loss: -1.1240e+03 - val_accuracy: 0.0000e+00 - val_loss: -3.6902e+03\n",
            "Epoch 74/100\n",
            "102/102 - 0s - 2ms/step - accuracy: 0.1340 - loss: -1.1509e+03 - val_accuracy: 0.0000e+00 - val_loss: -3.7769e+03\n",
            "Epoch 75/100\n",
            "102/102 - 0s - 3ms/step - accuracy: 0.1340 - loss: -1.1778e+03 - val_accuracy: 0.0000e+00 - val_loss: -3.8685e+03\n",
            "Epoch 76/100\n",
            "102/102 - 0s - 3ms/step - accuracy: 0.1340 - loss: -1.2051e+03 - val_accuracy: 0.0000e+00 - val_loss: -3.9593e+03\n",
            "Epoch 77/100\n",
            "102/102 - 0s - 3ms/step - accuracy: 0.1340 - loss: -1.2329e+03 - val_accuracy: 0.0000e+00 - val_loss: -4.0443e+03\n",
            "Epoch 78/100\n",
            "102/102 - 0s - 3ms/step - accuracy: 0.1340 - loss: -1.2605e+03 - val_accuracy: 0.0000e+00 - val_loss: -4.1345e+03\n",
            "Epoch 79/100\n",
            "102/102 - 0s - 3ms/step - accuracy: 0.1340 - loss: -1.2883e+03 - val_accuracy: 0.0000e+00 - val_loss: -4.2299e+03\n",
            "Epoch 80/100\n",
            "102/102 - 0s - 2ms/step - accuracy: 0.1340 - loss: -1.3168e+03 - val_accuracy: 0.0000e+00 - val_loss: -4.3197e+03\n",
            "Epoch 81/100\n",
            "102/102 - 0s - 3ms/step - accuracy: 0.1340 - loss: -1.3454e+03 - val_accuracy: 0.0000e+00 - val_loss: -4.4122e+03\n",
            "Epoch 82/100\n",
            "102/102 - 0s - 2ms/step - accuracy: 0.1340 - loss: -1.3741e+03 - val_accuracy: 0.0000e+00 - val_loss: -4.5061e+03\n",
            "Epoch 83/100\n",
            "102/102 - 0s - 3ms/step - accuracy: 0.1340 - loss: -1.4031e+03 - val_accuracy: 0.0000e+00 - val_loss: -4.5986e+03\n",
            "Epoch 84/100\n",
            "102/102 - 0s - 2ms/step - accuracy: 0.1340 - loss: -1.4325e+03 - val_accuracy: 0.0000e+00 - val_loss: -4.6921e+03\n",
            "Epoch 85/100\n",
            "102/102 - 0s - 3ms/step - accuracy: 0.1340 - loss: -1.4620e+03 - val_accuracy: 0.0000e+00 - val_loss: -4.7911e+03\n",
            "Epoch 86/100\n",
            "102/102 - 0s - 3ms/step - accuracy: 0.1340 - loss: -1.4918e+03 - val_accuracy: 0.0000e+00 - val_loss: -4.8853e+03\n",
            "Epoch 87/100\n",
            "102/102 - 0s - 2ms/step - accuracy: 0.1340 - loss: -1.5219e+03 - val_accuracy: 0.0000e+00 - val_loss: -4.9885e+03\n",
            "Epoch 88/100\n",
            "102/102 - 0s - 2ms/step - accuracy: 0.1340 - loss: -1.5525e+03 - val_accuracy: 0.0000e+00 - val_loss: -5.0858e+03\n",
            "Epoch 89/100\n",
            "102/102 - 0s - 2ms/step - accuracy: 0.1340 - loss: -1.5830e+03 - val_accuracy: 0.0000e+00 - val_loss: -5.1868e+03\n",
            "Epoch 90/100\n",
            "102/102 - 0s - 3ms/step - accuracy: 0.1340 - loss: -1.6138e+03 - val_accuracy: 0.0000e+00 - val_loss: -5.2833e+03\n",
            "Epoch 91/100\n",
            "102/102 - 0s - 3ms/step - accuracy: 0.1340 - loss: -1.6445e+03 - val_accuracy: 0.0000e+00 - val_loss: -5.3856e+03\n",
            "Epoch 92/100\n",
            "102/102 - 0s - 2ms/step - accuracy: 0.1340 - loss: -1.6757e+03 - val_accuracy: 0.0000e+00 - val_loss: -5.4876e+03\n",
            "Epoch 93/100\n",
            "102/102 - 0s - 3ms/step - accuracy: 0.1340 - loss: -1.7072e+03 - val_accuracy: 0.0000e+00 - val_loss: -5.5867e+03\n",
            "Epoch 94/100\n",
            "102/102 - 0s - 2ms/step - accuracy: 0.1340 - loss: -1.7388e+03 - val_accuracy: 0.0000e+00 - val_loss: -5.6924e+03\n",
            "Epoch 95/100\n",
            "102/102 - 0s - 3ms/step - accuracy: 0.1340 - loss: -1.7708e+03 - val_accuracy: 0.0000e+00 - val_loss: -5.7971e+03\n",
            "Epoch 96/100\n",
            "102/102 - 0s - 3ms/step - accuracy: 0.1340 - loss: -1.8032e+03 - val_accuracy: 0.0000e+00 - val_loss: -5.9016e+03\n",
            "Epoch 97/100\n",
            "102/102 - 0s - 2ms/step - accuracy: 0.1340 - loss: -1.8357e+03 - val_accuracy: 0.0000e+00 - val_loss: -6.0073e+03\n",
            "Epoch 98/100\n",
            "102/102 - 0s - 3ms/step - accuracy: 0.1340 - loss: -1.8685e+03 - val_accuracy: 0.0000e+00 - val_loss: -6.1158e+03\n",
            "Epoch 99/100\n",
            "102/102 - 0s - 3ms/step - accuracy: 0.1340 - loss: -1.9017e+03 - val_accuracy: 0.0000e+00 - val_loss: -6.2199e+03\n",
            "Epoch 100/100\n",
            "102/102 - 0s - 3ms/step - accuracy: 0.1340 - loss: -1.9347e+03 - val_accuracy: 0.0000e+00 - val_loss: -6.3302e+03\n"
          ]
        },
        {
          "output_type": "execute_result",
          "data": {
            "text/plain": [
              "<keras.src.callbacks.history.History at 0x78a0a3fe8070>"
            ]
          },
          "metadata": {},
          "execution_count": 465
        }
      ]
    },
    {
      "cell_type": "code",
      "source": [
        "from sklearn.metrics import confusion_matrix, accuracy_score\n",
        "\n",
        "y_pred = model.predict(X_test)\n",
        "y_pred = (y_pred >= 0.5).astype(int)\n",
        "\n",
        "cm = confusion_matrix(y_test, y_pred)\n",
        "print(cm)\n",
        "accuracy_score(y_test, y_pred)"
      ],
      "metadata": {
        "colab": {
          "base_uri": "https://localhost:8080/"
        },
        "id": "OL25EXpm4mxD",
        "outputId": "d166dc11-4c10-46e0-a4c9-62e95e1c205d"
      },
      "execution_count": 466,
      "outputs": [
        {
          "output_type": "stream",
          "name": "stderr",
          "text": [
            "WARNING:tensorflow:5 out of the last 7 calls to <function TensorFlowTrainer.make_predict_function.<locals>.one_step_on_data_distributed at 0x78a0a3e0cdc0> triggered tf.function retracing. Tracing is expensive and the excessive number of tracings could be due to (1) creating @tf.function repeatedly in a loop, (2) passing tensors with different shapes, (3) passing Python objects instead of tensors. For (1), please define your @tf.function outside of the loop. For (2), @tf.function has reduce_retracing=True option that can avoid unnecessary retracing. For (3), please refer to https://www.tensorflow.org/guide/function#controlling_retracing and https://www.tensorflow.org/api_docs/python/tf/function for  more details.\n"
          ]
        },
        {
          "output_type": "stream",
          "name": "stdout",
          "text": [
            "\r\u001b[1m1/3\u001b[0m \u001b[32m━━━━━━\u001b[0m\u001b[37m━━━━━━━━━━━━━━\u001b[0m \u001b[1m0s\u001b[0m 50ms/step"
          ]
        },
        {
          "output_type": "stream",
          "name": "stderr",
          "text": [
            "WARNING:tensorflow:6 out of the last 9 calls to <function TensorFlowTrainer.make_predict_function.<locals>.one_step_on_data_distributed at 0x78a0a3e0cdc0> triggered tf.function retracing. Tracing is expensive and the excessive number of tracings could be due to (1) creating @tf.function repeatedly in a loop, (2) passing tensors with different shapes, (3) passing Python objects instead of tensors. For (1), please define your @tf.function outside of the loop. For (2), @tf.function has reduce_retracing=True option that can avoid unnecessary retracing. For (3), please refer to https://www.tensorflow.org/guide/function#controlling_retracing and https://www.tensorflow.org/api_docs/python/tf/function for  more details.\n"
          ]
        },
        {
          "output_type": "stream",
          "name": "stdout",
          "text": [
            "\b\b\b\b\b\b\b\b\b\b\b\b\b\b\b\b\b\b\b\b\b\b\b\b\b\b\b\b\b\b\b\b\b\b\b\b\b\r\u001b[1m3/3\u001b[0m \u001b[32m━━━━━━━━━━━━━━━━━━━━\u001b[0m\u001b[37m\u001b[0m \u001b[1m0s\u001b[0m 18ms/step\n",
            "[[ 0 41  0  0  0]\n",
            " [ 0 14  0  0  0]\n",
            " [ 0  9  0  0  0]\n",
            " [ 0  9  0  0  0]\n",
            " [ 0  3  0  0  0]]\n"
          ]
        },
        {
          "output_type": "execute_result",
          "data": {
            "text/plain": [
              "0.18421052631578946"
            ]
          },
          "metadata": {},
          "execution_count": 466
        }
      ]
    }
  ],
  "metadata": {
    "colab": {
      "provenance": []
    },
    "kernelspec": {
      "display_name": "Python 3",
      "name": "python3"
    },
    "language_info": {
      "name": "python"
    }
  },
  "nbformat": 4,
  "nbformat_minor": 0
}